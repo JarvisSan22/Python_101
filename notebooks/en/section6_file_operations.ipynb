{
 "cells": [
  {
   "cell_type": "markdown",
   "metadata": {},
   "source": [
    "# Section 6: File Operations and Exception Handling - Workshop Notebook\n",
    "\n",
    "This notebook will guide you through working with files in Python and handling exceptions. We'll use Japanese fish examples throughout to make the learning experience more engaging."
   ]
  },
  {
   "cell_type": "markdown",
   "metadata": {},
   "source": [
    "## Part 1: File Input/Output Operations\n",
    "\n",
    "Python provides built-in functions and methods for working with files. Let's explore how to read from and write to files."
   ]
  },
  {
   "cell_type": "markdown",
   "metadata": {},
   "source": [
    "### Opening and Closing Files\n",
    "\n",
    "There are two main ways to open files in Python:\n",
    "1. Using the `open()` function directly\n",
    "2. Using a context manager with the `with` statement (recommended)"
   ]
  },
  {
   "cell_type": "code",
   "execution_count": null,
   "metadata": {},
   "outputs": [],
   "source": [
    "# Method 1: Using open() directly\n",
    "file = open('fish_data.txt', 'w')  # Open for writing\n",
    "file.write(\"Koi: 1.2 kg, freshwater\\n\")\n",
    "file.write(\"Fugu: 2.5 kg, saltwater\\n\")\n",
    "file.close()  # Important: Always close the file when done\n",
    "\n",
    "# Method 2: Using a context manager (recommended)\n",
    "with open('fish_data.txt', 'a') as file:  # Open for appending\n",
    "    file.write(\"Tai: 3.7 kg, saltwater\\n\")\n",
    "    file.write(\"Unagi: 1.8 kg, freshwater\\n\")\n",
    "    # No need to close the file - it's handled automatically\n",
    "\n",
    "print(\"File operations completed.\")"
   ]
  },
  {
   "cell_type": "markdown",
   "metadata": {},
   "source": [
    "### Common File Modes\n",
    "\n",
    "When opening a file, you specify a mode that determines how the file will be used:\n",
    "\n",
    "- `'r'` - Read (default)\n",
    "- `'w'` - Write (creates new file or truncates existing file)\n",
    "- `'a'` - Append (adds to end of file)\n",
    "- `'b'` - Binary mode (e.g., 'rb', 'wb')\n",
    "- `'t'` - Text mode (default)\n",
    "- `'+'` - Read and write (e.g., 'r+')"
   ]
  },
  {
   "cell_type": "markdown",
   "metadata": {},
   "source": [
    "### Reading from Files\n",
    "\n",
    "There are several ways to read data from a file:"
   ]
  },
  {
   "cell_type": "code",
   "execution_count": null,
   "metadata": {},
   "outputs": [],
   "source": [
    "# Reading the entire file at once\n",
    "with open('fish_data.txt', 'r') as file:\n",
    "    content = file.read()\n",
    "    print(\"--- Entire file content ---\")\n",
    "    print(content)\n",
    "\n",
    "# Reading line by line\n",
    "with open('fish_data.txt', 'r') as file:\n",
    "    print(\"\\n--- Line by line ---\")\n",
    "    for line in file:\n",
    "        print(f\"Line: {line.strip()}\")  # strip() removes trailing newline\n",
    "\n",
    "# Reading all lines into a list\n",
    "with open('fish_data.txt', 'r') as file:\n",
    "    lines = file.readlines()\n",
    "    print(\"\\n--- All lines as a list ---\")\n",
    "    print(lines)\n",
    "    \n",
    "    print(\"\\n--- Processing the list of lines ---\")\n",
    "    for i, line in enumerate(lines):\n",
    "        print(f\"Line {i+1}: {line.strip()}\")\n",
    "\n",
    "# Reading a specific number of characters\n",
    "with open('fish_data.txt', 'r') as file:\n",
    "    chunk = file.read(10)  # Read first 10 characters\n",
    "    print(\"\\n--- First 10 characters ---\")\n",
    "    print(chunk)"
   ]
  },
  {
   "cell_type": "markdown",
   "metadata": {},
   "source": [
    "### Writing to Files\n",
    "\n",
    "Let's explore different ways to write data to files:"
   ]
  },
  {
   "cell_type": "code",
   "execution_count": null,
   "metadata": {},
   "outputs": [],
   "source": [
    "# Writing a string to a file\n",
    "with open('more_fish.txt', 'w') as file:\n",
    "    file.write(\"Saba: 2.9 kg, saltwater\\n\")\n",
    "    file.write(\"Hirame: 3.2 kg, saltwater\\n\")\n",
    "    file.write(\"Anago: 1.5 kg, saltwater\\n\")\n",
    "\n",
    "# Writing multiple lines at once\n",
    "lines = [\"Maguro: 80 kg, saltwater\\n\", \n",
    "         \"Sake: 2.1 kg, both\\n\", \n",
    "         \"Hamachi: 5 kg, saltwater\\n\"]\n",
    "\n",
    "with open('more_fish.txt', 'a') as file:\n",
    "    file.writelines(lines)\n",
    "\n",
    "# Reading the file we just created\n",
    "with open('more_fish.txt', 'r') as file:\n",
    "    content = file.read()\n",
    "    print(\"--- Content of more_fish.txt ---\")\n",
    "    print(content)"
   ]
  },
  {
   "cell_type": "markdown",
   "metadata": {},
   "source": [
    "### File Positions and Seeking\n",
    "\n",
    "You can control the position within a file using `tell()` and `seek()` methods:"
   ]
  },
  {
   "cell_type": "code",
   "execution_count": null,
   "metadata": {},
   "outputs": [],
   "source": [
    "# Getting the current position\n",
    "with open('fish_data.txt', 'r') as file:\n",
    "    print(f\"Initial position: {file.tell()}\")  # 0 - start of file\n",
    "    file.read(10)\n",
    "    print(f\"After reading 10 characters: {file.tell()}\")  # 10\n",
    "\n",
    "# Changing the position (seeking)\n",
    "with open('fish_data.txt', 'r') as file:\n",
    "    file.seek(5)  # Move to the 5th byte\n",
    "    print(f\"Position after seek(5): {file.tell()}\")\n",
    "    data = file.read(10)\n",
    "    print(f\"10 characters from position 5: '{data}'\")\n",
    "    \n",
    "    # seek(offset, whence)\n",
    "    # whence: 0 = start (default), 1 = current position, 2 = end\n",
    "    file.seek(0)  # Go back to the beginning\n",
    "    print(f\"Position after seek(0): {file.tell()}\")\n",
    "    \n",
    "    # Go to the end of the file\n",
    "    file.seek(0, 2)  \n",
    "    print(f\"Position at end of file: {file.tell()}\")"
   ]
  },
  {
   "cell_type": "markdown",
   "metadata": {},
   "source": [
    "### Working with CSV Files\n",
    "\n",
    "CSV (Comma-Separated Values) is a common format for storing tabular data. Python's `csv` module makes it easy to work with CSV files:"
   ]
  },
  {
   "cell_type": "code",
   "execution_count": null,
   "metadata": {},
   "outputs": [],
   "source": [
    "import csv\n",
    "\n",
    "# Writing CSV data\n",
    "fish_data = [\n",
    "    ['Species', 'Weight (kg)', 'Habitat'],\n",
    "    ['Koi', 1.2, 'freshwater'],\n",
    "    ['Fugu', 2.5, 'saltwater'],\n",
    "    ['Tai', 3.7, 'saltwater'],\n",
    "    ['Unagi', 1.8, 'freshwater'],\n",
    "    ['Saba', 2.9, 'saltwater']\n",
    "]\n",
    "\n",
    "with open('fish_data.csv', 'w', newline='') as file:\n",
    "    writer = csv.writer(file)\n",
    "    writer.writerows(fish_data)\n",
    "\n",
    "print(\"CSV file created.\")\n",
    "\n",
    "# Reading CSV data\n",
    "with open('fish_data.csv', 'r', newline='') as file:\n",
    "    reader = csv.reader(file)\n",
    "    print(\"\\n--- CSV file content ---\")\n",
    "    for row in reader:\n",
    "        print(row)"
   ]
  },
  {
   "cell_type": "markdown",
   "metadata": {},
   "source": [
    "### Using DictReader and DictWriter\n",
    "\n",
    "The `csv` module also provides `DictReader` and `DictWriter` classes that work with dictionaries instead of lists:"
   ]
  },
  {
   "cell_type": "code",
   "execution_count": null,
   "metadata": {},
   "outputs": [],
   "source": [
    "# Using DictWriter\n",
    "fish_dict_data = [\n",
    "    {'Species': 'Koi', 'Weight (kg)': 1.2, 'Habitat': 'freshwater'},\n",
    "    {'Species': 'Fugu', 'Weight (kg)': 2.5, 'Habitat': 'saltwater'},\n",
    "    {'Species': 'Tai', 'Weight (kg)': 3.7, 'Habitat': 'saltwater'},\n",
    "    {'Species': 'Unagi', 'Weight (kg)': 1.8, 'Habitat': 'freshwater'},\n",
    "    {'Species': 'Saba', 'Weight (kg)': 2.9, 'Habitat': 'saltwater'}\n",
    "]\n",
    "\n",
    "with open('fish_dict.csv', 'w', newline='') as file:\n",
    "    fieldnames = ['Species', 'Weight (kg)', 'Habitat']\n",
    "    writer = csv.DictWriter(file, fieldnames=fieldnames)\n",
    "    writer.writeheader()\n",
    "    writer.writerows(fish_dict_data)\n",
    "\n",
    "print(\"Dictionary-based CSV file created.\")\n",
    "\n",
    "# Using DictReader\n",
    "with open('fish_dict.csv', 'r', newline='') as file:\n",
    "    reader = csv.DictReader(file)\n",
    "    print(\"\\n--- Dictionary-based CSV content ---\")\n",
    "    for row in reader:\n",
    "        print(f\"{row['Species']}: {row['Weight (kg)']} kg, {row['Habitat']}\")"
   ]
  },
  {
   "cell_type": "markdown",
   "metadata": {},
   "source": [
    "### Working with JSON Files\n",
    "\n",
    "JSON (JavaScript Object Notation) is a popular data interchange format. Python's `json` module makes it easy to work with JSON data:"
   ]
  },
  {
   "cell_type": "code",
   "execution_count": null,
   "metadata": {},
   "outputs": [],
   "source": [
    "import json\n",
    "\n",
    "# Writing JSON data\n",
    "fish_data = {\n",
    "    'fish': [\n",
    "        {'species': 'Koi', 'weight': 1.2, 'habitat': 'freshwater'},\n",
    "        {'species': 'Fugu', 'weight': 2.5, 'habitat': 'saltwater'},\n",
    "        {'species': 'Tai', 'weight': 3.7, 'habitat': 'saltwater'},\n",
    "        {'species': 'Unagi', 'weight': 1.8, 'habitat': 'freshwater'},\n",
    "        {'species': 'Saba', 'weight': 2.9, 'habitat': 'saltwater'}\n",
    "    ]\n",
    "}\n",
    "\n",
    "with open('fish_data.json', 'w') as file:\n",
    "    json.dump(fish_data, file, indent=4)\n",
    "\n",
    "print(\"JSON file created.\")\n",
    "\n",
    "# Reading JSON data\n",
    "with open('fish_data.json', 'r') as file:\n",
    "    loaded_data = json.load(file)\n",
    "    print(\"\\n--- JSON file content ---\")\n",
    "    for fish in loaded_data['fish']:\n",
    "        print(f\"{fish['species']}: {fish['weight']} kg, {fish['habitat']}\")\n",
    "\n",
    "# Converting Python objects to JSON strings\n",
    "json_string = json.dumps(fish_data, indent=4)\n",
    "print(\"\\n--- JSON string representation ---\")\n",
    "print(json_string)\n",
    "\n",
    "# Parsing JSON strings\n",
    "parsed_data = json.loads(json_string)\n",
    "print(\"\\n--- Parsed JSON data ---\")\n",
    "print(f\"Number of fish: {len(parsed_data['fish'])}\")"
   ]
  },
  {
   "cell_type": "markdown",
   "metadata": {},
   "source": [
    "### File System Operations\n",
    "\n",
    "Python's `os` and `shutil` modules provide functions for working with files and directories:"
   ]
  },
  {
   "cell_type": "code",
   "execution_count": null,
   "metadata": {},
   "outputs": [],
   "source": [
    "import os\n",
    "import shutil\n",
    "\n",
    "# Check if a file exists\n",
    "if os.path.exists('fish_data.txt'):\n",
    "    print('fish_data.txt exists')\n",
    "else:\n",
    "    print('fish_data.txt does not exist')\n",
    "\n",
    "# Get file information\n",
    "if os.path.isfile('fish_data.txt'):\n",
    "    print(f\"Size: {os.path.getsize('fish_data.txt')} bytes\")\n",
    "    print(f\"Last modified: {os.path.getmtime('fish_data.txt')}\")\n",
    "\n",
    "# Directory operations\n",
    "current_dir = os.getcwd()  # Get current working directory\n",
    "print(f\"Current directory: {current_dir}\")\n",
    "\n",
    "# List files in a directory\n",
    "files = os.listdir('.')  # '.' represents the current directory\n",
    "print(f\"Files in current directory: {files}\")\n",
    "\n",
    "# Create a new directory\n",
    "os.makedirs('fish_data_dir', exist_ok=True)\n",
    "print(\"Created directory: fish_data_dir\")\n",
    "\n",
    "# Copy a file\n",
    "shutil.copy('fish_data.txt', 'fish_data_dir/fish_data_copy.txt')\n",
    "print(\"Copied fish_data.txt to fish_data_dir/fish_data_copy.txt\")\n",
    "\n",
    "# List files in the new directory\n",
    "files = os.listdir('fish_data_dir')\n",
    "print(f\"Files in fish_data_dir: {files}\")\n",
    "\n",
    "# Clean up (uncomment if you want to remove the created files and directory)\n",
    "# os.remove('fish_data_dir/fish_data_copy.txt')\n",
    "# os.rmdir('fish_data_dir')\n",
    "# print(\"Cleaned up files and directory\")"
   ]
  },
  {
   "cell_type": "markdown",
   "metadata": {},
   "source": [
    "## Part 2: Exception Handling\n",
    "\n",
    "Exception handling is a mechanism to gracefully handle errors that occur during program execution. Let's explore how to use try/except blocks to handle exceptions."
   ]
  },
  {
   "cell_type": "markdown",
   "metadata": {},
   "source": [
    "### Common Exceptions\n",
    "\n",
    "Let's look at some common exceptions in Python:"
   ]
  },
  {
   "cell_type": "code",
   "execution_count": null,
   "metadata": {},
   "outputs": [],
   "source": [
    "# Uncomment each line to see the exception\n",
    "\n",
    "# ZeroDivisionError\n",
    "try:\n",
    "    result = 10 / 0\n",
    "except ZeroDivisionError as e:\n",
    "    print(f\"Error: {e}\")\n",
    "\n",
    "# TypeError\n",
    "try:\n",
    "    result = \"2\" + 2\n",
    "except TypeError as e:\n",
    "    print(f\"Error: {e}\")\n",
    "\n",
    "# ValueError\n",
    "try:\n",
    "    number = int(\"abc\")\n",
    "except ValueError as e:\n",
    "    print(f\"Error: {e}\")\n",
    "\n",
    "# FileNotFoundError\n",
    "try:\n",
    "    file = open(\"nonexistent_file.txt\", \"r\")\n",
    "except FileNotFoundError as e:\n",
    "    print(f\"Error: {e}\")\n",
    "\n",
    "# IndexError\n",
    "try:\n",
    "    my_list = [1, 2, 3]\n",
    "    item = my_list[10]\n",
    "except IndexError as e:\n",
    "    print(f\"Error: {e}\")\n",
    "\n",
    "# KeyError\n",
    "try:\n",
    "    my_dict = {\"a\": 1, \"b\": 2}\n",
    "    value = my_dict[\"c\"]\n",
    "except KeyError as e:\n",
    "    print(f\"Error: {e}\")\n",
    "\n",
    "# AttributeError\n",
    "try:\n",
    "    \"hello\".append(\"world\")\n",
    "except AttributeError as e:\n",
    "    print(f\"Error: {e}\")"
   ]
  },
  {
   "cell_type": "markdown",
   "metadata": {},
   "source": [
    "### Basic Exception Handling\n",
    "\n",
    "Let's explore the basic structure of exception handling in Python:"
   ]
  },
  {
   "cell_type": "code",
   "execution_count": null,
   "metadata": {},
   "outputs": [],
   "source": [
    "# Basic try/except structure\n",
    "try:\n",
    "    # Code that might raise an exception\n",
    "    file = open(\"nonexistent_file.txt\", \"r\")\n",
    "    content = file.read()\n",
    "    file.close()\n",
    "except:\n",
    "    # Code to handle the exception\n",
    "    print(\"An error occurred while reading the file\")\n",
    "\n",
    "# Handling specific exceptions\n",
    "try:\n",
    "    file = open(\"nonexistent_file.txt\", \"r\")\n",
    "    content = file.read()\n",
    "    file.close()\n",
    "except FileNotFoundError:\n",
    "    print(\"The file does not exist\")\n",
    "except PermissionError:\n",
    "    print(\"You don't have permission to read this file\")\n",
    "except Exception as e:\n",
    "    print(f\"An unexpected error occurred: {e}\")"
   ]
  },
  {
   "cell_type": "markdown",
   "metadata": {},
   "source": [
    "### The else and finally Clauses\n",
    "\n",
    "The `else` clause is executed if no exception occurs, and the `finally` clause is always executed, regardless of whether an exception occurred:"
   ]
  },
  {
   "cell_type": "code",
   "execution_count": null,
   "metadata": {},
   "outputs": [],
   "source": [
    "# Using else clause - executed if no exception occurs\n",
    "try:\n",
    "    # Let's create a file first to make sure it exists\n",
    "    with open(\"test_file.txt\", \"w\") as f:\n",
    "        f.write(\"This is a test file.\")\n",
    "    \n",
    "    # Now try to read it\n",
    "    file = open(\"test_file.txt\", \"r\")\n",
    "    cont<response clipped><NOTE>To save on context only part of this file has been shown to you. You should retry this tool after you have searched inside the file with `grep -n` in order to find the line numbers of what you are looking for.</NOTE>