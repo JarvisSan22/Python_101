{
 "cells": [
  {
   "cell_type": "markdown",
   "metadata": {},
   "source": [
    "# Section 2: Data Structures - Workshop Notebook\n",
    "\n",
    "This notebook will guide you through Python's data structures, covering:\n",
    "- Lists, Tuples, and Sets\n",
    "- Dictionaries\n",
    "- String Operations and Formatting"
   ]
  },
  {
   "cell_type": "markdown",
   "metadata": {},
   "source": [
    "## Lists\n",
    "\n",
    "Lists are ordered, mutable collections of items. They can contain elements of different types and are created using square brackets `[]`."
   ]
  },
  {
   "cell_type": "code",
   "execution_count": null,
   "metadata": {},
   "outputs": [],
   "source": [
    "# Creating a list\n",
    "japanese_fish = [\"Koi\", \"Fugu\", \"Tai\", \"Maguro\", \"Unagi\"]\n",
    "print(japanese_fish)"
   ]
  },
  {
   "cell_type": "markdown",
   "metadata": {},
   "source": [
    "### Accessing List Elements\n",
    "\n",
    "Lists are zero-indexed, meaning the first element is at index 0."
   ]
  },
  {
   "cell_type": "code",
   "execution_count": null,
   "metadata": {},
   "outputs": [],
   "source": [
    "# Accessing by index\n",
    "first_fish = japanese_fish[0]\n",
    "print(f\"First fish: {first_fish}\")\n",
    "\n",
    "# Negative indices count from the end\n",
    "last_fish = japanese_fish[-1]\n",
    "print(f\"Last fish: {last_fish}\")\n",
    "\n",
    "# Slicing: getting a portion of the list\n",
    "first_three = japanese_fish[0:3]  # Elements at indices 0, 1, and 2\n",
    "print(f\"First three fish: {first_three}\")\n",
    "\n",
    "# Slicing with default start/end\n",
    "from_beginning = japanese_fish[:2]  # First two elements\n",
    "until_end = japanese_fish[2:]       # From third element to the end\n",
    "print(f\"From beginning: {from_beginning}\")\n",
    "print(f\"Until end: {until_end}\")"
   ]
  },
  {
   "cell_type": "markdown",
   "metadata": {},
   "source": [
    "### Modifying Lists\n",
    "\n",
    "Lists are mutable, which means we can change their content after creation."
   ]
  },
  {
   "cell_type": "code",
   "execution_count": null,
   "metadata": {},
   "outputs": [],
   "source": [
    "# Create a new list to work with\n",
    "fish_tank = [\"Koi\", \"Goldfish\", \"Guppy\"]\n",
    "print(f\"Original tank: {fish_tank}\")\n",
    "\n",
    "# Changing an element\n",
    "fish_tank[1] = \"Betta\"\n",
    "print(f\"After changing element: {fish_tank}\")\n",
    "\n",
    "# Adding elements\n",
    "fish_tank.append(\"Tetra\")  # Add to the end\n",
    "print(f\"After append: {fish_tank}\")\n",
    "\n",
    "fish_tank.insert(2, \"Angelfish\")  # Insert at specific position\n",
    "print(f\"After insert: {fish_tank}\")\n",
    "\n",
    "# Removing elements\n",
    "removed_fish = fish_tank.pop()  # Remove and return the last element\n",
    "print(f\"Removed fish: {removed_fish}\")\n",
    "print(f\"After pop: {fish_tank}\")\n",
    "\n",
    "fish_tank.remove(\"Angelfish\")  # Remove by value\n",
    "print(f\"After remove: {fish_tank}\")\n",
    "\n",
    "# Extending a list\n",
    "more_fish = [\"Molly\", \"Platy\"]\n",
    "fish_tank.extend(more_fish)  # Add all elements from another list\n",
    "print(f\"After extend: {fish_tank}\")"
   ]
  },
  {
   "cell_type": "markdown",
   "metadata": {},
   "source": [
    "### List Operations and Methods"
   ]
  },
  {
   "cell_type": "code",
   "execution_count": null,
   "metadata": {},
   "outputs": [],
   "source": [
    "fish_types = [\"Tai\", \"Koi\", \"Fugu\", \"Koi\", \"Maguro\"]\n",
    "\n",
    "# Length of a list\n",
    "print(f\"Number of fish: {len(fish_types)}\")\n",
    "\n",
    "# Count occurrences\n",
    "koi_count = fish_types.count(\"Koi\")\n",
    "print(f\"Number of Koi: {koi_count}\")\n",
    "\n",
    "# Find index of an element (first occurrence)\n",
    "fugu_index = fish_types.index(\"Fugu\")\n",
    "print(f\"Fugu is at index: {fugu_index}\")\n",
    "\n",
    "# Sorting\n",
    "fish_types.sort()  # Sort in-place\n",
    "print(f\"Sorted fish: {fish_types}\")\n",
    "\n",
    "fish_types.sort(reverse=True)  # Sort in descending order\n",
    "print(f\"Reverse sorted fish: {fish_types}\")\n",
    "\n",
    "# Reversing\n",
    "fish_types.reverse()  # Reverse in-place\n",
    "print(f\"Reversed list: {fish_types}\")\n",
    "\n",
    "# Copying a list\n",
    "fish_copy = fish_types.copy()\n",
    "print(f\"Copy of the list: {fish_copy}\")\n",
    "\n",
    "# Checking if an element is in the list\n",
    "has_koi = \"Koi\" in fish_types\n",
    "print(f\"Does the list contain Koi? {has_koi}\")\n",
    "\n",
    "# Clearing a list\n",
    "fish_copy.clear()\n",
    "print(f\"Cleared list: {fish_copy}\")"
   ]
  },
  {
   "cell_type": "markdown",
   "metadata": {},
   "source": [
    "### List Comprehensions\n",
    "\n",
    "List comprehensions provide a concise way to create lists based on existing lists or other iterables."
   ]
  },
  {
   "cell_type": "code",
   "execution_count": null,
   "metadata": {},
   "outputs": [],
   "source": [
    "# Traditional way to create a list\n",
    "fish_lengths = []\n",
    "for fish in [\"Koi\", \"Fugu\", \"Tai\", \"Maguro\", \"Unagi\"]:\n",
    "    fish_lengths.append(len(fish))\n",
    "print(f\"Fish name lengths (traditional): {fish_lengths}\")\n",
    "\n",
    "# Using list comprehension\n",
    "fish_lengths = [len(fish) for fish in [\"Koi\", \"Fugu\", \"Tai\", \"Maguro\", \"Unagi\"]]\n",
    "print(f\"Fish name lengths (comprehension): {fish_lengths}\")\n",
    "\n",
    "# List comprehension with condition\n",
    "long_fish_names = [fish for fish in [\"Koi\", \"Fugu\", \"Tai\", \"Maguro\", \"Unagi\"] if len(fish) > 3]\n",
    "print(f\"Fish with names longer than 3 characters: {long_fish_names}\")\n",
    "\n",
    "# More complex example: squares of even numbers from 1 to 10\n",
    "even_squares = [x**2 for x in range(1, 11) if x % 2 == 0]\n",
    "print(f\"Squares of even numbers from 1 to 10: {even_squares}\")"
   ]
  },
  {
   "cell_type": "markdown",
   "metadata": {},
   "source": [
    "## Tuples\n",
    "\n",
    "Tuples are ordered, immutable collections of items. They are similar to lists but cannot be modified after creation."
   ]
  },
  {
   "cell_type": "code",
   "execution_count": null,
   "metadata": {},
   "outputs": [],
   "source": [
    "# Creating a tuple\n",
    "fish_info = (\"Koi\", 3, 2.5, \"Freshwater\")\n",
    "print(fish_info)\n",
    "\n",
    "# Accessing tuple elements (similar to lists)\n",
    "fish_name = fish_info[0]\n",
    "fish_age = fish_info[1]\n",
    "print(f\"Fish name: {fish_name}, Age: {fish_age}\")\n",
    "\n",
    "# Tuple unpacking\n",
    "name, age, weight, habitat = fish_info\n",
    "print(f\"Unpacked - Name: {name}, Age: {age}, Weight: {weight}, Habitat: {habitat}\")\n",
    "\n",
    "# Creating a single-item tuple (note the comma)\n",
    "single_fish = (\"Fugu\",)  # Without the comma, it would be a string in parentheses\n",
    "print(f\"Single-item tuple: {single_fish}, Type: {type(single_fish)}\")\n",
    "\n",
    "not_a_tuple = (\"Fugu\")  # This is just a string in parentheses\n",
    "print(f\"Not a tuple: {not_a_tuple}, Type: {type(not_a_tuple)}\")"
   ]
  },
  {
   "cell_type": "markdown",
   "metadata": {},
   "source": [
    "### Tuple Operations"
   ]
  },
  {
   "cell_type": "code",
   "execution_count": null,
   "metadata": {},
   "outputs": [],
   "source": [
    "fish_tuple = (\"Koi\", \"Fugu\", \"Tai\", \"Maguro\", \"Koi\")\n",
    "\n",
    "# Length\n",
    "print(f\"Number of elements: {len(fish_tuple)}\")\n",
    "\n",
    "# Count occurrences\n",
    "koi_count = fish_tuple.count(\"Koi\")\n",
    "print(f\"Number of Koi: {koi_count}\")\n",
    "\n",
    "# Find index\n",
    "tai_index = fish_tuple.index(\"Tai\")\n",
    "print(f\"Tai is at index: {tai_index}\")\n",
    "\n",
    "# Checking if an element is in the tuple\n",
    "has_fugu = \"Fugu\" in fish_tuple\n",
    "print(f\"Does the tuple contain Fugu? {has_fugu}\")\n",
    "\n",
    "# Concatenating tuples\n",
    "more_fish = (\"Unagi\", \"Saba\")\n",
    "all_fish = fish_tuple + more_fish\n",
    "print(f\"Combined tuple: {all_fish}\")\n",
    "\n",
    "# Repeating a tuple\n",
    "repeated = (\"Koi\", \"Tai\") * 3\n",
    "print(f\"Repeated tuple: {repeated}\")"
   ]
  },
  {
   "cell_type": "markdown",
   "metadata": {},
   "source": [
    "### Immutability of Tuples\n",
    "\n",
    "Unlike lists, tuples cannot be modified after creation."
   ]
  },
  {
   "cell_type": "code",
   "execution_count": null,
   "metadata": {},
   "outputs": [],
   "source": [
    "fish_tuple = (\"Koi\", \"Fugu\", \"Tai\")\n",
    "\n",
    "# This will cause an error\n",
    "try:\n",
    "    fish_tuple[0] = \"Saba\"\n",
    "except TypeError as e:\n",
    "    print(f\"Error: {e}\")"
   ]
  },
  {
   "cell_type": "markdown",
   "metadata": {},
   "source": [
    "### When to Use Tuples vs Lists\n",
    "\n",
    "- Use tuples for collections of items that shouldn't change\n",
    "- Use lists when you need to modify the collection"
   ]
  },
  {
   "cell_type": "code",
   "execution_count": null,
   "metadata": {},
   "outputs": [],
   "source": [
    "# Tuple example: coordinates (shouldn't change)\n",
    "pond_location = (35.6762, 139.6503)  # Tokyo coordinates\n",
    "print(f\"Pond location (latitude, longitude): {pond_location}\")\n",
    "\n",
    "# List example: fish in a pond (may change)\n",
    "pond_fish = [\"Koi\", \"Goldfish\", \"Carp\"]\n",
    "print(f\"Initial fish in pond: {pond_fish}\")\n",
    "\n",
    "# We can add or remove fish from the list\n",
    "pond_fish.append(\"Grass Carp\")\n",
    "print(f\"Updated fish in pond: {pond_fish}\")"
   ]
  },
  {
   "cell_type": "markdown",
   "metadata": {},
   "source": [
    "## Sets\n",
    "\n",
    "Sets are unordered collections of unique items. They are useful for membership testing and eliminating duplicate entries."
   ]
  },
  {
   "cell_type": "code",
   "execution_count": null,
   "metadata": {},
   "outputs": [],
   "source": [
    "# Creating a set\n",
    "freshwater_fish = {\"Koi\", \"Goldfish\", \"Unagi\", \"Koi\"}  # Note: duplicates are removed\n",
    "print(f\"Freshwater fish set: {freshwater_fish}\")\n",
    "\n",
    "# Creating a set from a list\n",
    "saltwater_fish = set([\"Tai\", \"Maguro\", \"Hirame\", \"Tai\"])\n",
    "print(f\"Saltwater fish set: {saltwater_fish}\")\n",
    "\n",
    "# Empty set (cannot use {} as that creates an empty dictionary)\n",
    "empty_set = set()\n",
    "print(f\"Empty set: {empty_set}, Type: {type(empty_set)}\")"
   ]
  },
  {
   "cell_type": "markdown",
   "metadata": {},
   "source": [
    "### Set Operations"
   ]
  },
  {
   "cell_type": "code",
   "execution_count": null,
   "metadata": {},
   "outputs": [],
   "source": [
    "# Adding elements\n",
    "freshwater_fish = {\"Koi\", \"Goldfish\", \"Unagi\"}\n",
    "freshwater_fish.add(\"Carp\")\n",
    "print(f\"After adding Carp: {freshwater_fish}\")\n",
    "\n",
    "# Adding multiple elements\n",
    "freshwater_fish.update([\"Bass\", \"Trout\"])\n",
    "print(f\"After update: {freshwater_fish}\")\n",
    "\n",
    "# Removing elements\n",
    "freshwater_fish.remove(\"Bass\")  # Raises an error if the element is not present\n",
    "print(f\"After removing Bass: {freshwater_fish}\")\n",
    "\n",
    "freshwater_fish.discard(\"Salmon\")  # No error if the element is not present\n",
    "print(f\"After discarding Salmon (which wasn't in the set): {freshwater_fish}\")\n",
    "\n",
    "# Pop removes and returns an arbitrary element\n",
    "popped = freshwater_fish.pop()\n",
    "print(f\"Popped element: {popped}\")\n",
    "print(f\"After pop: {freshwater_fish}\")\n",
    "\n",
    "# Checking membership\n",
    "has_koi = \"Koi\" in freshwater_fish\n",
    "print(f\"Does the set contain Koi? {has_koi}\")\n",
    "\n",
    "# Length of a set\n",
    "print(f\"Number of fish in the set: {len(freshwater_fish)}\")\n",
    "\n",
    "# Clearing a set\n",
    "freshwater_copy = freshwater_fish.copy()\n",
    "freshwater_copy.clear()\n",
    "print(f\"Cleared set: {freshwater_copy}\")"
   ]
  },
  {
   "cell_type": "markdown",
   "metadata": {},
   "source": [
    "### Set Mathematical Operations"
   ]
  },
  {
   "cell_type": "code",
   "execution_count": null,
   "metadata": {},
   "outputs": [],
   "source": [
    "# Define two sets\n",
    "freshwater_fish = {\"Koi\", \"Goldfish\", \"Unagi\", \"Carp\"}\n",
    "aquarium_fish = {\"Koi\", \"Goldfish\", \"Guppy\", \"Tetra\"}\n",
    "\n",
    "# Union: all elements from both sets\n",
    "all_fish = freshwater_fish.union(aquarium_fish)\n",
    "print(f\"Union: {all_fish}\")\n",
    "# Alternative syntax: freshwater_fish | aquarium_fish\n",
    "\n",
    "# Intersection: elements common to both sets\n",
    "common_fish = freshwater_fish.intersection(aquarium_fish)\n",
    "print(f\"Intersection: {common_fish}\")\n",
    "# Alternative syntax: freshwater_fish & aquarium_fish\n",
    "\n",
    "# Difference: elements in the first set but not in the second\n",
    "only_freshwater = freshwater_fish.difference(aquarium_fish)\n",
    "print(f\"Difference (freshwater - aquarium): {only_freshwater}\")\n",
    "# Alternative syntax: freshwater_fish - aquarium_fish\n",
    "\n",
    "only_aquarium = aquarium_fish.difference(freshwater_fish)\n",
    "print(f\"Difference (aquarium - freshwater): {only_aquarium}\")\n",
    "\n",
    "# Symmetric difference: elements in either set, but not in both\n",
    "unique_to_either = freshwater_fish.symmetric_difference(aquarium_fish)\n",
    "print(f\"Symmetric difference: {unique_to_either}\")\n",
    "# Alternative syntax: freshwater_fish ^ aquarium_fish"
   ]
  },
  {
   "cell_type": "markdown",
   "metadata": {},
   "source": [
    "### Set Comprehensions\n",
    "\n",
    "Similar to list comprehensions, but create sets."
   ]
  },
  {
   "cell_type": "code",
   "execution_count": null,
   "metadata": {},
   "outputs": [],
   "source": [
    "# Set comprehension\n",
    "fish_lengths = {len(fish) for fish in [\"Koi\", \"Fugu\", \"Tai\", \"Maguro\", \"Koi\"]}\n",
    "print(f\"Unique lengths of fish names: {fish_lengths}\")\n",
    "\n",
    "# Set comprehension with condition\n",
    "long_fish_names = {fish for fish in [\"Koi\", \"Fugu\", \"Tai\", \"Maguro\", \"Unagi\"] if len(fish) > 3}\n",
    "print(f\"Set of fish with names longer than 3 characters: {long_fish_names}\")"
   ]
  },
  {
   "cell_type": "markdown",
   "metadata": {},
   "source": [
    "## Dictionaries\n",
    "\n",
    "Dictionaries are unordered collections of key-value pairs. They are optimized for retrieving data when you know the key."
   ]
  },
  {
   "cell_type": "code",
   "execution_count": null,
   "metadata": {},
   "outputs": [],
   "source": [
    "# Creating a dictionary\n",
    "fish_details = {\n",
    "    \"name\": \"Koi\",\n",
    "    \"age\": 3,\n",
    "    \"weight\": 2.5,\n",
    "    \"colors\": [\"red\", \"white\", \"black\"],\n",
    "    \"is_freshwater\": True\n",
    "}\n",
    "\n",
    "print(fish_details)"
   ]
  },
  {
   "cell_type": "markdown",
   "metadata": {},
   "source": [
    "### Accessing Dictionary Values"
   ]
  },
  {
   "cell_type": "code",
   "execution_count": null,
   "metadata": {},
   "outputs": [],
   "source": [
    "# Accessing by key\n",
    "name = fish_details[\"name\"]\n",
    "print(f\"Fish name: {name}\")\n",
    "\n",
    "# Using get() method (safer, provides a default if key doesn't exist)\n",
    "age = fish_details.get(\"age\")  # Returns None if key doesn't exist\n",
    "print(f\"Fish age: {age}\")\n",
    "\n",
    "price = fish_details.get(\"price\", \"Not for sale\")  # Custom default value\n",
    "print(f\"Fish price: {price}\")\n",
    "\n",
    "# This will raise a KeyError\n",
    "try:\n",
    "    price = fish_details[\"price\"]\n",
    "except KeyError as<response clipped><NOTE>To save on context only part of this file has been shown to you. You should retry this tool after you have searched inside the file with `grep -n` in order to find the line numbers of what you are looking for.</NOTE>