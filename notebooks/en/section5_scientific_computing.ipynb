{
 "cells": [
  {
   "cell_type": "markdown",
   "metadata": {},
   "source": [
    "# Section 5: Scientific Computing - Workshop Notebook\n",
    "\n",
    "This notebook will guide you through the basics of scientific computing in Python using NumPy, Pandas, Matplotlib, and basic image processing libraries. We'll use Japanese fish examples throughout to make the learning experience more engaging."
   ]
  },
  {
   "cell_type": "markdown",
   "metadata": {},
   "source": [
    "## Part 1: NumPy - Numerical Python\n",
    "\n",
    "NumPy is a fundamental package for scientific computing in Python. It provides support for large, multi-dimensional arrays and matrices, along with a large collection of high-level mathematical functions to operate on these arrays."
   ]
  },
  {
   "cell_type": "code",
   "execution_count": null,
   "metadata": {},
   "outputs": [],
   "source": [
    "# Import NumPy\n",
    "import numpy as np"
   ]
  },
  {
   "cell_type": "markdown",
   "metadata": {},
   "source": [
    "### Creating NumPy Arrays\n",
    "\n",
    "Let's start by creating some NumPy arrays with fish-related data."
   ]
  },
  {
   "cell_type": "code",
   "execution_count": null,
   "metadata": {},
   "outputs": [],
   "source": [
    "# Create an array of fish weights (in kg)\n",
    "fish_weights = np.array([1.2, 2.5, 3.7, 1.8, 2.9])\n",
    "print(\"Fish weights (kg):\", fish_weights)\n",
    "\n",
    "# Create an array of fish lengths (in cm)\n",
    "fish_lengths = np.array([25, 30, 40, 28, 35])\n",
    "print(\"Fish lengths (cm):\", fish_lengths)\n",
    "\n",
    "# Create a 2D array for fish data (weight, length)\n",
    "fish_data = np.array([\n",
    "    [1.2, 25],  # Koi\n",
    "    [2.5, 30],  # Fugu\n",
    "    [3.7, 40],  # Tai\n",
    "    [1.8, 28],  # Unagi\n",
    "    [2.9, 35]   # Saba\n",
    "])\n",
    "print(\"\\nFish data (weight, length):\")\n",
    "print(fish_data)"
   ]
  },
  {
   "cell_type": "markdown",
   "metadata": {},
   "source": [
    "### Creating Arrays with NumPy Functions\n",
    "\n",
    "NumPy provides several functions to create arrays with specific patterns."
   ]
  },
  {
   "cell_type": "code",
   "execution_count": null,
   "metadata": {},
   "outputs": [],
   "source": [
    "# Create an array of zeros (e.g., empty fish tank)\n",
    "empty_tank = np.zeros(5)\n",
    "print(\"Empty tank:\", empty_tank)\n",
    "\n",
    "# Create an array of ones (e.g., fish presence indicator)\n",
    "fish_presence = np.ones(5)\n",
    "print(\"Fish presence:\", fish_presence)\n",
    "\n",
    "# Create an array with a range of values (e.g., days of feeding)\n",
    "feeding_days = np.arange(1, 8)  # Days 1 through 7\n",
    "print(\"Feeding days:\", feeding_days)\n",
    "\n",
    "# Create an array with evenly spaced values (e.g., feeding times)\n",
    "feeding_times = np.linspace(8, 18, 6)  # 6 feeding times between 8am and 6pm\n",
    "print(\"Feeding times:\", feeding_times)\n",
    "\n",
    "# Create an array with random values (e.g., random fish weights)\n",
    "random_weights = np.random.rand(5) * 5  # Random weights between 0 and 5 kg\n",
    "print(\"Random fish weights:\", random_weights)"
   ]
  },
  {
   "cell_type": "markdown",
   "metadata": {},
   "source": [
    "### Array Attributes and Methods\n",
    "\n",
    "NumPy arrays have several attributes and methods that provide information about the array and perform operations on it."
   ]
  },
  {
   "cell_type": "code",
   "execution_count": null,
   "metadata": {},
   "outputs": [],
   "source": [
    "# Array attributes\n",
    "print(\"Shape:\", fish_data.shape)  # Dimensions of the array\n",
    "print(\"Size:\", fish_data.size)    # Total number of elements\n",
    "print(\"Data type:\", fish_data.dtype)  # Data type of the elements\n",
    "print(\"Number of dimensions:\", fish_data.ndim)  # Number of dimensions\n",
    "\n",
    "# Array methods for statistics\n",
    "print(\"\\nStatistics for fish weights:\")\n",
    "print(\"Sum:\", fish_weights.sum())  # Total weight\n",
    "print(\"Mean:\", fish_weights.mean())  # Average weight\n",
    "print(\"Standard deviation:\", fish_weights.std())  # Variation in weights\n",
    "print(\"Minimum:\", fish_weights.min())  # Lightest fish\n",
    "print(\"Maximum:\", fish_weights.max())  # Heaviest fish\n",
    "print(\"Index of minimum:\", fish_weights.argmin())  # Index of lightest fish\n",
    "print(\"Index of maximum:\", fish_weights.argmax())  # Index of heaviest fish"
   ]
  },
  {
   "cell_type": "markdown",
   "metadata": {},
   "source": [
    "### Multi-dimensional Arrays\n",
    "\n",
    "Let's create and work with multi-dimensional arrays to represent more complex fish data."
   ]
  },
  {
   "cell_type": "code",
   "execution_count": null,
   "metadata": {},
   "outputs": [],
   "source": [
    "# Create a 2D array for fish data across different months\n",
    "# Rows: Fish types (Koi, Fugu, Tai)\n",
    "# Columns: Months (Jan, Feb, Mar)\n",
    "fish_growth = np.array([\n",
    "    [1.2, 1.3, 1.4],  # Koi weights over 3 months\n",
    "    [2.5, 2.7, 2.9],  # Fugu weights over 3 months\n",
    "    [3.7, 3.9, 4.2]   # Tai weights over 3 months\n",
    "])\n",
    "\n",
    "print(\"Fish growth over 3 months:\")\n",
    "print(fish_growth)\n",
    "print(\"Shape:\", fish_growth.shape)  # 3 fish types, 3 months\n",
    "\n",
    "# Accessing elements\n",
    "print(\"\\nAccessing elements:\")\n",
    "print(\"Koi weight in January:\", fish_growth[0, 0])  # First row, first column\n",
    "print(\"Tai weight in March:\", fish_growth[2, 2])  # Third row, third column\n",
    "\n",
    "# Accessing rows and columns\n",
    "print(\"\\nAccessing rows and columns:\")\n",
    "print(\"All Koi weights:\", fish_growth[0])  # First row (all Koi weights)\n",
    "print(\"All February weights:\", fish_growth[:, 1])  # Second column (all February weights)\n",
    "\n",
    "# Create a 3D array for fish data across different tanks\n",
    "# Dimension 1: Tanks (Tank 1, Tank 2)\n",
    "# Dimension 2: Fish types (Koi, Fugu)\n",
    "# Dimension 3: Measurements (weight, length, age)\n",
    "fish_tanks = np.array([\n",
    "    [  # Tank 1\n",
    "        [1.2, 25, 2],  # Koi: weight, length, age\n",
    "        [2.5, 30, 3],  # Fugu: weight, length, age\n",
    "    ],\n",
    "    [  # Tank 2\n",
    "        [1.5, 28, 3],  # Koi: weight, length, age\n",
    "        [2.8, 32, 4],  # Fugu: weight, length, age\n",
    "    ]\n",
    "])\n",
    "\n",
    "print(\"\\nFish data across different tanks:\")\n",
    "print(fish_tanks)\n",
    "print(\"Shape:\", fish_tanks.shape)  # 2 tanks, 2 fish types, 3 measurements\n",
    "\n",
    "# Accessing elements in a 3D array\n",
    "print(\"\\nAccessing elements in a 3D array:\")\n",
    "print(\"Tank 1, Koi, weight:\", fish_tanks[0, 0, 0])\n",
    "print(\"Tank 2, Fugu, age:\", fish_tanks[1, 1, 2])"
   ]
  },
  {
   "cell_type": "markdown",
   "metadata": {},
   "source": [
    "### Array Indexing and Slicing\n",
    "\n",
    "NumPy arrays can be indexed and sliced in various ways to access specific elements or subarrays."
   ]
  },
  {
   "cell_type": "code",
   "execution_count": null,
   "metadata": {},
   "outputs": [],
   "source": [
    "# 1D array indexing and slicing\n",
    "fish_weights = np.array([1.2, 2.5, 3.7, 1.8, 2.9])\n",
    "\n",
    "print(\"1D array indexing and slicing:\")\n",
    "print(\"First element:\", fish_weights[0])  # First element\n",
    "print(\"Last element:\", fish_weights[-1])  # Last element\n",
    "print(\"Elements from index 1 to 3:\", fish_weights[1:4])  # Elements from index 1 to 3\n",
    "print(\"Elements from start to index 2:\", fish_weights[:3])  # Elements from start to index 2\n",
    "print(\"Elements from index 2 to end:\", fish_weights[2:])  # Elements from index 2 to end\n",
    "print(\"Every second element:\", fish_weights[::2])  # Every second element\n",
    "\n",
    "# 2D array indexing and slicing\n",
    "fish_growth = np.array([\n",
    "    [1.2, 1.3, 1.4],  # Koi weights over 3 months\n",
    "    [2.5, 2.7, 2.9],  # Fugu weights over 3 months\n",
    "    [3.7, 3.9, 4.2]   # Tai weights over 3 months\n",
    "])\n",
    "\n",
    "print(\"\\n2D array indexing and slicing:\")\n",
    "print(\"Element at (0, 0):\", fish_growth[0, 0])  # First row, first column\n",
    "print(\"First row:\", fish_growth[0])  # First row\n",
    "print(\"First column:\", fish_growth[:, 0])  # First column\n",
    "print(\"Subarray (first two rows, last two columns):\")\n",
    "print(fish_growth[0:2, 1:3])  # First two rows, last two columns"
   ]
  },
  {
   "cell_type": "markdown",
   "metadata": {},
   "source": [
    "### Boolean Indexing\n",
    "\n",
    "Boolean indexing allows you to select elements based on conditions."
   ]
  },
  {
   "cell_type": "code",
   "execution_count": null,
   "metadata": {},
   "outputs": [],
   "source": [
    "fish_weights = np.array([1.2, 2.5, 3.7, 1.8, 2.9])\n",
    "fish_names = np.array(['Koi', 'Fugu', 'Tai', 'Unagi', 'Saba'])\n",
    "\n",
    "# Create a boolean mask for large fish (weight > 2.0 kg)\n",
    "large_fish_mask = fish_weights > 2.0\n",
    "print(\"Boolean mask for large fish:\", large_fish_mask)\n",
    "\n",
    "# Use the mask to filter the arrays\n",
    "large_fish_weights = fish_weights[large_fish_mask]\n",
    "large_fish_names = fish_names[large_fish_mask]\n",
    "\n",
    "print(\"\\nLarge fish weights:\", large_fish_weights)\n",
    "print(\"Large fish names:\", large_fish_names)\n",
    "\n",
    "# Combine conditions\n",
    "medium_fish_mask = (fish_weights > 1.5) & (fish_weights < 3.0)\n",
    "print(\"\\nBoolean mask for medium fish:\", medium_fish_mask)\n",
    "print(\"Medium fish weights:\", fish_weights[medium_fish_mask])\n",
    "print(\"Medium fish names:\", fish_names[medium_fish_mask])\n",
    "\n",
    "# Count elements that satisfy a condition\n",
    "num_large_fish = np.sum(fish_weights > 2.0)  # Sum of True values (1's)\n",
    "print(\"\\nNumber of large fish:\", num_large_fish)"
   ]
  },
  {
   "cell_type": "markdown",
   "metadata": {},
   "source": [
    "### Array Operations\n",
    "\n",
    "NumPy arrays support various arithmetic operations that are performed element-wise."
   ]
  },
  {
   "cell_type": "code",
   "execution_count": null,
   "metadata": {},
   "outputs": [],
   "source": [
    "# Arithmetic operations\n",
    "fish_weights = np.array([1.2, 2.5, 3.7, 1.8, 2.9])\n",
    "\n",
    "print(\"Original weights:\", fish_weights)\n",
    "print(\"Weights + 0.5 kg:\", fish_weights + 0.5)  # Add 0.5 kg to each fish\n",
    "print(\"Weights * 2:\", fish_weights * 2)  # Double each weight\n",
    "print(\"Weights squared:\", fish_weights ** 2)  # Square each weight\n",
    "print(\"Square root of weights:\", np.sqrt(fish_weights))  # Square root of each weight\n",
    "\n",
    "# Operations between arrays\n",
    "fish_weights_tank1 = np.array([1.2, 2.5, 3.7])\n",
    "fish_weights_tank2 = np.array([1.5, 2.8, 4.0])\n",
    "\n",
    "print(\"\\nTank 1 weights:\", fish_weights_tank1)\n",
    "print(\"Tank 2 weights:\", fish_weights_tank2)\n",
    "print(\"Sum of weights:\", fish_weights_tank1 + fish_weights_tank2)  # Element-wise addition\n",
    "print(\"Weight differences:\", fish_weights_tank2 - fish_weights_tank1)  # Element-wise subtraction\n",
    "print(\"Weight ratios:\", fish_weights_tank2 / fish_weights_tank1)  # Element-wise division\n",
    "\n",
    "# Aggregation operations on 2D arrays\n",
    "fish_growth = np.array([\n",
    "    [1.2, 1.3, 1.4],  # Koi weights over 3 months\n",
    "    [2.5, 2.7, 2.9],  # Fugu weights over 3 months\n",
    "    [3.7, 3.9, 4.2]   # Tai weights over 3 months\n",
    "])\n",
    "\n",
    "print(\"\\nSum of all weights:\", np.sum(fish_growth))  # Sum of all elements\n",
    "print(\"Sum of weights by fish type (rows):\", np.sum(fish_growth, axis=1))  # Sum of each row\n",
    "print(\"Sum of weights by month (columns):\", np.sum(fish_growth, axis=0))  # Sum of each column\n",
    "\n",
    "print(\"\\nAverage weight overall:\", np.mean(fish_growth))  # Mean of all elements\n",
    "print(\"Average weight by fish type (rows):\", np.mean(fish_growth, axis=1))  # Mean of each row\n",
    "print(\"Average weight by month (columns):\", np.mean(fish_growth, axis=0))  # Mean of each column"
   ]
  },
  {
   "cell_type": "markdown",
   "metadata": {},
   "source": [
    "### Broadcasting\n",
    "\n",
    "Broadcasting allows NumPy to perform operations on arrays of different shapes."
   ]
  },
  {
   "cell_type": "code",
   "execution_count": null,
   "metadata": {},
   "outputs": [],
   "source": [
    "# Broadcasting examples\n",
    "fish_weights = np.array([1.2, 2.5, 3.7])  # Shape: (3,)\n",
    "growth_factors = np.array([1.1, 1.2, 1.3])  # Shape: (3,)\n",
    "\n",
    "# Same shape: element-wise multiplication\n",
    "print(\"Weights after growth (element-wise):\", fish_weights * growth_factors)\n",
    "\n",
    "# Broadcasting with a scalar\n",
    "print(\"All weights doubled:\", fish_weights * 2)  # Scalar broadcast to all elements\n",
    "\n",
    "# Broadcasting with arrays of different shapes\n",
    "fish_growth = np.array([\n",
    "    [1.2, 1.3, 1.4],  # Koi weights over 3 months\n",
    "    [2.5, 2.7, 2.9],  # Fugu weights over 3 months\n",
    "    [3.7, 3.9, 4.2]   # Tai weights over 3 months\n",
    "])  # Shape: (3, 3)\n",
    "\n",
    "monthly_factors = np.array([1.0, 1.1, 1.2])  # Shape: (3,)\n",
    "\n",
    "# Broadcasting: (3, 3) * (3,) -> (3, 3) * (1, 3) -> (3, 3)\n",
    "# Each column is multiplied by the corresponding factor\n",
    "print(\"\\nWeights adjusted by monthly factors:\")\n",
    "print(fish_growth * monthly_factors)\n",
    "\n",
    "fish_type_factors = np.array([1.1, 1.2, 1.3]).reshape(3, 1)  # Shape: (3, 1)\n",
    "\n",
    "# Broadcasting: (3, 3) * (3, 1) -> (3, 3)\n",
    "# Each row is multiplied by the corresponding factor\n",
    "print(\"\\nWeights adjusted by fish type factors:\")\n",
    "print(fish_growth * fish_type_factors)"
   ]
  },
  {
   "cell_type": "markdown",
   "metadata": {},
   "source": [
    "### Reshaping Arrays\n",
    "\n",
    "NumPy arrays can be reshaped to change their dimensions while preserving the total number of elements."
   ]
  },
  {
   "cell_type": "code",
   "execution_count": null,
   "metadata": {},
   "outputs": [],
   "source": [
    "# Reshaping arrays\n",
    "fish_data = np.array([1.2, 2.5, 3.7, 1.8, 2.9, 3.1])  # 6 fish weights\n",
    "print(\"Original array:\", fish_data)\n",
    "print(\"Shape:\", fish_data.shape)\n",
    "\n",
    "# Reshape to 2x3 array (2 rows, 3 columns)\n",
    "reshaped_2x3 = fish_data.reshape(2, 3)\n",
    "print(\"\\nReshaped to 2x3:\")\n",
    "print(reshaped_2x3)\n",
    "\n",
    "# Reshape to 3x2 array (3 rows, 2 columns)\n",
    "reshaped_3x2 = fish_data.reshape(3, 2)\n",
    "print(\"\\nReshaped to 3x2:\")\n",
    "print(reshaped_3x2)\n",
    "\n",
    "# Using -1 to automatically determine the size of one dimension\n",
    "reshaped_auto = fish_data.reshape(-1, 2)  # -1 means \"figure out this dimension\"\n",
    "print(\"\\nReshaped with automatic dimension:\")\n",
    "print(reshaped_auto)\n",
    "\n",
    "# Flattening an array\n",
    "fish_growth = np.array([\n",
    "    [1.2, 1.3, 1.4],\n",
    "    [2.5, 2.7, 2.9]\n",
    "])\n",
    "flattened = fish_growth.flatten()\n",
    "print(\"\\nOriginal 2D array:\")\n",
    "print(fish_growth)\n",
    "print(\"Flattened array:\", flattened)\n",
    "\n",
    "# Transposing an array (swapping rows and columns)\n",
    "transposed = fish_growth.T\n",
    "print(\"\\nTransposed array:\")\n",
    "print(transposed)"
   ]
  },
  {
   "cell_type": "markdown",
   "metadata": {},
   "source": [
    "### Random Number Generation\n",
    "\n",
    "NumPy provides functions for generating random numbers, which can be useful f<response clipped><NOTE>To save on context only part of this file has been shown to you. You should retry this tool after you have searched inside the file with `grep -n` in order to find the line numbers of what you are looking for.</NOTE>