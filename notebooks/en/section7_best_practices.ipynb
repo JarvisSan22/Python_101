{
 "cells": [
  {
   "cell_type": "markdown",
   "metadata": {},
   "source": [
    "# Section 7: Python Best Practices - Workshop Notebook\n",
    "\n",
    "This notebook will guide you through Python best practices, including PEP 8 style guidelines, working with .py files, understanding `main()` and `__name__`, command line arguments, and project structure and organization. We'll use Japanese fish examples throughout to make the learning experience more engaging."
   ]
  },
  {
   "cell_type": "markdown",
   "metadata": {},
   "source": [
    "## Part 1: Introduction to Python's PEP 8 Style Guide\n",
    "\n",
    "PEP 8 is Python's official style guide. Following a consistent style makes your code more readable and easier to maintain."
   ]
  },
  {
   "cell_type": "markdown",
   "metadata": {},
   "source": [
    "### Code Layout\n",
    "\n",
    "#### Indentation\n",
    "PEP 8 recommends using 4 spaces per indentation level."
   ]
  },
  {
   "cell_type": "code",
   "execution_count": null,
   "metadata": {},
   "outputs": [],
   "source": [
    "# Good indentation (4 spaces)\n",
    "def calculate_fish_weight(length, species):\n",
    "    if species == \"Koi\":\n",
    "        weight = length * 0.8\n",
    "        return weight\n",
    "    else:\n",
    "        weight = length * 0.5\n",
    "        return weight\n",
    "\n",
    "# Let's test our function\n",
    "koi_weight = calculate_fish_weight(25, \"Koi\")\n",
    "fugu_weight = calculate_fish_weight(30, \"Fugu\")\n",
    "\n",
    "print(f\"A 25cm Koi weighs approximately {koi_weight} units\")\n",
    "print(f\"A 30cm Fugu weighs approximately {fugu_weight} units\")"
   ]
  },
  {
   "cell_type": "markdown",
   "metadata": {},
   "source": [
    "#### Maximum Line Length\n",
    "PEP 8 recommends limiting lines to 79 characters for code and 72 characters for docstrings and comments."
   ]
  },
  {
   "cell_type": "code",
   "execution_count": null,
   "metadata": {},
   "outputs": [],
   "source": [
    "# Bad - line too long\n",
    "fish_species = [\"Koi\", \"Fugu\", \"Tai\", \"Unagi\", \"Saba\", \"Maguro\", \"Hamachi\", \"Sake\", \"Hirame\", \"Ika\", \"Hotate\", \"Amaebi\", \"Ikura\", \"Uni\", \"Anago\"]\n",
    "\n",
    "# Good - line broken appropriately\n",
    "fish_species = [\n",
    "    \"Koi\", \"Fugu\", \"Tai\", \"Unagi\", \"Saba\",\n",
    "    \"Maguro\", \"Hamachi\", \"Sake\", \"Hirame\", \"Ika\",\n",
    "    \"Hotate\", \"Amaebi\", \"Ikura\", \"Uni\", \"Anago\"\n",
    "]\n",
    "\n",
    "print(\"List of Japanese fish species:\")\n",
    "for i, species in enumerate(fish_species, 1):\n",
    "    print(f\"{i}. {species}\")"
   ]
  },
  {
   "cell_type": "markdown",
   "metadata": {},
   "source": [
    "#### Line Breaks and Binary Operators\n",
    "PEP 8 recommends breaking before binary operators."
   ]
  },
  {
   "cell_type": "code",
   "execution_count": null,
   "metadata": {},
   "outputs": [],
   "source": [
    "# Recommended style - break before operators\n",
    "total_weight = (koi_weight\n",
    "                + fugu_weight\n",
    "                + calculate_fish_weight(40, \"Tai\")\n",
    "                + calculate_fish_weight(35, \"Unagi\")\n",
    "                + calculate_fish_weight(20, \"Saba\"))\n",
    "\n",
    "print(f\"Total weight of all fish: {total_weight} units\")\n",
    "\n",
    "# Alternative style - break after operators\n",
    "total_length = 25 + \\\n",
    "               30 + \\\n",
    "               40 + \\\n",
    "               35 + \\\n",
    "               20\n",
    "\n",
    "print(f\"Total length of all fish: {total_length} cm\")"
   ]
  },
  {
   "cell_type": "markdown",
   "metadata": {},
   "source": [
    "#### Blank Lines\n",
    "Use blank lines to separate logical sections of code."
   ]
  },
  {
   "cell_type": "code",
   "execution_count": null,
   "metadata": {},
   "outputs": [],
   "source": [
    "# Good use of blank lines\n",
    "def calculate_fish_weight(length, species):\n",
    "    \"\"\"Calculate fish weight based on length and species.\"\"\"\n",
    "    if species == \"Koi\":\n",
    "        factor = 0.8\n",
    "    else:\n",
    "        factor = 0.5\n",
    "    \n",
    "    weight = length * factor\n",
    "    return weight\n",
    "\n",
    "\n",
    "def calculate_fish_price(weight, species):\n",
    "    \"\"\"Calculate fish price based on weight and species.\"\"\"\n",
    "    if species == \"Fugu\":\n",
    "        price_per_kg = 5000\n",
    "    else:\n",
    "        price_per_kg = 2000\n",
    "    \n",
    "    price = weight * price_per_kg\n",
    "    return price\n",
    "\n",
    "\n",
    "# Calculate weight and price for a Fugu\n",
    "fugu_length = 30\n",
    "fugu_weight = calculate_fish_weight(fugu_length, \"Fugu\")\n",
    "fugu_price = calculate_fish_price(fugu_weight, \"Fugu\")\n",
    "\n",
    "print(f\"A {fugu_length}cm Fugu weighs {fugu_weight} units and costs {fugu_price} yen\")"
   ]
  },
  {
   "cell_type": "markdown",
   "metadata": {},
   "source": [
    "#### Imports\n",
    "PEP 8 recommends organizing imports in groups and placing each import on a separate line."
   ]
  },
  {
   "cell_type": "code",
   "execution_count": null,
   "metadata": {},
   "outputs": [],
   "source": [
    "# Good import organization\n",
    "\n",
    "# Standard library imports\n",
    "import os\n",
    "import sys\n",
    "import math\n",
    "\n",
    "# Third party imports (if available)\n",
    "# import numpy as np\n",
    "# import pandas as pd\n",
    "\n",
    "# Local application imports (simulated)\n",
    "# from fish_calculator import calculate_weight\n",
    "# from fish_database import FishDB\n",
    "\n",
    "print(\"Successfully imported standard library modules\")"
   ]
  },
  {
   "cell_type": "markdown",
   "metadata": {},
   "source": [
    "### Whitespace\n",
    "\n",
    "#### Whitespace in Expressions and Statements"
   ]
  },
  {
   "cell_type": "code",
   "execution_count": null,
   "metadata": {},
   "outputs": [],
   "source": [
    "# Good use of whitespace\n",
    "x = 1\n",
    "y = 2\n",
    "long_variable = 3\n",
    "\n",
    "# Good use of whitespace in expressions\n",
    "i = i + 1\n",
    "submitted += 1\n",
    "x = x*2 - 1\n",
    "hypot2 = x*x + y*y\n",
    "c = (a+b) * (a-b)\n",
    "\n",
    "# Let's define some variables for the expressions above\n",
    "i = 0\n",
    "submitted = 0\n",
    "a = 5\n",
    "b = 3\n",
    "\n",
    "# Now let's execute the expressions\n",
    "i = i + 1\n",
    "submitted += 1\n",
    "x = x*2 - 1\n",
    "hypot2 = x*x + y*y\n",
    "c = (a+b) * (a-b)\n",
    "\n",
    "print(f\"i = {i}\")\n",
    "print(f\"submitted = {submitted}\")\n",
    "print(f\"x = {x}\")\n",
    "print(f\"hypot2 = {hypot2}\")\n",
    "print(f\"c = {c}\")"
   ]
  },
  {
   "cell_type": "markdown",
   "metadata": {},
   "source": [
    "#### Whitespace in Function Calls"
   ]
  },
  {
   "cell_type": "code",
   "execution_count": null,
   "metadata": {},
   "outputs": [],
   "source": [
    "# Good use of whitespace in function calls\n",
    "def process_fish(species, weight, price=None):\n",
    "    \"\"\"Process fish information.\"\"\"\n",
    "    if price is None:\n",
    "        if species == \"Fugu\":\n",
    "            price = weight * 5000\n",
    "        else:\n",
    "            price = weight * 2000\n",
    "    \n",
    "    return f\"{species}: {weight} kg, {price} yen\"\n",
    "\n",
    "# Good function calls\n",
    "result1 = process_fish(\"Koi\", 1.2)\n",
    "result2 = process_fish(species=\"Fugu\", weight=2.5)\n",
    "result3 = process_fish(species=\"Tai\", weight=3.7, price=10000)\n",
    "\n",
    "print(result1)\n",
    "print(result2)\n",
    "print(result3)"
   ]
  },
  {
   "cell_type": "markdown",
   "metadata": {},
   "source": [
    "### Comments and Documentation\n",
    "\n",
    "#### Block Comments and Inline Comments"
   ]
  },
  {
   "cell_type": "code",
   "execution_count": null,
   "metadata": {},
   "outputs": [],
   "source": [
    "# This is a block comment that describes\n",
    "# a complex piece of code that follows.\n",
    "# Each line starts with a # and a space.\n",
    "\n",
    "# Calculate the average weight of different fish species\n",
    "koi_weights = [1.2, 1.5, 0.8, 1.3, 1.1]\n",
    "fugu_weights = [2.5, 2.3, 2.7, 2.1, 2.8]\n",
    "tai_weights = [3.7, 3.5, 4.0, 3.2, 3.9]\n",
    "\n",
    "koi_avg = sum(koi_weights) / len(koi_weights)  # Average Koi weight\n",
    "fugu_avg = sum(fugu_weights) / len(fugu_weights)  # Average Fugu weight\n",
    "tai_avg = sum(tai_weights) / len(tai_weights)  # Average Tai weight\n",
    "\n",
    "print(f\"Average Koi weight: {koi_avg:.2f} kg\")\n",
    "print(f\"Average Fugu weight: {fugu_avg:.2f} kg\")\n",
    "print(f\"Average Tai weight: {tai_avg:.2f} kg\")"
   ]
  },
  {
   "cell_type": "markdown",
   "metadata": {},
   "source": [
    "#### Documentation Strings (Docstrings)"
   ]
  },
  {
   "cell_type": "code",
   "execution_count": null,
   "metadata": {},
   "outputs": [],
   "source": [
    "def calculate_fish_weight(length, species):\n",
    "    \"\"\"\n",
    "    Calculate the weight of a fish based on its length and species.\n",
    "    \n",
    "    Args:\n",
    "        length (float): The length of the fish in centimeters.\n",
    "        species (str): The species of the fish.\n",
    "        \n",
    "    Returns:\n",
    "        float: The calculated weight in kilograms.\n",
    "    \"\"\"\n",
    "    species_factors = {\n",
    "        \"Koi\": 0.8,\n",
    "        \"Fugu\": 0.7,\n",
    "        \"Tai\": 0.9,\n",
    "        \"Unagi\": 0.6,\n",
    "        \"Saba\": 0.75\n",
    "    }\n",
    "    \n",
    "    factor = species_factors.get(species, 0.7)  # Default factor if species not found\n",
    "    return length * factor / 10  # Convert to kg\n",
    "\n",
    "# Let's test our function\n",
    "fish_data = [\n",
    "    (\"Koi\", 25),\n",
    "    (\"Fugu\", 30),\n",
    "    (\"Tai\", 40),\n",
    "    (\"Unagi\", 50),\n",
    "    (\"Saba\", 20),\n",
    "    (\"Unknown\", 35)  # Test with unknown species\n",
    "]\n",
    "\n",
    "for species, length in fish_data:\n",
    "    weight = calculate_fish_weight(length, species)\n",
    "    print(f\"A {length}cm {species} weighs approximately {weight:.2f} kg\")\n",
    "\n",
    "# Let's check the docstring\n",
    "print(\"\\nDocstring for calculate_fish_weight:\")\n",
    "print(calculate_fish_weight.__doc__)"
   ]
  },
  {
   "cell_type": "markdown",
   "metadata": {},
   "source": [
    "### Naming Conventions\n",
    "\n",
    "PEP 8 provides guidelines for naming variables, functions, classes, etc."
   ]
  },
  {
   "cell_type": "code",
   "execution_count": null,
   "metadata": {},
   "outputs": [],
   "source": [
    "# Module names: short, lowercase, underscores if needed\n",
    "# import fish_database\n",
    "\n",
    "# Package names: short, lowercase, no underscores\n",
    "# import fishdata\n",
    "\n",
    "# Class names: CapWords (CamelCase)\n",
    "class FishDatabase:\n",
    "    \"\"\"A class to manage fish data.\"\"\"\n",
    "    \n",
    "    def __init__(self):\n",
    "        \"\"\"Initialize an empty fish database.\"\"\"\n",
    "        self.fish = []\n",
    "    \n",
    "    def add_fish(self, species, weight, habitat):\n",
    "        \"\"\"Add a fish to the database.\"\"\"\n",
    "        self.fish.append({\n",
    "            'species': species,\n",
    "            'weight': weight,\n",
    "            'habitat': habitat\n",
    "        })\n",
    "    \n",
    "    def get_all_fish(self):\n",
    "        \"\"\"Get all fish in the database.\"\"\"\n",
    "        return self.fish\n",
    "\n",
    "# Function and variable names: lowercase with underscores\n",
    "def calculate_average_weight(fish_list):\n",
    "    \"\"\"Calculate the average weight of fish in a list.\"\"\"\n",
    "    if not fish_list:\n",
    "        return 0\n",
    "    \n",
    "    total_weight = sum(fish['weight'] for fish in fish_list)\n",
    "    return total_weight / len(fish_list)\n",
    "\n",
    "# Constants: ALL_UPPERCASE with underscores\n",
    "MAX_FISH_WEIGHT = 100\n",
    "MIN_FISH_WEIGHT = 0.1\n",
    "\n",
    "# Let's use our class and function\n",
    "db = FishDatabase()\n",
    "db.add_fish(\"Koi\", 1.2, \"freshwater\")\n",
    "db.add_fish(\"Fugu\", 2.5, \"saltwater\")\n",
    "db.add_fish(\"Tai\", 3.7, \"saltwater\")\n",
    "\n",
    "all_fish = db.get_all_fish()\n",
    "average_weight = calculate_average_weight(all_fish)\n",
    "\n",
    "print(f\"Fish in database: {len(all_fish)}\")\n",
    "for fish in all_fish:\n",
    "    print(f\"{fish['species']}: {fish['weight']} kg, {fish['habitat']}\")\n",
    "print(f\"Average weight: {average_weight:.2f} kg\")\n",
    "print(f\"Weight range: {MIN_FISH_WEIGHT} - {MAX_FISH_WEIGHT} kg\")"
   ]
  },
  {
   "cell_type": "markdown",
   "metadata": {},
   "source": [
    "### Programming Recommendations\n",
    "\n",
    "#### Comparisons"
   ]
  },
  {
   "cell_type": "code",
   "execution_count": null,
   "metadata": {},
   "outputs": [],
   "source": [
    "# Good comparisons\n",
    "def check_fish_weight(weight):\n",
    "    \"\"\"Check if a fish weight is valid and categorize it.\"\"\"\n",
    "    if weight is None:\n",
    "        return \"Unknown weight\"\n",
    "    \n",
    "    if weight <= 0:\n",
    "        return \"Invalid weight\"\n",
    "    \n",
    "    if weight < 1:\n",
    "        return \"Small\"\n",
    "    elif weight < 3:\n",
    "        return \"Medium\"\n",
    "    else:\n",
    "        return \"Large\"\n",
    "\n",
    "# Test the function\n",
    "weights = [None, -1, 0, 0.5, 1.5, 4.0]\n",
    "for weight in weights:\n",
    "    category = check_fish_weight(weight)\n",
    "    if weight is None:\n",
    "        print(f\"Fish with no weight: {category}\")\n",
    "    else:\n",
    "        print(f\"Fish weighing {weight} kg: {category}\")"
   ]
  },
  {
   "cell_type": "markdown",
   "metadata": {},
   "source": [
    "#### Boolean Checks"
   ]
  },
  {
   "cell_type": "code",
   "execution_count": null,
   "metadata": {},
   "outputs": [],
   "source": [
    "# Good boolean checks\n",
    "def process_fish_list(fish_list):\n",
    "    \"\"\"Process a list of fish if it's not empty.\"\"\"\n",
    "    if not fish_list:  # Checks if list is empty\n",
    "        print(\"No fish to process\")\n",
    "        return\n",
    "    \n",
    "    print(f\"Processing {len(fish_list)} fish...\")\n",
    "    for fish in fish_list:\n",
    "        print(f\"- {fish}\")\n",
    "\n",
    "# Test with empty and non-empty lists\n",
    "empty_list = []\n",
    "fish_list = [\"Koi\", \"Fugu\", \"Tai\"]\n",
    "\n",
    "print(\"Processing empty list:\")\n",
    "process_fish_list(empty_list)\n",
    "\n",
    "print(\"\\nProcessing non-empty list:\")\n",
    "process_fish_list(fish_list)"
   ]
  },
  {
   "cell_type": "markdown",
   "metadata": {},
   "source": [
    "#### Return Statements"
   ]
  },
  {
   "cell_type": "code",
   "execution_count": null,
   "metadata": {},
   "outputs": [],
   "source": [
    "# Good return statements\n",
    "def is_large_fish(weight):\n",
    "    \"\"\"Check if a fish is large (simplified version).\"\"\"\n",
    "    return weight > 3\n",
    "\n",
    "def get_fish_size(weight):\n",
    "    \"\"\"Get the size category of a fish based on weight.\"\"\"\n",
    "    if weight < 1:\n",
    "        return \"Small\"\n",
    "    elif weight < 3:\n",
    "        return \"Medium\"\n",
    "    else:\n",
    "        return \"Large\"\n",
    "\n",
    "# Test the functions\n",
    "weights = [0.5, 1.5, 4.0]\n",
    "for weight in weights:\n",
    "    is_large = is_large_fish(weight)\n",
    "    size = get_fish_size(weight)\n",
    "    print(f\"Fish weighing {weight} kg:\")\n",
    "    print(f\"  Is lar<response clipped><NOTE>To save on context only part of this file has been shown to you. You should retry this tool after you have searched inside the file with `grep -n` in order to find the line numbers of what you are looking for.</NOTE>