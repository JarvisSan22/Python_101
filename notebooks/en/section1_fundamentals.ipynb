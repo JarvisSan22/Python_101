{
 "cells": [
  {
   "cell_type": "markdown",
   "metadata": {},
   "source": [
    "# Section 1: Python Fundamentals - Workshop Notebook\n",
    "\n",
    "This notebook will guide you through the basics of Python programming, covering:\n",
    "- Introduction to Python\n",
    "- Syntax and Variables\n",
    "- Data Types and Operators\n",
    "- Conditional Statements\n",
    "- Loops"
   ]
  },
  {
   "cell_type": "markdown",
   "metadata": {},
   "source": [
    "## Introduction to Python\n",
    "\n",
    "Python is a high-level, interpreted programming language known for its readability and simplicity. Let's start by printing the classic \"Hello, World!\" message."
   ]
  },
  {
   "cell_type": "code",
   "execution_count": null,
   "metadata": {},
   "outputs": [],
   "source": [
    "print(\"Hello, World!\")"
   ]
  },
  {
   "cell_type": "markdown",
   "metadata": {},
   "source": [
    "### Checking Python Version\n",
    "\n",
    "It's always good to know which Python version you're using."
   ]
  },
  {
   "cell_type": "code",
   "execution_count": null,
   "metadata": {},
   "outputs": [],
   "source": [
    "import sys\n",
    "print(f\"Python version: {sys.version}\")\n",
    "print(f\"Python version info: {sys.version_info}\")"
   ]
  },
  {
   "cell_type": "markdown",
   "metadata": {},
   "source": [
    "## Python Syntax and Variables\n",
    "\n",
    "Python uses indentation to define code blocks. Variables in Python are dynamically typed, which means you don't need to declare their type explicitly."
   ]
  },
  {
   "cell_type": "code",
   "execution_count": null,
   "metadata": {},
   "outputs": [],
   "source": [
    "# This is a comment in Python\n",
    "\n",
    "# Variable assignment\n",
    "fish_name = \"Koi\"\n",
    "fish_count = 5\n",
    "water_temperature = 23.5\n",
    "\n",
    "# Print variables\n",
    "print(f\"Fish type: {fish_name}\")\n",
    "print(f\"Number of fish: {fish_count}\")\n",
    "print(f\"Water temperature: {water_temperature}°C\")"
   ]
  },
  {
   "cell_type": "markdown",
   "metadata": {},
   "source": [
    "### Multiple Assignment"
   ]
  },
  {
   "cell_type": "code",
   "execution_count": null,
   "metadata": {},
   "outputs": [],
   "source": [
    "# Assign multiple variables at once\n",
    "length, width, height = 10, 5, 2\n",
    "print(f\"Tank dimensions: {length}cm × {width}cm × {height}cm\")\n",
    "\n",
    "# Swap values without a temporary variable\n",
    "fish_a, fish_b = \"Tai\", \"Fugu\"\n",
    "print(f\"Before swap: fish_a = {fish_a}, fish_b = {fish_b}\")\n",
    "\n",
    "fish_a, fish_b = fish_b, fish_a\n",
    "print(f\"After swap: fish_a = {fish_a}, fish_b = {fish_b}\")"
   ]
  },
  {
   "cell_type": "markdown",
   "metadata": {},
   "source": [
    "## Data Types and Operators\n",
    "\n",
    "Python has several built-in data types. Let's explore them."
   ]
  },
  {
   "cell_type": "markdown",
   "metadata": {},
   "source": [
    "### Numeric Types: int and float"
   ]
  },
  {
   "cell_type": "code",
   "execution_count": null,
   "metadata": {},
   "outputs": [],
   "source": [
    "# Integer\n",
    "koi_count = 7\n",
    "print(f\"Type of koi_count: {type(koi_count)}\")\n",
    "\n",
    "# Float\n",
    "fish_weight = 2.5\n",
    "print(f\"Type of fish_weight: {type(fish_weight)}\")\n",
    "\n",
    "# Arithmetic operations\n",
    "total_weight = koi_count * fish_weight\n",
    "print(f\"Total weight of all koi: {total_weight} kg\")"
   ]
  },
  {
   "cell_type": "markdown",
   "metadata": {},
   "source": [
    "### String Type"
   ]
  },
  {
   "cell_type": "code",
   "execution_count": null,
   "metadata": {},
   "outputs": [],
   "source": [
    "# String creation\n",
    "fish_type = \"Maguro\"  # Tuna in Japanese\n",
    "description = 'A popular fish for sushi'\n",
    "\n",
    "# Multi-line string\n",
    "fish_info = \"\"\"Maguro (Tuna) is highly prized in Japanese cuisine.\n",
    "It is commonly used in sushi and sashimi dishes.\n",
    "The bluefin tuna is particularly valued for its taste and texture.\"\"\"\n",
    "\n",
    "print(fish_type)\n",
    "print(description)\n",
    "print(fish_info)"
   ]
  },
  {
   "cell_type": "markdown",
   "metadata": {},
   "source": [
    "### String Operations"
   ]
  },
  {
   "cell_type": "code",
   "execution_count": null,
   "metadata": {},
   "outputs": [],
   "source": [
    "# String concatenation\n",
    "first_part = \"Japanese\"\n",
    "second_part = \"fish\"\n",
    "combined = first_part + \" \" + second_part\n",
    "print(combined)\n",
    "\n",
    "# String repetition\n",
    "pattern = \"fish \" * 3\n",
    "print(pattern)\n",
    "\n",
    "# String length\n",
    "fish_name = \"Hirame\"  # Flounder in Japanese\n",
    "print(f\"Length of '{fish_name}': {len(fish_name)}\")\n",
    "\n",
    "# String indexing (starts at 0)\n",
    "print(f\"First character: {fish_name[0]}\")\n",
    "print(f\"Last character: {fish_name[-1]}\")\n",
    "\n",
    "# String slicing\n",
    "print(f\"First three characters: {fish_name[0:3]}\")\n",
    "print(f\"Last three characters: {fish_name[-3:]}\")"
   ]
  },
  {
   "cell_type": "markdown",
   "metadata": {},
   "source": [
    "### Boolean Type"
   ]
  },
  {
   "cell_type": "code",
   "execution_count": null,
   "metadata": {},
   "outputs": [],
   "source": [
    "# Boolean values\n",
    "is_freshwater = True\n",
    "is_saltwater = False\n",
    "\n",
    "print(f\"Is freshwater: {is_freshwater}\")\n",
    "print(f\"Is saltwater: {is_saltwater}\")\n",
    "\n",
    "# Boolean operations\n",
    "print(f\"is_freshwater AND is_saltwater: {is_freshwater and is_saltwater}\")\n",
    "print(f\"is_freshwater OR is_saltwater: {is_freshwater or is_saltwater}\")\n",
    "print(f\"NOT is_freshwater: {not is_freshwater}\")"
   ]
  },
  {
   "cell_type": "markdown",
   "metadata": {},
   "source": [
    "### Type Conversion"
   ]
  },
  {
   "cell_type": "code",
   "execution_count": null,
   "metadata": {},
   "outputs": [],
   "source": [
    "# String to int\n",
    "count_str = \"10\"\n",
    "count_int = int(count_str)\n",
    "print(f\"String '{count_str}' converted to integer: {count_int}\")\n",
    "\n",
    "# Int to string\n",
    "num = 42\n",
    "num_str = str(num)\n",
    "print(f\"Integer {num} converted to string: '{num_str}'\")\n",
    "\n",
    "# Float to int (truncates decimal part)\n",
    "weight = 3.7\n",
    "weight_int = int(weight)\n",
    "print(f\"Float {weight} converted to integer: {weight_int}\")\n",
    "\n",
    "# Int to float\n",
    "age = 5\n",
    "age_float = float(age)\n",
    "print(f\"Integer {age} converted to float: {age_float}\")\n",
    "\n",
    "# String to float\n",
    "price_str = \"25.99\"\n",
    "price_float = float(price_str)\n",
    "print(f\"String '{price_str}' converted to float: {price_float}\")"
   ]
  },
  {
   "cell_type": "markdown",
   "metadata": {},
   "source": [
    "## Conditional Statements\n",
    "\n",
    "Conditional statements allow your program to make decisions based on conditions."
   ]
  },
  {
   "cell_type": "markdown",
   "metadata": {},
   "source": [
    "### if Statement"
   ]
  },
  {
   "cell_type": "code",
   "execution_count": null,
   "metadata": {},
   "outputs": [],
   "source": [
    "fish_type = \"Fugu\"  # Pufferfish\n",
    "\n",
    "if fish_type == \"Fugu\":\n",
    "    print(\"Caution: Fugu must be prepared by a licensed chef!\")"
   ]
  },
  {
   "cell_type": "markdown",
   "metadata": {},
   "source": [
    "### if-else Statement"
   ]
  },
  {
   "cell_type": "code",
   "execution_count": null,
   "metadata": {},
   "outputs": [],
   "source": [
    "water_temp = 25  # Celsius\n",
    "\n",
    "if water_temp > 28:\n",
    "    print(\"Water is too warm for Koi fish\")\n",
    "else:\n",
    "    print(\"Water temperature is suitable for Koi fish\")"
   ]
  },
  {
   "cell_type": "markdown",
   "metadata": {},
   "source": [
    "### if-elif-else Statement"
   ]
  },
  {
   "cell_type": "code",
   "execution_count": null,
   "metadata": {},
   "outputs": [],
   "source": [
    "fish_type = \"Tai\"  # Sea bream\n",
    "\n",
    "if fish_type == \"Fugu\":\n",
    "    print(\"Fugu (pufferfish) must be prepared carefully due to toxins\")\n",
    "elif fish_type == \"Tai\":\n",
    "    print(\"Tai (sea bream) is often served on celebratory occasions in Japan\")\n",
    "elif fish_type == \"Koi\":\n",
    "    print(\"Koi are ornamental fish, not typically eaten\")\n",
    "else:\n",
    "    print(\"Information about this fish type is not available\")"
   ]
  },
  {
   "cell_type": "markdown",
   "metadata": {},
   "source": [
    "### Nested Conditionals"
   ]
  },
  {
   "cell_type": "code",
   "execution_count": null,
   "metadata": {},
   "outputs": [],
   "source": [
    "fish_type = \"Koi\"\n",
    "fish_color = \"Red and White\"\n",
    "\n",
    "if fish_type == \"Koi\":\n",
    "    print(\"This is a Koi fish\")\n",
    "    \n",
    "    if fish_color == \"Red and White\":\n",
    "        print(\"This is a Kohaku Koi, one of the most popular varieties\")\n",
    "    elif fish_color == \"Gold\":\n",
    "        print(\"This might be an Ogon Koi\")\n",
    "    else:\n",
    "        print(f\"This Koi has {fish_color} coloration\")\n",
    "else:\n",
    "    print(\"This is not a Koi fish\")"
   ]
  },
  {
   "cell_type": "markdown",
   "metadata": {},
   "source": [
    "### Conditional Expressions (Ternary Operator)"
   ]
  },
  {
   "cell_type": "code",
   "execution_count": null,
   "metadata": {},
   "outputs": [],
   "source": [
    "fish_length = 15  # cm\n",
    "\n",
    "# Traditional if-else\n",
    "if fish_length > 10:\n",
    "    size_category = \"Large\"\n",
    "else:\n",
    "    size_category = \"Small\"\n",
    "    \n",
    "print(f\"Traditional if-else result: {size_category}\")\n",
    "\n",
    "# Ternary operator (conditional expression)\n",
    "size_category = \"Large\" if fish_length > 10 else \"Small\"\n",
    "print(f\"Ternary operator result: {size_category}\")"
   ]
  },
  {
   "cell_type": "markdown",
   "metadata": {},
   "source": [
    "## Loops\n",
    "\n",
    "Loops allow you to repeat code execution multiple times."
   ]
  },
  {
   "cell_type": "markdown",
   "metadata": {},
   "source": [
    "### For Loops"
   ]
  },
  {
   "cell_type": "code",
   "execution_count": null,
   "metadata": {},
   "outputs": [],
   "source": [
    "# Iterating through a list\n",
    "japanese_fish = [\"Koi\", \"Fugu\", \"Tai\", \"Maguro\", \"Unagi\"]\n",
    "\n",
    "print(\"List of Japanese fish:\")\n",
    "for fish in japanese_fish:\n",
    "    print(f\"- {fish}\")"
   ]
  },
  {
   "cell_type": "code",
   "execution_count": null,
   "metadata": {},
   "outputs": [],
   "source": [
    "# Using range()\n",
    "print(\"Counting from 0 to 4:\")\n",
    "for i in range(5):  # 0, 1, 2, 3, 4\n",
    "    print(i)\n",
    "\n",
    "print(\"\\nCounting from 1 to 5:\")\n",
    "for i in range(1, 6):  # 1, 2, 3, 4, 5\n",
    "    print(i)\n",
    "\n",
    "print(\"\\nCounting from 0 to 10 by 2s:\")\n",
    "for i in range(0, 11, 2):  # 0, 2, 4, 6, 8, 10\n",
    "    print(i)"
   ]
  },
  {
   "cell_type": "code",
   "execution_count": null,
   "metadata": {},
   "outputs": [],
   "source": [
    "# Iterating with index\n",
    "fish_types = [\"Koi\", \"Fugu\", \"Tai\", \"Maguro\"]\n",
    "\n",
    "for index, fish in enumerate(fish_types):\n",
    "    print(f\"Fish {index + 1}: {fish}\")"
   ]
  },
  {
   "cell_type": "markdown",
   "metadata": {},
   "source": [
    "### While Loops"
   ]
  },
  {
   "cell_type": "code",
   "execution_count": null,
   "metadata": {},
   "outputs": [],
   "source": [
    "# Basic while loop\n",
    "water_temp = 20\n",
    "target_temp = 25\n",
    "\n",
    "print(\"Heating water...\")\n",
    "while water_temp < target_temp:\n",
    "    print(f\"Current water temperature: {water_temp}°C\")\n",
    "    water_temp += 1\n",
    "\n",
    "print(f\"Target temperature reached: {water_temp}°C\")"
   ]
  },
  {
   "cell_type": "markdown",
   "metadata": {},
   "source": [
    "### Loop Control Statements"
   ]
  },
  {
   "cell_type": "code",
   "execution_count": null,
   "metadata": {},
   "outputs": [],
   "source": [
    "# Break statement\n",
    "fish_types = [\"Koi\", \"Fugu\", \"Tai\", \"Maguro\", \"Unagi\"]\n",
    "\n",
    "print(\"Searching for Fugu...\")\n",
    "for fish in fish_types:\n",
    "    print(f\"Checking: {fish}\")\n",
    "    if fish == \"Fugu\":\n",
    "        print(\"Found Fugu! Stopping search.\")\n",
    "        break"
   ]
  },
  {
   "cell_type": "code",
   "execution_count": null,
   "metadata": {},
   "outputs": [],
   "source": [
    "# Continue statement\n",
    "fish_types = [\"Koi\", \"Fugu\", \"Tai\", \"Maguro\", \"Unagi\"]\n",
    "\n",
    "print(\"Processing fish (skipping Fugu):\")\n",
    "for fish in fish_types:\n",
    "    if fish == \"Fugu\":\n",
    "        print(f\"Skipping {fish} as it requires special handling\")\n",
    "        continue\n",
    "    print(f\"Processing: {fish}\")"
   ]
  },
  {
   "cell_type": "markdown",
   "metadata": {},
   "source": [
    "### Nested Loops"
   ]
  },
  {
   "cell_type": "code",
   "execution_count": null,
   "metadata": {},
   "outputs": [],
   "source": [
    "fish_types = [\"Koi\", \"Tai\"]\n",
    "colors = [\"Red\", \"White\", \"Black\"]\n",
    "\n",
    "print(\"Fish varieties:\")\n",
    "for fish in fish_types:\n",
    "    for color in colors:\n",
    "        print(f\"- {color} {fish}\")"
   ]
  },
  {
   "cell_type": "markdown",
   "metadata": {},
   "source": [
    "### Loop with else"
   ]
  },
  {
   "cell_type": "code",
   "execution_count": null,
   "metadata": {},
   "outputs": [],
   "source": [
    "# For loop with else\n",
    "fish_to_find = \"Saba\"  # Mackerel in Japanese\n",
    "fish_types = [\"Koi\", \"Fugu\", \"Tai\", \"Maguro\"]\n",
    "\n",
    "for fish in fish_types:\n",
    "    if fish == fish_to_find:\n",
    "        print(f\"Found {fish_to_find}!\")\n",
    "        break\n",
    "else:  # This else belongs to the for loop, not an if statement\n",
    "    print(f\"{fish_to_find} not found in the list\")"
   ]
  },
  {
   "cell_type": "markdown",
   "metadata": {},
   "source": [
    "## Practice Exercises\n",
    "\n",
    "Now it's your turn to practice! Try solving these exercises to reinforce what you've learned."
   ]
  },
  {
   "cell_type": "markdown",
   "metadata": {},
   "source": [
    "### Exercise 1: Variable Assignment and String Formatting\n",
    "\n",
    "Create variables for a fish's name, type, and weight. Then print a formatted string that includes all three variables."
   ]
  },
  {
   "cell_type": "code",
   "execution_count": null,
   "metadata": {},
   "outputs": [],
   "source": [
    "# Your code here\n"
   ]
  },
  {
   "cell_type": "markdown",
   "metadata": {},
   "source": [
    "### Exercise 2: Conditional Statements\n",
    "\n",
    "Write a program that categorizes fish based on their habitat:\n",
    "- If the habitat is \"ocean\", print \"This is a saltwater fish\"\n",
    "- If the habitat is \"river\" or \"lake\", print \"This is a freshwater fish\"\n",
    "- Otherwise, print \"Unknown habitat\""
   ]
  },
  {
   "cell_type": "code",
   "execution_count": null,
   "metadata": {},
   "outputs": [],
   "source": [
    "# Your code here\n",
    "habitat = \"river\"  # Try changing this to \"ocean\", \"lake\", or something else\n"
   ]
  },
  {
   "cell_type": "markdown",
   "metadata": {},
   "source": [
    "### Exercise 3: Loops\n",
    "\n",
    "Create a list of 5 Japanese fish. Use a loop to print each fish name along with its length (number of characters)."
   ]
  },
  {
   "cell_type": "code",
   "execution_count": null,
   "metadata": {},
   "outputs": [],
   "source": [
    "# Your code here\n"
   ]
  },
  {
   "cell_type": "markdown",
   "metadata": {},<response clipped><NOTE>To save on context only part of this file has been shown to you. You should retry this tool after you have searched inside the file with `grep -n` in order to find the line numbers of what you are looking for.</NOTE>