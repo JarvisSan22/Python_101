{
 "cells": [
  {
   "cell_type": "markdown",
   "metadata": {},
   "source": [
    "# Section 3: Functions and Modularity - Workshop Notebook\n",
    "\n",
    "This notebook will guide you through Python's functions and modularity features, covering:\n",
    "- Functions and their parameters\n",
    "- Return values and variable scope\n",
    "- Modules and imports\n",
    "- File Input/Output operations\n",
    "- Understanding `main()` and `__name__`\n",
    "- Command line arguments"
   ]
  },
  {
   "cell_type": "markdown",
   "metadata": {},
   "source": [
    "## Functions\n",
    "\n",
    "Functions are reusable blocks of code that perform specific tasks. They help organize code, avoid repetition, and make programs more readable and maintainable."
   ]
  },
  {
   "cell_type": "markdown",
   "metadata": {},
   "source": [
    "### Defining and Calling Functions"
   ]
  },
  {
   "cell_type": "code",
   "execution_count": null,
   "metadata": {},
   "outputs": [],
   "source": [
    "# Basic function definition\n",
    "def greet_fish():\n",
    "    print(\"Hello, fish world!\")\n",
    "\n",
    "# Calling the function\n",
    "greet_fish()"
   ]
  },
  {
   "cell_type": "markdown",
   "metadata": {},
   "source": [
    "### Functions with Parameters"
   ]
  },
  {
   "cell_type": "code",
   "execution_count": null,
   "metadata": {},
   "outputs": [],
   "source": [
    "# Function with parameters\n",
    "def describe_fish(name, weight):\n",
    "    print(f\"This {name} weighs {weight} kg.\")\n",
    "\n",
    "# Calling with positional arguments\n",
    "describe_fish(\"Koi\", 2.5)"
   ]
  },
  {
   "cell_type": "code",
   "execution_count": null,
   "metadata": {},
   "outputs": [],
   "source": [
    "# Function with default parameter values\n",
    "def fish_status(name, is_freshwater=True):\n",
    "    habitat = \"freshwater\" if is_freshwater else \"saltwater\"\n",
    "    print(f\"The {name} is a {habitat} fish.\")\n",
    "\n",
    "# Using default parameter value\n",
    "fish_status(\"Koi\")\n",
    "\n",
    "# Overriding default parameter value\n",
    "fish_status(\"Maguro\", False)"
   ]
  },
  {
   "cell_type": "code",
   "execution_count": null,
   "metadata": {},
   "outputs": [],
   "source": [
    "# Using keyword arguments (order doesn't matter)\n",
    "describe_fish(weight=3.2, name=\"Tai\")"
   ]
  },
  {
   "cell_type": "markdown",
   "metadata": {},
   "source": [
    "### Return Values"
   ]
  },
  {
   "cell_type": "code",
   "execution_count": null,
   "metadata": {},
   "outputs": [],
   "source": [
    "# Function that returns a value\n",
    "def calculate_fish_tank_volume(length, width, height):\n",
    "    volume = length * width * height\n",
    "    return volume\n",
    "\n",
    "# Using the returned value\n",
    "tank_volume = calculate_fish_tank_volume(100, 40, 30)  # in cm³\n",
    "print(f\"Tank volume: {tank_volume} cm³\")\n",
    "print(f\"Tank volume: {tank_volume/1000} liters\")"
   ]
  },
  {
   "cell_type": "code",
   "execution_count": null,
   "metadata": {},
   "outputs": [],
   "source": [
    "# Function that returns multiple values\n",
    "def fish_stats(fish_list):\n",
    "    count = len(fish_list)\n",
    "    heaviest = max(fish_list, key=lambda x: x[1])\n",
    "    return count, heaviest\n",
    "\n",
    "# Using returned values\n",
    "fish_data = [(\"Koi\", 2.5), (\"Tai\", 1.8), (\"Fugu\", 3.2)]\n",
    "count, (heaviest_name, heaviest_weight) = fish_stats(fish_data)\n",
    "print(f\"Total fish: {count}\")\n",
    "print(f\"Heaviest fish: {heaviest_name}, {heaviest_weight} kg\")"
   ]
  },
  {
   "cell_type": "markdown",
   "metadata": {},
   "source": [
    "### Variable Scope\n",
    "\n",
    "The scope of a variable determines where it can be accessed from."
   ]
  },
  {
   "cell_type": "code",
   "execution_count": null,
   "metadata": {},
   "outputs": [],
   "source": [
    "# Global variable\n",
    "total_fish = 0\n",
    "\n",
    "def add_fish(count):\n",
    "    # This creates a local variable, not modifying the global one\n",
    "    total_fish = count\n",
    "    print(f\"Local total_fish: {total_fish}\")\n",
    "\n",
    "def add_fish_global(count):\n",
    "    # This modifies the global variable\n",
    "    global total_fish\n",
    "    total_fish += count\n",
    "    print(f\"Global total_fish: {total_fish}\")\n",
    "\n",
    "add_fish(5)\n",
    "print(f\"After add_fish: {total_fish}\")  # Still 0\n",
    "\n",
    "add_fish_global(5)\n",
    "print(f\"After add_fish_global: {total_fish}\")  # Now 5"
   ]
  },
  {
   "cell_type": "markdown",
   "metadata": {},
   "source": [
    "### Lambda Functions\n",
    "\n",
    "Lambda functions are small anonymous functions defined with the `lambda` keyword."
   ]
  },
  {
   "cell_type": "code",
   "execution_count": null,
   "metadata": {},
   "outputs": [],
   "source": [
    "# Regular function\n",
    "def double(x):\n",
    "    return x * 2\n",
    "\n",
    "# Equivalent lambda function\n",
    "double_lambda = lambda x: x * 2\n",
    "\n",
    "print(f\"Regular function: {double(5)}\")\n",
    "print(f\"Lambda function: {double_lambda(5)}\")"
   ]
  },
  {
   "cell_type": "code",
   "execution_count": null,
   "metadata": {},
   "outputs": [],
   "source": [
    "# Lambda in sorting\n",
    "fish_data = [(\"Koi\", 2.5), (\"Tai\", 1.8), (\"Fugu\", 3.2)]\n",
    "\n",
    "# Sort by fish name\n",
    "sorted_by_name = sorted(fish_data, key=lambda fish: fish[0])\n",
    "print(f\"Sorted by name: {sorted_by_name}\")\n",
    "\n",
    "# Sort by fish weight\n",
    "sorted_by_weight = sorted(fish_data, key=lambda fish: fish[1])\n",
    "print(f\"Sorted by weight: {sorted_by_weight}\")"
   ]
  },
  {
   "cell_type": "code",
   "execution_count": null,
   "metadata": {},
   "outputs": [],
   "source": [
    "# Lambda with filter\n",
    "weights = [0.5, 1.2, 2.5, 3.0, 4.2]\n",
    "large_fish = list(filter(lambda w: w > 2.0, weights))\n",
    "print(f\"Weights of large fish: {large_fish}\")"
   ]
  },
  {
   "cell_type": "markdown",
   "metadata": {},
   "source": [
    "### Docstrings\n",
    "\n",
    "Docstrings are documentation strings that describe what a function does."
   ]
  },
  {
   "cell_type": "code",
   "execution_count": null,
   "metadata": {},
   "outputs": [],
   "source": [
    "def calculate_fish_tank_volume(length, width, height):\n",
    "    \"\"\"\n",
    "    Calculate the volume of a rectangular fish tank.\n",
    "    \n",
    "    Args:\n",
    "        length (float): Length of the tank in centimeters\n",
    "        width (float): Width of the tank in centimeters\n",
    "        height (float): Height of the tank in centimeters\n",
    "        \n",
    "    Returns:\n",
    "        float: Volume of the tank in cubic centimeters\n",
    "    \"\"\"\n",
    "    volume = length * width * height\n",
    "    return volume\n",
    "\n",
    "# Accessing the docstring\n",
    "print(calculate_fish_tank_volume.__doc__)\n",
    "\n",
    "# Or using help\n",
    "help(calculate_fish_tank_volume)"
   ]
  },
  {
   "cell_type": "markdown",
   "metadata": {},
   "source": [
    "## Modules\n",
    "\n",
    "Modules are Python files containing code (functions, variables, classes) that can be imported and used in other Python files."
   ]
  },
  {
   "cell_type": "markdown",
   "metadata": {},
   "source": [
    "### Importing Built-in Modules"
   ]
  },
  {
   "cell_type": "code",
   "execution_count": null,
   "metadata": {},
   "outputs": [],
   "source": [
    "# Import the entire module\n",
    "import math\n",
    "\n",
    "radius = 5\n",
    "area = math.pi * radius ** 2\n",
    "print(f\"Area of circle with radius {radius}: {area}\")\n",
    "\n",
    "# Square root\n",
    "print(f\"Square root of 16: {math.sqrt(16)}\")"
   ]
  },
  {
   "cell_type": "code",
   "execution_count": null,
   "metadata": {},
   "outputs": [],
   "source": [
    "# Import specific items from a module\n",
    "from math import pi, sqrt\n",
    "\n",
    "area = pi * radius ** 2\n",
    "diagonal = sqrt(10)\n",
    "print(f\"Area: {area}, Diagonal: {diagonal}\")"
   ]
  },
  {
   "cell_type": "code",
   "execution_count": null,
   "metadata": {},
   "outputs": [],
   "source": [
    "# Import with an alias\n",
    "import math as m\n",
    "\n",
    "area = m.pi * radius ** 2\n",
    "print(f\"Area: {area}\")"
   ]
  },
  {
   "cell_type": "markdown",
   "metadata": {},
   "source": [
    "### Using the Random Module"
   ]
  },
  {
   "cell_type": "code",
   "execution_count": null,
   "metadata": {},
   "outputs": [],
   "source": [
    "import random\n",
    "\n",
    "# Random number between 0 and 1\n",
    "print(f\"Random float: {random.random()}\")\n",
    "\n",
    "# Random integer in range\n",
    "fish_count = random.randint(1, 10)\n",
    "print(f\"Random fish count: {fish_count}\")\n",
    "\n",
    "# Random choice from a sequence\n",
    "fish_types = [\"Koi\", \"Fugu\", \"Tai\", \"Maguro\", \"Unagi\"]\n",
    "selected_fish = random.choice(fish_types)\n",
    "print(f\"Randomly selected fish: {selected_fish}\")\n",
    "\n",
    "# Shuffle a list\n",
    "fish_list = fish_types.copy()\n",
    "random.shuffle(fish_list)\n",
    "print(f\"Shuffled fish list: {fish_list}\")"
   ]
  },
  {
   "cell_type": "markdown",
   "metadata": {},
   "source": [
    "### Using the Datetime Module"
   ]
  },
  {
   "cell_type": "code",
   "execution_count": null,
   "metadata": {},
   "outputs": [],
   "source": [
    "import datetime\n",
    "\n",
    "# Current date and time\n",
    "now = datetime.datetime.now()\n",
    "print(f\"Current date and time: {now}\")\n",
    "print(f\"Current year: {now.year}\")\n",
    "print(f\"Current month: {now.month}\")\n",
    "print(f\"Current day: {now.day}\")\n",
    "\n",
    "# Creating a specific date\n",
    "fish_festival = datetime.datetime(2023, 5, 5)  # Year, month, day\n",
    "print(f\"Fish Festival date: {fish_festival}\")\n",
    "\n",
    "# Date arithmetic\n",
    "feeding_day = now + datetime.timedelta(days=3)\n",
    "print(f\"Next feeding day: {feeding_day}\")\n",
    "\n",
    "# Formatting dates\n",
    "formatted_date = now.strftime(\"%Y-%m-%d %H:%M:%S\")\n",
    "print(f\"Formatted date: {formatted_date}\")"
   ]
  },
  {
   "cell_type": "markdown",
   "metadata": {},
   "source": [
    "### Creating a Custom Module\n",
    "\n",
    "Let's create a simple module for fish-related calculations. In a real project, this would be in a separate file, but for this notebook, we'll simulate it."
   ]
  },
  {
   "cell_type": "code",
   "execution_count": null,
   "metadata": {},
   "outputs": [],
   "source": [
    "# This would normally be in a file called fish_utils.py\n",
    "\n",
    "def calculate_fish_tank_volume(length, width, height):\n",
    "    \"\"\"Calculate the volume of a rectangular fish tank in liters.\"\"\"\n",
    "    volume_cm3 = length * width * height\n",
    "    volume_liters = volume_cm3 / 1000\n",
    "    return volume_liters\n",
    "\n",
    "def is_tank_overcrowded(tank_volume, fish_count, liters_per_fish=10):\n",
    "    \"\"\"Check if a tank is overcrowded based on the recommended water volume per fish.\"\"\"\n",
    "    return tank_volume < fish_count * liters_per_fish\n",
    "\n",
    "def recommend_fish_count(tank_volume, liters_per_fish=10):\n",
    "    \"\"\"Recommend the maximum number of fish for a tank.\"\"\"\n",
    "    return int(tank_volume / liters_per_fish)\n",
    "\n",
    "# Constants\n",
    "FRESHWATER_FISH = [\"Koi\", \"Goldfish\", \"Guppy\"]\n",
    "SALTWATER_FISH = [\"Tai\", \"Maguro\", \"Fugu\"]"
   ]
  },
  {
   "cell_type": "code",
   "execution_count": null,
   "metadata": {},
   "outputs": [],
   "source": [
    "# Now we can use our \"module\"\n",
    "\n",
    "# Calculate tank volume\n",
    "tank_vol = calculate_fish_tank_volume(100, 40, 30)\n",
    "print(f\"Tank volume: {tank_vol:.2f} liters\")\n",
    "\n",
    "# Check if tank is overcrowded\n",
    "fish_count = 15\n",
    "is_crowded = is_tank_overcrowded(tank_vol, fish_count)\n",
    "print(f\"Is the tank overcrowded with {fish_count} fish? {is_crowded}\")\n",
    "\n",
    "# Get recommended fish count\n",
    "max_fish = recommend_fish_count(tank_vol)\n",
    "print(f\"Recommended maximum fish count: {max_fish}\")\n",
    "\n",
    "# Use the constants\n",
    "print(f\"Freshwater fish: {FRESHWATER_FISH}\")\n",
    "print(f\"Saltwater fish: {SALTWATER_FISH}\")"
   ]
  },
  {
   "cell_type": "markdown",
   "metadata": {},
   "source": [
    "## File Input/Output Operations\n",
    "\n",
    "Python provides several ways to read from and write to files."
   ]
  },
  {
   "cell_type": "markdown",
   "metadata": {},
   "source": [
    "### Writing to Files"
   ]
  },
  {
   "cell_type": "code",
   "execution_count": null,
   "metadata": {},
   "outputs": [],
   "source": [
    "# Writing to a file\n",
    "with open(\"fish_list.txt\", \"w\") as file:\n",
    "    file.write(\"Koi\\n\")  # \\n is a newline character\n",
    "    file.write(\"Fugu\\n\")\n",
    "    file.write(\"Tai\\n\")\n",
    "    file.write(\"Maguro\\n\")\n",
    "    file.write(\"Unagi\\n\")\n",
    "\n",
    "print(\"File written successfully!\")"
   ]
  },
  {
   "cell_type": "markdown",
   "metadata": {},
   "source": [
    "### Reading from Files"
   ]
  },
  {
   "cell_type": "code",
   "execution_count": null,
   "metadata": {},
   "outputs": [],
   "source": [
    "# Reading the entire file at once\n",
    "with open(\"fish_list.txt\", \"r\") as file:\n",
    "    content = file.read()\n",
    "    print(\"File content:\")\n",
    "    print(content)"
   ]
  },
  {
   "cell_type": "code",
   "execution_count": null,
   "metadata": {},
   "outputs": [],
   "source": [
    "# Reading line by line\n",
    "with open(\"fish_list.txt\", \"r\") as file:\n",
    "    print(\"Reading line by line:\")\n",
    "    for line in file:\n",
    "        print(f\"- {line.strip()}\")  # strip() removes trailing newline"
   ]
  },
  {
   "cell_type": "code",
   "execution_count": null,
   "metadata": {},
   "outputs": [],
   "source": [
    "# Reading all lines into a list\n",
    "with open(\"fish_list.txt\", \"r\") as file:\n",
    "    lines = file.readlines()\n",
    "    print(\"Lines as a list:\")\n",
    "    print(lines)\n",
    "    \n",
    "    print(\"\\nProcessed lines:\")\n",
    "    for line in lines:\n",
    "        print(f\"- {line.strip()}\")"
   ]
  },
  {
   "cell_type": "markdown",
   "metadata": {},
   "source": [
    "### Appending to Files"
   ]
  },
  {
   "cell_type": "code",
   "execution_count": null,
   "metadata": {},
   "outputs": [],
   "source": [
    "# Appending to a file\n",
    "with open(\"fish_list.txt\", \"a\") as file:\n",
    "    file.write(\"Saba\\n\")  # Adding mackerel\n",
    "    file.write(\"Hirame\\n\")  # Adding flounder\n",
    "\n",
    "print(\"File updated!\")\n",
    "\n",
    "# Let's read it again to see the changes\n",
    "with open(\"fish_list.txt\", \"r\") as file:\n",
    "    content = file.read()\n",
    "    print(\"Updated file content:\")\n",
    "    print(content)"
   ]
  },
  {
   "cell_type": "markdown",
   "metadata": {},
   "source": [
    "### Working with CSV Files\n",
    "\n",
    "CSV (Comma-Separated Values) is a common format for tabular data."
   ]
  },
  {
   "cell_type": "code",
   "execution_count": null,
   "metadata": {},
   "outputs": [],
   "source": [
    "import csv\n",
    "\n",
    "# Writing CSV data\n",
    "fish_data = [\n",
    "    [\"Name\", \"Type\", \"Weight (kg)\", \"Price (yen)\"],\n",
    "    [\"Koi\", \"Freshwater\", 2.5, 15000],\n",
    "    [\"Fugu\", \"Saltwater\", 3.2, 8000],\n",
    "    [\"Tai\", \"Saltwater\", 1.8, 5000],\n",
    "    [\"Unagi\", \"Freshwater\", 1.2, 4000]\n",
    "]\n",
    "\n",
    "with open(\"fish_inventory.csv\", \"w\", newline=\"\") as file:\n",
    "    wr<response clipped><NOTE>To save on context only part of this file has been shown to you. You should retry this tool after you have searched inside the file with `grep -n` in order to find the line numbers of what you are looking for.</NOTE>