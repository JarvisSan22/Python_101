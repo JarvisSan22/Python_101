{
 "cells": [
  {
   "cell_type": "markdown",
   "metadata": {},
   "source": [
    "# セクション5: 科学計算 - NumPyとPandasの基礎\n",
    "\n",
    "このノートブックでは、Pythonの科学計算ライブラリであるNumPyとPandasの基本的な使い方を学びます。これらのライブラリは、データ分析、機械学習、画像処理など、多くの科学技術分野で広く使用されています。"
   ]
  },
  {
   "cell_type": "markdown",
   "metadata": {},
   "source": [
    "## 1. NumPyの基礎\n",
    "\n",
    "NumPy（Numerical Python）は、Pythonで科学計算を行うための基本的なパッケージです。多次元配列オブジェクト（ndarray）と、それらを操作するための多くの関数を提供します。"
   ]
  },
  {
   "cell_type": "code",
   "execution_count": null,
   "metadata": {},
   "outputs": [],
   "source": [
    "# NumPyのインポート\n",
    "import numpy as np\n",
    "\n",
    "# NumPyのバージョンを確認\n",
    "print(f\"NumPyのバージョン: {np.__version__}\")"
   ]
  },
  {
   "cell_type": "markdown",
   "metadata": {},
   "source": [
    "### 1.1 配列の作成\n",
    "\n",
    "NumPyの中心的なデータ構造は、多次元配列（ndarray）です。以下に、配列を作成するいくつかの方法を示します。"
   ]
  },
  {
   "cell_type": "code",
   "execution_count": null,
   "metadata": {},
   "outputs": [],
   "source": [
    "# リストから配列を作成\n",
    "arr1 = np.array([1, 2, 3, 4, 5])\n",
    "print(\"1次元配列:\", arr1)\n",
    "print(\"型:\", type(arr1))\n",
    "\n",
    "# 多次元配列の作成\n",
    "arr2 = np.array([[1, 2, 3], [4, 5, 6]])\n",
    "print(\"\\n2次元配列:\\n\", arr2)"
   ]
  },
  {
   "cell_type": "code",
   "execution_count": null,
   "metadata": {},
   "outputs": [],
   "source": [
    "# 特殊な配列の作成\n",
    "zeros = np.zeros((3, 4))  # 0で満たされた3x4配列\n",
    "print(\"ゼロ配列:\\n\", zeros)\n",
    "\n",
    "ones = np.ones((2, 3))  # 1で満たされた2x3配列\n",
    "print(\"\\n1の配列:\\n\", ones)\n",
    "\n",
    "identity = np.eye(3)  # 3x3の単位行列\n",
    "print(\"\\n単位行列:\\n\", identity)"
   ]
  },
  {
   "cell_type": "code",
   "execution_count": null,
   "metadata": {},
   "outputs": [],
   "source": [
    "# 等間隔の値を持つ配列\n",
    "linear = np.linspace(0, 10, 5)  # 0から10まで5等分\n",
    "print(\"線形間隔配列:\", linear)\n",
    "\n",
    "# 範囲を指定した配列\n",
    "range_arr = np.arange(0, 10, 2)  # 0から10未満まで2ステップ\n",
    "print(\"範囲配列:\", range_arr)"
   ]
  },
  {
   "cell_type": "code",
   "execution_count": null,
   "metadata": {},
   "outputs": [],
   "source": [
    "# 乱数配列\n",
    "np.random.seed(42)  # 再現性のために乱数シードを設定\n",
    "\n",
    "random_arr = np.random.rand(3, 3)  # 0〜1の一様乱数\n",
    "print(\"一様乱数配列:\\n\", random_arr)\n",
    "\n",
    "normal_arr = np.random.randn(3, 3)  # 標準正規分布からの乱数\n",
    "print(\"\\n正規分布乱数配列:\\n\", normal_arr)\n",
    "\n",
    "int_arr = np.random.randint(1, 100, (2, 4))  # 1から100までの整数乱数\n",
    "print(\"\\n整数乱数配列:\\n\", int_arr)"
   ]
  },
  {
   "cell_type": "markdown",
   "metadata": {},
   "source": [
    "### 1.2 配列の属性と情報\n",
    "\n",
    "NumPy配列には、形状、次元数、サイズ、データ型などの属性があります。"
   ]
  },
  {
   "cell_type": "code",
   "execution_count": null,
   "metadata": {},
   "outputs": [],
   "source": [
    "arr = np.array([[1, 2, 3], [4, 5, 6]])\n",
    "print(\"配列:\\n\", arr)\n",
    "print(\"形状:\", arr.shape)  # 配列の形状\n",
    "print(\"次元数:\", arr.ndim)  # 配列の次元数\n",
    "print(\"サイズ:\", arr.size)  # 要素の総数\n",
    "print(\"データ型:\", arr.dtype)  # 要素のデータ型"
   ]
  },
  {
   "cell_type": "markdown",
   "metadata": {},
   "source": [
    "### 1.3 配列の操作\n",
    "\n",
    "NumPy配列は、再形成、転置、結合、分割などの操作が可能です。"
   ]
  },
  {
   "cell_type": "code",
   "execution_count": null,
   "metadata": {},
   "outputs": [],
   "source": [
    "# 配列の再形成\n",
    "arr = np.arange(12)\n",
    "print(\"元の配列:\", arr)\n",
    "\n",
    "reshaped = arr.reshape(3, 4)  # 3行4列に再形成\n",
    "print(\"\\n再形成後:\\n\", reshaped)\n",
    "\n",
    "# 配列の転置\n",
    "transposed = reshaped.T  # 行と列を入れ替え\n",
    "print(\"\\n転置後:\\n\", transposed)"
   ]
  },
  {
   "cell_type": "code",
   "execution_count": null,
   "metadata": {},
   "outputs": [],
   "source": [
    "# 配列の結合\n",
    "a = np.array([[1, 2], [3, 4]])\n",
    "b = np.array([[5, 6], [7, 8]])\n",
    "\n",
    "print(\"配列a:\\n\", a)\n",
    "print(\"\\n配列b:\\n\", b)\n",
    "\n",
    "vertical = np.vstack((a, b))  # 垂直方向に結合\n",
    "print(\"\\n垂直結合:\\n\", vertical)\n",
    "\n",
    "horizontal = np.hstack((a, b))  # 水平方向に結合\n",
    "print(\"\\n水平結合:\\n\", horizontal)"
   ]
  },
  {
   "cell_type": "code",
   "execution_count": null,
   "metadata": {},
   "outputs": [],
   "source": [
    "# 配列の分割\n",
    "arr = np.arange(16).reshape(4, 4)\n",
    "print(\"元の配列:\\n\", arr)\n",
    "\n",
    "# 水平方向に分割\n",
    "h_split = np.hsplit(arr, 2)\n",
    "print(\"\\n水平分割1:\\n\", h_split[0])\n",
    "print(\"\\n水平分割2:\\n\", h_split[1])\n",
    "\n",
    "# 垂直方向に分割\n",
    "v_split = np.vsplit(arr, 2)\n",
    "print(\"\\n垂直分割1:\\n\", v_split[0])\n",
    "print(\"\\n垂直分割2:\\n\", v_split[1])"
   ]
  },
  {
   "cell_type": "markdown",
   "metadata": {},
   "source": [
    "### 1.4 インデックスとスライス\n",
    "\n",
    "NumPy配列は、インデックスとスライスを使用して要素にアクセスできます。"
   ]
  },
  {
   "cell_type": "code",
   "execution_count": null,
   "metadata": {},
   "outputs": [],
   "source": [
    "arr = np.arange(10)\n",
    "print(\"元の配列:\", arr)\n",
    "\n",
    "# インデックスによるアクセス\n",
    "print(\"インデックス5の要素:\", arr[5])\n",
    "\n",
    "# スライス\n",
    "print(\"スライス [2:7]:\", arr[2:7])\n",
    "print(\"スライス [::2]:\", arr[::2])  # 2ステップ"
   ]
  },
  {
   "cell_type": "code",
   "execution_count": null,
   "metadata": {},
   "outputs": [],
   "source": [
    "# 多次元配列のインデックス\n",
    "arr_2d = np.array([[1, 2, 3], [4, 5, 6], [7, 8, 9]])\n",
    "print(\"2次元配列:\\n\", arr_2d)\n",
    "\n",
    "print(\"\\n要素 (1,2):\", arr_2d[1, 2])  # 2行3列の要素\n",
    "print(\"1行目:\", arr_2d[0])  # 1行目全体\n",
    "\n",
    "# 多次元スライス\n",
    "print(\"\\n部分配列:\\n\", arr_2d[0:2, 1:3])"
   ]
  },
  {
   "cell_type": "code",
   "execution_count": null,
   "metadata": {},
   "outputs": [],
   "source": [
    "# ブール型インデックス\n",
    "arr = np.arange(10)\n",
    "mask = arr > 5\n",
    "print(\"配列:\", arr)\n",
    "print(\"マスク:\", mask)\n",
    "print(\"5より大きい要素:\", arr[mask])\n",
    "\n",
    "# 条件に基づくフィルタリング\n",
    "print(\"偶数要素:\", arr[arr % 2 == 0])"
   ]
  },
  {
   "cell_type": "markdown",
   "metadata": {},
   "source": [
    "### 1.5 ブロードキャスティング\n",
    "\n",
    "ブロードキャスティングは、形状の異なる配列間で算術演算を行うためのNumPyの機能です。"
   ]
  },
  {
   "cell_type": "code",
   "execution_count": null,
   "metadata": {},
   "outputs": [],
   "source": [
    "# スカラーと配列の演算\n",
    "arr = np.array([1, 2, 3, 4])\n",
    "print(\"元の配列:\", arr)\n",
    "print(\"スカラー加算:\", arr + 10)\n",
    "print(\"スカラー乗算:\", arr * 2)"
   ]
  },
  {
   "cell_type": "code",
   "execution_count": null,
   "metadata": {},
   "outputs": [],
   "source": [
    "# 異なる形状の配列間の演算\n",
    "a = np.array([[1, 2, 3], [4, 5, 6]])\n",
    "b = np.array([10, 20, 30])\n",
    "\n",
    "print(\"配列 a:\\n\", a)\n",
    "print(\"配列 b:\", b)\n",
    "print(\"a + b:\\n\", a + b)  # bは各行に対してブロードキャスト"
   ]
  },
  {
   "cell_type": "code",
   "execution_count": null,
   "metadata": {},
   "outputs": [],
   "source": [
    "# 列ベクトルとのブロードキャスト\n",
    "c = np.array([[10], [20]])\n",
    "print(\"配列 c:\\n\", c)\n",
    "print(\"a + c:\\n\", a + c)  # cは各列に対してブロードキャスト"
   ]
  },
  {
   "cell_type": "markdown",
   "metadata": {},
   "source": [
    "### 1.6 数学関数と統計関数\n",
    "\n",
    "NumPyには多くの数学関数と統計関数が用意されています。"
   ]
  },
  {
   "cell_type": "code",
   "execution_count": null,
   "metadata": {},
   "outputs": [],
   "source": [
    "arr = np.array([1, 2, 3, 4, 5])\n",
    "print(\"配列:\", arr)\n",
    "\n",
    "# 基本的な統計\n",
    "print(\"合計:\", np.sum(arr))\n",
    "print(\"平均:\", np.mean(arr))\n",
    "print(\"標準偏差:\", np.std(arr))\n",
    "print(\"分散:\", np.var(arr))\n",
    "print(\"最小値:\", np.min(arr))\n",
    "print(\"最大値:\", np.max(arr))\n",
    "print(\"最小値のインデックス:\", np.argmin(arr))\n",
    "print(\"最大値のインデックス:\", np.argmax(arr))"
   ]
  },
  {
   "cell_type": "code",
   "execution_count": null,
   "metadata": {},
   "outputs": [],
   "source": [
    "# 多次元配列の統計\n",
    "arr_2d = np.array([[1, 2, 3], [4, 5, 6]])\n",
    "print(\"2次元配列:\\n\", arr_2d)\n",
    "\n",
    "print(\"\\n行ごとの合計:\", np.sum(arr_2d, axis=1))\n",
    "print(\"列ごとの合計:\", np.sum(arr_2d, axis=0))"
   ]
  },
  {
   "cell_type": "code",
   "execution_count": null,
   "metadata": {},
   "outputs": [],
   "source": [
    "# 数学関数\n",
    "angles = np.array([0, np.pi/4, np.pi/2, np.pi])\n",
    "print(\"角度:\", angles)\n",
    "print(\"サイン:\", np.sin(angles))\n",
    "print(\"コサイン:\", np.cos(angles))\n",
    "\n",
    "arr = np.array([1, 2, 3, 4, 5])\n",
    "print(\"\\n配列:\", arr)\n",
    "print(\"指数:\", np.exp(arr))\n",
    "print(\"自然対数:\", np.log(arr))\n",
    "print(\"平方根:\", np.sqrt(arr))"
   ]
  },
  {
   "cell_type": "markdown",
   "metadata": {},
   "source": [
    "### 1.7 線形代数\n",
    "\n",
    "NumPyは線形代数演算のための関数も提供しています。"
   ]
  },
  {
   "cell_type": "code",
   "execution_count": null,
   "metadata": {},
   "outputs": [],
   "source": [
    "# 行列の作成\n",
    "A = np.array([[1, 2], [3, 4]])\n",
    "B = np.array([[5, 6], [7, 8]])\n",
    "print(\"行列 A:\\n\", A)\n",
    "print(\"\\n行列 B:\\n\", B)"
   ]
  },
  {
   "cell_type": "code",
   "execution_count": null,
   "metadata": {},
   "outputs": [],
   "source": [
    "# 行列の乗算\n",
    "C1 = np.dot(A, B)  # 行列の積（ドット積）\n",
    "print(\"行列の積 A・B (dot):\\n\", C1)\n",
    "\n",
    "C2 = A @ B  # Python 3.5以降の行列乗算演算子\n",
    "print(\"\\n行列の積 A・B (@):\\n\", C2)"
   ]
  },
  {
   "cell_type": "code",
   "execution_count": null,
   "metadata": {},
   "outputs": [],
   "source": [
    "# 行列式\n",
    "det_A = np.linalg.det(A)\n",
    "print(\"Aの行列式:\", det_A)"
   ]
  },
  {
   "cell_type": "code",
   "execution_count": null,
   "metadata": {},
   "outputs": [],
   "source": [
    "# 逆行列\n",
    "inv_A = np.linalg.inv(A)\n",
    "print(\"Aの逆行列:\\n\", inv_A)\n",
    "print(\"\\nA・A^(-1):\\n\", np.dot(A, inv_A))  # 単位行列に近い結果"
   ]
  },
  {
   "cell_type": "code",
   "execution_count": null,
   "metadata": {},
   "outputs": [],
   "source": [
    "# 固有値と固有ベクトル\n",
    "eigenvalues, eigenvectors = np.linalg.eig(A)\n",
    "print(\"Aの固有値:\", eigenvalues)\n",
    "print(\"\\nAの固有ベクトル:\\n\", eigenvectors)"
   ]
  },
  {
   "cell_type": "code",
   "execution_count": null,
   "metadata": {},
   "outputs": [],
   "source": [
    "# 行列の分解\n",
    "U, S, V = np.linalg.svd(A)  # 特異値分解\n",
    "print(\"U:\\n\", U)\n",
    "print(\"S:\", S)\n",
    "print(\"V:\\n\", V)"
   ]
  },
  {
   "cell_type": "markdown",
   "metadata": {},
   "source": [
    "### 演習1: NumPyの基本操作\n",
    "\n",
    "以下の演習問題を解いて、NumPyの基本操作を練習しましょう。"
   ]
  },
  {
   "cell_type": "code",
   "execution_count": null,
   "metadata": {},
   "outputs": [],
   "source": [
    "# 演習1.1: 10から20までの整数を含む配列を作成してください。\n",
    "# ヒント: np.arange()を使用します。\n",
    "\n",
    "# あなたのコードをここに書いてください\n",
    "arr1 = \n",
    "print(arr1)"
   ]
  },
  {
   "cell_type": "code",
   "execution_count": null,
   "metadata": {},
   "outputs": [],
   "source": [
    "# 演習1.2: 3行4列のゼロ行列を作成し、その後、各要素に1から12までの連番を代入してください。\n",
    "# ヒント: np.zeros()とreshape()を使用します。\n",
    "\n",
    "# あなたのコードをここに書いてください\n",
    "arr2 = \n",
    "print(arr2)"
   ]
  },
  {
   "cell_type": "code",
   "execution_count": null,
   "metadata": {},
   "outputs": [],
   "source": [
    "# 演習1.3: 以下の配列から、偶数の要素だけを抽出してください。\n",
    "arr3 = np.array([1, 2, 3, 4, 5, 6, 7, 8, 9, 10])\n",
    "\n",
    "# あなたのコードをここに書いてください\n",
    "even_numbers = \n",
    "print(even_numbers)"
   ]
  },
  {
   "cell_type": "code",
   "execution_count": null,
   "metadata": {},
   "outputs": [],
   "source": [
    "# 演習1.4: 以下の2つの行列の行列積を計算してください。\n",
    "A = np.array([[1, 2], [3, 4]])\n",
    "B = np.array([[5, 6], [7, 8]])\n",
    "\n",
    "# あなたのコードをここに書いてください\n",
    "C = \n",
    "print(C)"
   ]
  },
  {
   "cell_type": "code",
   "execution_count": null,
   "metadata": {},
   "outputs": [],
   "source": [
    "# 演習1.5: 以下の配列の平均値、標準偏差、最大値、最小値を計算してください。\n",
    "arr5 = np.array([23, 45, 12, 67, 89, 34, 56, 78, 90, 11])\n",
    "\n",
    "# あなたのコードをここに書いてください\n",
    "mean = \n",
    "std = \n",
    "max_val = \n",
    "min_val = \n",
    "\n",
    "print(f\"平均値: {mean}\")\n",
    "print(f\"標準偏差: {std}\")\n",
    "print(f\"最大値: {max_val}\")\n",
    "print(f\"最小値: {min_val}\")"
   ]
  },
  {
   "cell_type": "markdown",
   "metadata": {},
   "source": [
    "## 2. Pandasの基礎\n",
    "\n",
    "Pandas は、データ分析のための高性能で使いやすいデータ構造とデータ分析ツールを提供するPythonライブラリです。"
   ]
  },
  {
   "cell_type": "code",
   "execution_count": null,
   "metadata": {},
   "outputs": [],
   "source": [
    "# Pandasのインポート\n",
    "import pandas as pd\n",
    "\n",
    "# Pandasのバージョンを確認\n",
    "print(f\"Pandasのバージョン: {pd.__version__}\")"
   ]
  },
  {
   "cell_type": "markdown",
   "metadata": {},
   "source": [
    "### 2.1 Series\n",
    "\n",
    "Series は、ラベル付きの1次元配列です。"
   ]
  },
  {
   "cell_type": "code",
   "execution_count": null,
   "metadata": {},
   "outputs": [],
   "source": [
    "# Seriesの作成\n",
    "s = pd.Series([1, 3, 5, 7, 9], index=['a', 'b', 'c', 'd', 'e'])\n",
    "print(\"Series:\\n\", s)\n",
    "\n",
    "# インデックスとデータへのアクセス\n",
    "print(\"\\nインデックス:\", s.index)\n",
    "print(\"データ:\", s.values)"
   ]
  },
  {
   "cell_type": "code",
   "execution_count": null,
   "metadata": {},
   "outputs": [],
   "source": [
    "# 要素へのアクセス\n",
    "print(\"インデックス 'c' の値:\", s['c'])\n",
    "print(\"複数のインデックス:\\n\", s[['a', 'c', 'e']])\n",
    "\n",
    "# スライス\n",
    "print(\"\\nスライス a から c:\\n\", s['a':'c'])"
   ]
  },
  {
   "cell_type": "code",
   "execution_count": null,
   "metadata": {},
   "outputs": [],
   "source": [
    "# 辞書からSeriesを作成\n",
    "fish_weights = {'マグロ': 80, 'サケ': 5, 'タイ': 3, 'サバ': 1}\n",
    "fish_series = pd.Series(fish_weights)\n",
    "print(\"魚の重さ:\\n\", fish_series)"
   ]
  },
  {
   "cell_type": "markdown",
   "metadata": {},
   "source": [
    "### 2.2 DataFrame\n",
    "\n",
    "DataFrame は、ラベル付きの2次元表形式データ構造です。"
   ]
  },
  {
   "cell_type": "code",
   "execution_count": null,
   "metadata": {},
   "outputs": [],
   "source": [
    "# DataFrameの作成\n",
    "data = {\n",
    "    '名前': ['マグロ', 'サケ', 'タイ', 'サバ', 'アジ'],\n",
    "    '重さ(kg)': [80, 5, 3, 1, 0.5],\n",
    "    '長さ(cm)': [180, 70, 40, 30, 25],\n",
    "    '生息地': ['太平洋', '北太平洋', '日本海', '太平洋', '日本海']\n",
    "}\n",
    "\n",
    "df = pd.DataFrame(data)\n",
    "print(\"魚のデータフレーム:\\n\", df)"
   ]
  },
  {
   "cell_type": "code",
   "execution_count": null,
   "metadata": {},
   "outputs": [],
   "source": [
    "# 基本情報\n",
    "print(\"データフレームの情報:\")\n",
    "print(\"形状:\", df.shape)\n",
    "print(\"列名:\", df.columns)\n",
    "print(\"インデックス:\", df.index)\n",
    "print(\"データ型:\\n\", df.dtypes)"
   ]
  },
  {
   "cell_type": "code",
   "execution_count": null,
   "metadata": {},
   "outputs": [],
   "source": [
    "# 統計情報\n",
    "print(\"数値データの統計情報:\\n\", df.describe())"
   ]
  },
  {
   "cell_type": "code",
   "execution_count": null,
   "metadata": {},
   "outputs": [],
   "source": [
    "# 先頭/末尾の行を表示\n",
    "print(\"先頭3行:\\n\", df.head(3))\n",
    "print(\"\\n末尾2行:\\n\", df.tail(2))"
   ]
  },
  {
   "cell_type": "markdown",
   "metadata": {},
   "source": [
    "### 2.3 データの読み込みと書き込み\n",
    "\n",
    "Pandasは様々な形式のデータを読み書きできます。"
   ]
  },
  {
   "cell_type": "code",
   "execution_count": null,
   "metadata": {},
   "outputs": [],
   "source": [
    "# CSVファイルへの書き込み\n",
    "df.to_csv('fish_data.csv', index=False)\n",
    "print(\"CSVファイルに書き込みました\")\n",
    "\n",
    "# CSVファイルの読み込み\n",
    "df_from_csv = pd.read_csv('fish_data.csv')\n",
    "print(\"\\nCSVから読み込んだデータ:\\n\", df_from_csv)"
   ]
  },
  {
   "cell_type": "code",
   "execution_count": null,
   "metadata": {},
   "outputs": [],
   "source": [
    "# Excelファイルへの書き込み\n",
    "df.to_excel('fish_data.xlsx', index=False)\n",
    "print(\"Excelファイルに書き込みました\")\n",
    "\n",
    "# Excelファイルの読み込み\n",
    "df_from_excel = pd.read_excel('fish_data.xlsx')\n",
    "print(\"\\nExcelから読み込んだデータ:\\n\", df_from_excel)"
   ]
  },
  {
   "cell_type": "code",
   "execution_count": null,
   "metadata": {},
   "outputs": [],
   "sou<response clipped><NOTE>To save on context only part of this file has been shown to you. You should retry this tool after you have searched inside the file with `grep -n` in order to find the line numbers of what you are looking for.</NOTE>