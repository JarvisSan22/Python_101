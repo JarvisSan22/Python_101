{
 "cells": [
  {
   "cell_type": "markdown",
   "metadata": {},
   "source": [
    "# セクション6: ファイル操作と例外処理\n",
    "\n",
    "このノートブックでは、Pythonでのファイル操作と例外処理について学びます。これらのスキルは、データの読み書き、エラー処理、堅牢なプログラムの作成に不可欠です。"
   ]
  },
  {
   "cell_type": "markdown",
   "metadata": {},
   "source": [
    "## 1. ファイル操作の基本\n",
    "\n",
    "Pythonでは、ファイルの読み書きが非常に簡単に行えます。まずは基本的なファイル操作から見ていきましょう。"
   ]
  },
  {
   "cell_type": "markdown",
   "metadata": {},
   "source": [
    "### 1.1 ファイルを開く・閉じる\n",
    "\n",
    "ファイルを操作するには、まず`open()`関数を使ってファイルを開く必要があります。"
   ]
  },
  {
   "cell_type": "code",
   "execution_count": null,
   "metadata": {},
   "outputs": [],
   "source": [
    "# ファイルを開く基本構文\n",
    "# file = open('ファイル名', 'モード')\n",
    "\n",
    "# 例: 読み込みモード('r')でファイルを開く\n",
    "file = open('sample.txt', 'w')  # まずファイルを作成\n",
    "file.write(\"これはサンプルファイルです。\\n日本の魚について学びましょう。\")\n",
    "file.close()\n",
    "\n",
    "file = open('sample.txt', 'r')  # 読み込みモードで開く\n",
    "content = file.read()\n",
    "print(\"ファイルの内容:\")\n",
    "print(content)\n",
    "file.close()  # ファイルを閉じる"
   ]
  },
  {
   "cell_type": "markdown",
   "metadata": {},
   "source": [
    "### 1.2 ファイルオープンモード\n",
    "\n",
    "Pythonでは、ファイルを開く際に様々なモードを指定できます。\n",
    "\n",
    "- `'r'`: 読み込み専用（デフォルト）\n",
    "- `'w'`: 書き込み専用（既存の内容は上書き）\n",
    "- `'a'`: 追加書き込み（ファイルの末尾に追加）\n",
    "- `'r+'`: 読み書き両用\n",
    "- `'b'`: バイナリモード（テキストモードと組み合わせて使用: 'rb', 'wb'など）"
   ]
  },
  {
   "cell_type": "code",
   "execution_count": null,
   "metadata": {},
   "outputs": [],
   "source": [
    "# 書き込みモード ('w') - 既存の内容は上書きされる\n",
    "with open('fish.txt', 'w') as file:\n",
    "    file.write(\"マグロ\\n\")\n",
    "    file.write(\"サケ\\n\")\n",
    "    file.write(\"タイ\\n\")\n",
    "\n",
    "# 追加モード ('a') - 既存の内容の末尾に追加\n",
    "with open('fish.txt', 'a') as file:\n",
    "    file.write(\"サバ\\n\")\n",
    "    file.write(\"アジ\\n\")\n",
    "\n",
    "# 読み込みモード ('r') で内容を確認\n",
    "with open('fish.txt', 'r') as file:\n",
    "    content = file.read()\n",
    "    print(\"fish.txtの内容:\")\n",
    "    print(content)"
   ]
  },
  {
   "cell_type": "markdown",
   "metadata": {},
   "source": [
    "### 1.3 `with`ステートメント\n",
    "\n",
    "`with`ステートメントを使用すると、ファイルを自動的に閉じることができます。これはリソース管理の推奨される方法です。"
   ]
  },
  {
   "cell_type": "code",
   "execution_count": null,
   "metadata": {},
   "outputs": [],
   "source": [
    "# withステートメントを使用したファイル操作\n",
    "with open('sample.txt', 'r') as file:\n",
    "    content = file.read()\n",
    "    print(\"withステートメントで読み込んだ内容:\")\n",
    "    print(content)\n",
    "# ブロックを抜けると自動的にファイルが閉じられる\n",
    "\n",
    "# ファイルが閉じられていることを確認\n",
    "print(f\"ファイルは閉じられていますか？ {file.closed}\")"
   ]
  },
  {
   "cell_type": "markdown",
   "metadata": {},
   "source": [
    "### 1.4 ファイルの読み込み方法\n",
    "\n",
    "ファイルの内容を読み込むには、いくつかの方法があります。"
   ]
  },
  {
   "cell_type": "code",
   "execution_count": null,
   "metadata": {},
   "outputs": [],
   "source": [
    "# ファイル全体を一度に読み込む\n",
    "with open('fish.txt', 'r') as file:\n",
    "    content = file.read()\n",
    "    print(\"read()で読み込んだ内容:\")\n",
    "    print(content)\n",
    "\n",
    "# 1行ずつ読み込む\n",
    "with open('fish.txt', 'r') as file:\n",
    "    print(\"\\nreadline()で1行ずつ読み込む:\")\n",
    "    line1 = file.readline()\n",
    "    line2 = file.readline()\n",
    "    print(f\"1行目: {line1.strip()}\")\n",
    "    print(f\"2行目: {line2.strip()}\")\n",
    "\n",
    "# すべての行をリストとして読み込む\n",
    "with open('fish.txt', 'r') as file:\n",
    "    lines = file.readlines()\n",
    "    print(\"\\nreadlines()で読み込んだ行のリスト:\")\n",
    "    print(lines)\n",
    "\n",
    "# forループで1行ずつ処理する（メモリ効率が良い）\n",
    "with open('fish.txt', 'r') as file:\n",
    "    print(\"\\nforループで1行ずつ処理:\")\n",
    "    for i, line in enumerate(file, 1):\n",
    "        print(f\"{i}行目: {line.strip()}\")"
   ]
  },
  {
   "cell_type": "markdown",
   "metadata": {},
   "source": [
    "### 1.5 ファイルへの書き込み\n",
    "\n",
    "ファイルへの書き込みには、`write()`メソッドと`writelines()`メソッドを使用します。"
   ]
  },
  {
   "cell_type": "code",
   "execution_count": null,
   "metadata": {},
   "outputs": [],
   "source": [
    "# write()メソッドでの書き込み\n",
    "with open('fish_data.txt', 'w') as file:\n",
    "    file.write(\"魚の種類,重さ(kg),生息地\\n\")\n",
    "    file.write(\"マグロ,80,太平洋\\n\")\n",
    "    file.write(\"サケ,5,北太平洋\\n\")\n",
    "    file.write(\"タイ,3,日本海\\n\")\n",
    "\n",
    "# writelines()メソッドでの書き込み\n",
    "fish_list = [\n",
    "    \"サバ,1,太平洋\\n\",\n",
    "    \"アジ,0.5,日本海\\n\",\n",
    "    \"ブリ,8,日本海\\n\"\n",
    "]\n",
    "\n",
    "with open('fish_data.txt', 'a') as file:\n",
    "    file.writelines(fish_list)\n",
    "\n",
    "# 書き込んだ内容を確認\n",
    "with open('fish_data.txt', 'r') as file:\n",
    "    content = file.read()\n",
    "    print(\"fish_data.txtの内容:\")\n",
    "    print(content)"
   ]
  },
  {
   "cell_type": "markdown",
   "metadata": {},
   "source": [
    "## 2. ファイルパスとディレクトリ操作\n",
    "\n",
    "ファイルやディレクトリのパスを操作するには、`os`モジュールと`pathlib`モジュールが便利です。"
   ]
  },
  {
   "cell_type": "markdown",
   "metadata": {},
   "source": [
    "### 2.1 `os`モジュールを使用したパス操作"
   ]
  },
  {
   "cell_type": "code",
   "execution_count": null,
   "metadata": {},
   "outputs": [],
   "source": [
    "import os\n",
    "\n",
    "# 現在の作業ディレクトリを取得\n",
    "current_dir = os.getcwd()\n",
    "print(f\"現在の作業ディレクトリ: {current_dir}\")\n",
    "\n",
    "# ディレクトリ内のファイル一覧を取得\n",
    "files = os.listdir(current_dir)\n",
    "print(f\"\\nディレクトリ内のファイル一覧:\")\n",
    "for file in files[:5]:  # 最初の5つだけ表示\n",
    "    print(f\" - {file}\")\n",
    "\n",
    "# パスの結合\n",
    "data_dir = os.path.join(current_dir, 'fish_data_dir')\n",
    "print(f\"\\n結合されたパス: {data_dir}\")\n",
    "\n",
    "# ディレクトリの作成（存在しない場合）\n",
    "if not os.path.exists(data_dir):\n",
    "    os.mkdir(data_dir)\n",
    "    print(f\"ディレクトリを作成しました: {data_dir}\")\n",
    "else:\n",
    "    print(f\"ディレクトリは既に存在します: {data_dir}\")\n",
    "\n",
    "# ファイルパスの分解\n",
    "file_path = os.path.join(data_dir, 'tuna_data.txt')\n",
    "print(f\"\\nファイルパス: {file_path}\")\n",
    "print(f\"ディレクトリ名: {os.path.dirname(file_path)}\")\n",
    "print(f\"ファイル名: {os.path.basename(file_path)}\")\n",
    "print(f\"拡張子を除いたファイル名: {os.path.splitext(os.path.basename(file_path))[0]}\")\n",
    "print(f\"拡張子: {os.path.splitext(file_path)[1]}\")"
   ]
  },
  {
   "cell_type": "markdown",
   "metadata": {},
   "source": [
    "### 2.2 `pathlib`モジュールを使用したパス操作（Python 3.4以降）\n",
    "\n",
    "`pathlib`モジュールは、オブジェクト指向のパス操作を提供します。"
   ]
  },
  {
   "cell_type": "code",
   "execution_count": null,
   "metadata": {},
   "outputs": [],
   "source": [
    "from pathlib import Path\n",
    "\n",
    "# 現在の作業ディレクトリ\n",
    "current_path = Path.cwd()\n",
    "print(f\"現在の作業ディレクトリ: {current_path}\")\n",
    "\n",
    "# ホームディレクトリ\n",
    "home_path = Path.home()\n",
    "print(f\"ホームディレクトリ: {home_path}\")\n",
    "\n",
    "# パスの結合\n",
    "data_path = current_path / 'fish_data_dir' / 'salmon_data.txt'\n",
    "print(f\"結合されたパス: {data_path}\")\n",
    "\n",
    "# ディレクトリの作成\n",
    "fish_images_dir = current_path / 'fish_images'\n",
    "fish_images_dir.mkdir(exist_ok=True)\n",
    "print(f\"ディレクトリを作成しました: {fish_images_dir}\")\n",
    "\n",
    "# ファイルパスの分解\n",
    "print(f\"\\nファイルパス: {data_path}\")\n",
    "print(f\"親ディレクトリ: {data_path.parent}\")\n",
    "print(f\"ファイル名: {data_path.name}\")\n",
    "print(f\"拡張子を除いたファイル名: {data_path.stem}\")\n",
    "print(f\"拡張子: {data_path.suffix}\")\n",
    "\n",
    "# ディレクトリ内のファイル一覧\n",
    "print(f\"\\n現在のディレクトリ内のPythonファイル:\")\n",
    "for py_file in current_path.glob('*.py'):\n",
    "    print(f\" - {py_file.name}\")\n",
    "\n",
    "# 再帰的にすべてのテキストファイルを検索\n",
    "print(f\"\\nすべてのテキストファイル:\")\n",
    "for txt_file in current_path.glob('**/*.txt'):\n",
    "    print(f\" - {txt_file.relative_to(current_path)}\")"
   ]
  },
  {
   "cell_type": "markdown",
   "metadata": {},
   "source": [
    "## 3. 様々なファイル形式の操作\n",
    "\n",
    "Pythonでは、テキストファイル以外にも様々な形式のファイルを扱うことができます。"
   ]
  },
  {
   "cell_type": "markdown",
   "metadata": {},
   "source": [
    "### 3.1 CSVファイル\n",
    "\n",
    "CSVファイルは、カンマ区切りの値を持つテキストファイルで、表形式のデータを保存するのに適しています。"
   ]
  },
  {
   "cell_type": "code",
   "execution_count": null,
   "metadata": {},
   "outputs": [],
   "source": [
    "import csv\n",
    "\n",
    "# CSVファイルへの書き込み\n",
    "fish_data = [\n",
    "    ['名前', '重さ(kg)', '長さ(cm)', '生息地'],\n",
    "    ['マグロ', 80, 180, '太平洋'],\n",
    "    ['サケ', 5, 70, '北太平洋'],\n",
    "    ['タイ', 3, 40, '日本海'],\n",
    "    ['サバ', 1, 30, '太平洋'],\n",
    "    ['アジ', 0.5, 25, '日本海']\n",
    "]\n",
    "\n",
    "with open('fish_data.csv', 'w', newline='') as file:\n",
    "    writer = csv.writer(file)\n",
    "    writer.writerows(fish_data)\n",
    "\n",
    "print(\"CSVファイルに書き込みました。\")\n",
    "\n",
    "# CSVファイルの読み込み\n",
    "with open('fish_data.csv', 'r') as file:\n",
    "    reader = csv.reader(file)\n",
    "    print(\"\\nCSVファイルの内容:\")\n",
    "    for row in reader:\n",
    "        print(row)\n",
    "\n",
    "# DictReaderを使用した読み込み（ヘッダー行を使用）\n",
    "with open('fish_data.csv', 'r') as file:\n",
    "    dict_reader = csv.DictReader(file)\n",
    "    print(\"\\nDictReaderを使用した読み込み:\")\n",
    "    for row in dict_reader:\n",
    "        print(f\"{row['名前']}: {row['重さ(kg)']}kg, {row['長さ(cm)']}cm, 生息地: {row['生息地']}\")\n",
    "\n",
    "# DictWriterを使用した書き込み\n",
    "more_fish = [\n",
    "    {'名前': 'ブリ', '重さ(kg)': 8, '長さ(cm)': 90, '生息地': '日本海'},\n",
    "    {'名前': 'カツオ', '重さ(kg)': 4, '長さ(cm)': 60, '生息地': '太平洋'},\n",
    "    {'名前': 'イワシ', '重さ(kg)': 0.3, '長さ(cm)': 20, '生息地': '日本海'}\n",
    "]\n",
    "\n",
    "with open('more_fish.csv', 'w', newline='') as file:\n",
    "    fieldnames = ['名前', '重さ(kg)', '長さ(cm)', '生息地']\n",
    "    writer = csv.DictWriter(file, fieldnames=fieldnames)\n",
    "    writer.writeheader()\n",
    "    writer.writerows(more_fish)\n",
    "\n",
    "print(\"\\nDictWriterを使用してCSVファイルに書き込みました。\")"
   ]
  },
  {
   "cell_type": "markdown",
   "metadata": {},
   "source": [
    "### 3.2 JSONファイル\n",
    "\n",
    "JSONは、JavaScript Object Notationの略で、人間が読みやすく、機械が解析しやすいデータ交換形式です。"
   ]
  },
  {
   "cell_type": "code",
   "execution_count": null,
   "metadata": {},
   "outputs": [],
   "source": [
    "import json\n",
    "\n",
    "# 辞書の作成\n",
    "fish_dict = {\n",
    "    'マグロ': {\n",
    "        '重さ': 80,\n",
    "        '長さ': 180,\n",
    "        '生息地': '太平洋',\n",
    "        '栄養素': ['タンパク質', 'オメガ3脂肪酸', 'ビタミンD']\n",
    "    },\n",
    "    'サケ': {\n",
    "        '重さ': 5,\n",
    "        '長さ': 70,\n",
    "        '生息地': '北太平洋',\n",
    "        '栄養素': ['タンパク質', 'オメガ3脂肪酸', 'ビタミンB12']\n",
    "    },\n",
    "    'タイ': {\n",
    "        '重さ': 3,\n",
    "        '長さ': 40,\n",
    "        '生息地': '日本海',\n",
    "        '栄養素': ['タンパク質', 'ビタミンA', 'セレン']\n",
    "    }\n",
    "}\n",
    "\n",
    "# JSONファイルへの書き込み\n",
    "with open('fish_data.json', 'w', encoding='utf-8') as file:\n",
    "    json.dump(fish_dict, file, ensure_ascii=False, indent=4)\n",
    "\n",
    "print(\"JSONファイルに書き込みました。\")\n",
    "\n",
    "# JSONファイルの読み込み\n",
    "with open('fish_data.json', 'r', encoding='utf-8') as file:\n",
    "    loaded_fish = json.load(file)\n",
    "\n",
    "print(\"\\nJSONファイルから読み込んだデータ:\")\n",
    "for fish_name, fish_info in loaded_fish.items():\n",
    "    print(f\"{fish_name}: {fish_info['重さ']}kg, {fish_info['長さ']}cm, 生息地: {fish_info['生息地']}\")\n",
    "    print(f\"  栄養素: {', '.join(fish_info['栄養素'])}\")\n",
    "\n",
    "# 文字列とJSONの変換\n",
    "fish_json_str = json.dumps(fish_dict, ensure_ascii=False, indent=2)\n",
    "print(\"\\nJSON文字列:\")\n",
    "print(fish_json_str)\n",
    "\n",
    "# JSON文字列からPythonオブジェクトへの変換\n",
    "parsed_fish = json.loads(fish_json_str)\n",
    "print(f\"\\n変換されたPythonオブジェクト: {type(parsed_fish)}\")\n",
    "print(f\"マグロの重さ: {parsed_fish['マグロ']['重さ']}kg\")"
   ]
  },
  {
   "cell_type": "markdown",
   "metadata": {},
   "source": [
    "### 3.3 pickleファイル\n",
    "\n",
    "`pickle`モジュールを使用すると、Pythonオブジェクトをシリアル化（直列化）して保存し、後で復元することができます。"
   ]
  },
  {
   "cell_type": "code",
   "execution_count": null,
   "metadata": {},
   "outputs": [],
   "source": [
    "import pickle\n",
    "\n",
    "# 複雑なデータ構造\n",
    "fish_data = {\n",
    "    'names': ['マグロ', 'サケ', 'タイ', 'サバ', 'アジ'],\n",
    "    'weights': [80, 5, 3, 1, 0.5],\n",
    "    'lengths': [180, 70, 40, 30, 25],\n",
    "    'habitats': ['太平洋', '北太平洋', '日本海', '太平洋', '日本海'],\n",
    "    'metadata': {\n",
    "        'source': '日本水産庁',\n",
    "        'year': 2023,\n",
    "        'is_verified': True\n",
    "    }\n",
    "}\n",
    "\n",
    "# pickleファイルへの書き込み\n",
    "with open('fish_data.pkl', 'wb') as file:  # バイナリモードで開く\n",
    "    pickle.dump(fish_data, file)\n",
    "\n",
    "print(\"pickleファイルに書き込みました。\")\n",
    "\n",
    "# pickleファイルの読み込み\n",
    "with open('fish_data.pkl', 'rb') as file:  # バイナリモードで開く\n",
    "    loaded_data = pickle.load(file)\n",
    "\n",
    "print(\"\\npickleファイルから読み込んだデータ:\")\n",
    "print(f\"魚の名前: {loaded_data['names']}\")\n",
    "print(f\"メタデータ: {loaded_data['metadata']}\")\n",
    "\n",
    "# 注意: pickleファイルは信頼できないソースからのものを開くと危険です\n",
    "print(\"\\n注意: pickleファイルは信頼できないソースからのものを開くと危険です。\")"
   ]
  },
  {
   "cell_type": "markdown",
   "metadata": {},
   "source": [
    "## 4. 例外処理\n",
    "\n",
    "例外処理は、プログラムの実行中に発生する可能性のあるエラーを適切に処理するための仕組みです。"
   ]
  },
  {
   "cell_type": "markdown",
   "metadata": {},
   "source": [
    "### 4.1 基本的な例外処理\n",
    "\n",
    "Pythonでは、`try`、`except`、`else`、`finally`ブロックを使用して例外を処理します。"
   ]
  },
  {
   "cell_type": "code",
   "execution_count": null,
   "metadata": {},
   "outputs": [],
   "source": [
    "# 基本的なtry-except構文\n",
    "try:\n",
    "    # 例外が発生する可能性のあるコード\n",
    "    file = open('non_existent_file.txt', 'r')\n",
    "    content = file.read()\n",
    "    file.close()\n",
    "except FileNotFoundError:\n",
    "    # ファイルが見つからない場合の処理\n",
    "    print(\"エラー: ファイルが見つかりません。\")\n",
    "\n",
    "print(\"プログラムは続行します。\")"
   ]
  },
  {
   "cell_type": "code",
   "execution_count": null,
   "metadata": {},
   "outputs": [],
   "source": [
    "# 複数の例外をキャッチ\n",
    "try:\n",
    "    # ユーザーからの入力\n",
    "    num = input(\"数字を入力してください: \")\n",
    "    result = 10 / int(num)\n",
    "    print(f\"結果: {result}\")\n",
    "    \n",
    "    # 存在しないファイルを開く\n",
    "    with open(f\"number_{num}.txt\", 'r') as file:\n",
    "        content = file.read()\n",
    "        \n",
    "except ValueError:\n",
    "    # 数値変換エラー\n",
    "    print(\"エラー: 有効な数字を入力してください。\")\n",
    "except ZeroDivisionError:\n",
    "    # ゼロ除算エラー\n",
    "    print(\"エラー: ゼロで割ることはできません。\")\n",
    "except FileNotFoundError:\n",
    "    # ファイルが見つからないエラー\n",
    "    print(\"エラー: 指定されたファイルが見つかりません。\")\n",
    "except Exception as e:\n",
    "    # その他のすべての例外\n",
    "    print(f\"予期しないエラーが発生しました: {e}\")"
   ]
  },
  {
   "cell_type": "markdown",
   "metadata": {},
   "source": [
    "### 4.2 `else`と`finally`句\n",
    "\n",
    "- `else`: 例外が発生しなかった場合に実行されるブロック\n",
    "- `finally`: 例外の有無にかかわらず必ず実行されるブロック"
   ]
  },
  {
   "cell_type": "code",
   "execution_count": null,
   "metadata": {},
   "outputs": [],
   "source": [
    "# elseとfinallyの使用\n",
    "try:\n",
    "    # サンプルファイルを作成\n",
    "    with open('sample_data.txt', 'w') as file:\n",
    "        file.write(\"これはサンプルデータです。\")\n",
    "    \n",
    "    # ファイルを読み込む\n",
    "    with open('sample_data.txt', 'r') as file:\n",
    "        content = file.read()\n",
    "        \n",
    "except FileNotFoundError:\n",
    "    print(\"エラー: ファイルが見つかりません。\")\n",
    "except PermissionError:\n",
    "    print(\"エラー: ファイルにアクセスする権限がありません。\")\n",
    "else:\n",
    "    # 例外が発生しなかった場合に実行\n",
    "    print(\"ファイルの読み込みに成功しました。\")\n",
    "    print(f\"内容: {content}\")\n",
    "finally:\n",
    "    # 例外の有無にかかわらず実行\n",
    "    print(\"ファイル操作が<response clipped><NOTE>To save on context only part of this file has been shown to you. You should retry this tool after you have searched inside the file with `grep -n` in order to find the line numbers of what you are looking for.</NOTE>