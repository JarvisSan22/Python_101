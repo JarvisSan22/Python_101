{
 "cells": [
  {
   "cell_type": "markdown",
   "metadata": {},
   "source": [
    "# セクション3: 関数とモジュール性 - ワークショップノートブック\n",
    "\n",
    "このノートブックでは、Python の関数とモジュール性について学びます。関数の定義と使用方法、様々な引数の種類、モジュールのインポートと作成、そして関数型プログラミングの基本概念について実践的に学んでいきましょう。"
   ]
  },
  {
   "cell_type": "markdown",
   "metadata": {},
   "source": [
    "## 関数の基本\n",
    "\n",
    "関数は、特定のタスクを実行するためのコードブロックです。関数を使用することで、コードの再利用性が高まり、プログラムの構造が整理されます。"
   ]
  },
  {
   "cell_type": "markdown",
   "metadata": {},
   "source": [
    "### 関数の定義と呼び出し"
   ]
  },
  {
   "cell_type": "code",
   "execution_count": null,
   "metadata": {},
   "outputs": [],
   "source": [
    "# 基本的な関数の定義\n",
    "def greet():\n",
    "    print(\"こんにちは、世界！\")\n",
    "\n",
    "# 関数の呼び出し\n",
    "greet()"
   ]
  },
  {
   "cell_type": "code",
   "execution_count": null,
   "metadata": {},
   "outputs": [],
   "source": [
    "# 引数を持つ関数\n",
    "def greet_fish(fish_name):\n",
    "    print(f\"こんにちは、{fish_name}さん！\")\n",
    "\n",
    "# 引数を指定して関数を呼び出す\n",
    "greet_fish(\"マグロ\")\n",
    "greet_fish(\"サケ\")"
   ]
  },
  {
   "cell_type": "code",
   "execution_count": null,
   "metadata": {},
   "outputs": [],
   "source": [
    "# 戻り値を持つ関数\n",
    "def get_fish_greeting(fish_name):\n",
    "    return f\"こんにちは、{fish_name}さん！\"\n",
    "\n",
    "# 戻り値を変数に代入\n",
    "message = get_fish_greeting(\"タイ\")\n",
    "print(message)\n",
    "\n",
    "# 戻り値を直接使用\n",
    "print(get_fish_greeting(\"フグ\"))"
   ]
  },
  {
   "cell_type": "markdown",
   "metadata": {},
   "source": [
    "### ドキュメンテーション文字列（docstring）\n",
    "\n",
    "関数の目的や使用方法を説明するために、ドキュメンテーション文字列（docstring）を追加することができます。"
   ]
  },
  {
   "cell_type": "code",
   "execution_count": null,
   "metadata": {},
   "outputs": [],
   "source": [
    "def describe_fish(name, weight, length):\n",
    "    \"\"\"魚の説明を返す関数\n",
    "    \n",
    "    引数:\n",
    "        name (str): 魚の名前\n",
    "        weight (float): 魚の重さ（kg）\n",
    "        length (float): 魚の長さ（cm）\n",
    "        \n",
    "    戻り値:\n",
    "        str: 魚の説明文\n",
    "    \"\"\"\n",
    "    return f\"{name}は重さ{weight}kg、長さ{length}cmです。\"\n",
    "\n",
    "# 関数の呼び出し\n",
    "print(describe_fish(\"マグロ\", 80, 150))\n",
    "\n",
    "# docstringの表示\n",
    "print(\"\\n関数のドキュメント:\")\n",
    "print(describe_fish.__doc__)"
   ]
  },
  {
   "cell_type": "markdown",
   "metadata": {},
   "source": [
    "## 引数の種類\n",
    "\n",
    "Python の関数では、様々な種類の引数を使用することができます。"
   ]
  },
  {
   "cell_type": "markdown",
   "metadata": {},
   "source": [
    "### 必須引数とキーワード引数"
   ]
  },
  {
   "cell_type": "code",
   "execution_count": null,
   "metadata": {},
   "outputs": [],
   "source": [
    "def describe_fish(name, weight, length):\n",
    "    return f\"{name}は重さ{weight}kg、長さ{length}cmです。\"\n",
    "\n",
    "# 位置引数（順序通りに指定）\n",
    "print(describe_fish(\"マグロ\", 80, 150))\n",
    "\n",
    "# キーワード引数（名前を指定）\n",
    "print(describe_fish(name=\"サケ\", weight=5, length=75))\n",
    "\n",
    "# 位置引数とキーワード引数の混在\n",
    "print(describe_fish(\"タイ\", length=40, weight=3))\n",
    "\n",
    "# 順序を変えたキーワード引数\n",
    "print(describe_fish(length=30, name=\"フグ\", weight=2))"
   ]
  },
  {
   "cell_type": "markdown",
   "metadata": {},
   "source": [
    "### デフォルト引数\n",
    "\n",
    "デフォルト値を持つ引数を定義することで、関数呼び出し時に引数を省略することができます。"
   ]
  },
  {
   "cell_type": "code",
   "execution_count": null,
   "metadata": {},
   "outputs": [],
   "source": [
    "def describe_fish(name, weight=0, length=0, habitat=\"不明\"):\n",
    "    \"\"\"デフォルト値を持つ引数を使用した関数\"\"\"\n",
    "    return f\"{name}は重さ{weight}kg、長さ{length}cm、生息地は{habitat}です。\"\n",
    "\n",
    "# すべての引数を指定\n",
    "print(describe_fish(\"マグロ\", 80, 150, \"太平洋\"))\n",
    "\n",
    "# 一部の引数を省略\n",
    "print(describe_fish(\"サケ\", 5, habitat=\"北海道\"))\n",
    "print(describe_fish(\"タイ\", length=40))\n",
    "\n",
    "# 必須引数のみ指定\n",
    "print(describe_fish(\"フグ\"))"
   ]
  },
  {
   "cell_type": "markdown",
   "metadata": {},
   "source": [
    "### 可変長引数 (*args)\n",
    "\n",
    "`*args` を使用すると、任意の数の位置引数を受け取ることができます。"
   ]
  },
  {
   "cell_type": "code",
   "execution_count": null,
   "metadata": {},
   "outputs": [],
   "source": [
    "def fish_average(*lengths):\n",
    "    \"\"\"任意の数の魚の長さの平均を計算する関数\"\"\"\n",
    "    if not lengths:  # 引数がない場合\n",
    "        return 0\n",
    "    return sum(lengths) / len(lengths)\n",
    "\n",
    "# 異なる数の引数で呼び出し\n",
    "print(f\"平均長さ: {fish_average(10, 20, 30)}cm\")  # 3つの引数\n",
    "print(f\"平均長さ: {fish_average(15, 25, 10, 30, 20)}cm\")  # 5つの引数\n",
    "print(f\"平均長さ: {fish_average()}cm\")  # 引数なし"
   ]
  },
  {
   "cell_type": "code",
   "execution_count": null,
   "metadata": {},
   "outputs": [],
   "source": [
    "def print_fish_info(name, *characteristics):\n",
    "    \"\"\"魚の名前と特徴を表示する関数\"\"\"\n",
    "    print(f\"魚名: {name}\")\n",
    "    if characteristics:\n",
    "        print(\"特徴:\")\n",
    "        for i, characteristic in enumerate(characteristics, 1):\n",
    "            print(f\"  {i}. {characteristic}\")\n",
    "    else:\n",
    "        print(\"特徴は指定されていません。\")\n",
    "\n",
    "# 異なる数の引数で呼び出し\n",
    "print_fish_info(\"マグロ\", \"赤身\", \"高タンパク\", \"回遊魚\")\n",
    "print(\"\\n\")\n",
    "print_fish_info(\"サケ\", \"遡上する\", \"ピンク色の身\")\n",
    "print(\"\\n\")\n",
    "print_fish_info(\"フグ\")"
   ]
  },
  {
   "cell_type": "markdown",
   "metadata": {},
   "source": [
    "### キーワード可変長引数 (**kwargs)\n",
    "\n",
    "`**kwargs` を使用すると、任意の数のキーワード引数を受け取ることができます。"
   ]
  },
  {
   "cell_type": "code",
   "execution_count": null,
   "metadata": {},
   "outputs": [],
   "source": [
    "def fish_details(**kwargs):\n",
    "    \"\"\"魚の詳細情報を表示する関数\"\"\"\n",
    "    print(\"魚の詳細:\")\n",
    "    if kwargs:\n",
    "        for key, value in kwargs.items():\n",
    "            print(f\"  {key}: {value}\")\n",
    "    else:\n",
    "        print(\"  詳細情報はありません。\")\n",
    "\n",
    "# 異なるキーワード引数で呼び出し\n",
    "fish_details(name=\"マグロ\", weight=80, length=150, habitat=\"太平洋\")\n",
    "print(\"\\n\")\n",
    "fish_details(name=\"サケ\", origin=\"北海道\", price=2000)\n",
    "print(\"\\n\")\n",
    "fish_details()"
   ]
  },
  {
   "cell_type": "markdown",
   "metadata": {},
   "source": [
    "### 引数の組み合わせ\n",
    "\n",
    "必須引数、デフォルト引数、`*args`、`**kwargs` を組み合わせて使用することができます。引数の順序は以下の通りです：\n",
    "\n",
    "1. 必須引数\n",
    "2. デフォルト引数\n",
    "3. `*args`\n",
    "4. `**kwargs`"
   ]
  },
  {
   "cell_type": "code",
   "execution_count": null,
   "metadata": {},
   "outputs": [],
   "source": [
    "def fish_report(name, price=0, *measurements, location=\"不明\", **details):\n",
    "    \"\"\"魚のレポートを生成する関数\"\"\"\n",
    "    print(f\"魚名: {name}\")\n",
    "    print(f\"価格: {price}円\")\n",
    "    print(f\"場所: {location}\")\n",
    "    \n",
    "    if measurements:\n",
    "        print(\"測定値:\")\n",
    "        for i, value in enumerate(measurements, 1):\n",
    "            print(f\"  測定{i}: {value}\")\n",
    "    \n",
    "    if details:\n",
    "        print(\"追加情報:\")\n",
    "        for key, value in details.items():\n",
    "            print(f\"  {key}: {value}\")\n",
    "\n",
    "# 様々な引数の組み合わせで呼び出し\n",
    "fish_report(\"マグロ\")\n",
    "print(\"\\n\")\n",
    "fish_report(\"サケ\", 2000)\n",
    "print(\"\\n\")\n",
    "fish_report(\"タイ\", 4000, 40, 30, 20, location=\"瀬戸内海\")\n",
    "print(\"\\n\")\n",
    "fish_report(\"フグ\", 8000, 30, 25, location=\"下関\", is_poisonous=True, preparation=\"専門調理師必須\")"
   ]
  },
  {
   "cell_type": "markdown",
   "metadata": {},
   "source": [
    "## 関数のスコープ\n",
    "\n",
    "Python では、変数のスコープ（有効範囲）が重要です。関数内で定義された変数はローカルスコープを持ち、関数の外では使用できません。"
   ]
  },
  {
   "cell_type": "code",
   "execution_count": null,
   "metadata": {},
   "outputs": [],
   "source": [
    "# グローバル変数\n",
    "fish_type = \"マグロ\"\n",
    "\n",
    "def change_fish():\n",
    "    # ローカル変数\n",
    "    fish_type = \"サケ\"\n",
    "    print(f\"関数内: {fish_type}\")\n",
    "\n",
    "# 関数の呼び出し\n",
    "change_fish()\n",
    "print(f\"関数外: {fish_type}\")"
   ]
  },
  {
   "cell_type": "markdown",
   "metadata": {},
   "source": [
    "### global キーワード\n",
    "\n",
    "`global` キーワードを使用すると、関数内からグローバル変数にアクセスして変更することができます。"
   ]
  },
  {
   "cell_type": "code",
   "execution_count": null,
   "metadata": {},
   "outputs": [],
   "source": [
    "fish_count = 0  # グローバル変数\n",
    "\n",
    "def add_fish():\n",
    "    global fish_count  # グローバル変数を使用することを宣言\n",
    "    fish_count += 1\n",
    "    print(f\"魚を追加しました。現在の数: {fish_count}\")\n",
    "\n",
    "# 関数の呼び出し\n",
    "add_fish()\n",
    "add_fish()\n",
    "add_fish()\n",
    "print(f\"合計: {fish_count}\")"
   ]
  },
  {
   "cell_type": "markdown",
   "metadata": {},
   "source": [
    "### nonlocal キーワード\n",
    "\n",
    "`nonlocal` キーワードを使用すると、ネストした関数内から外側の関数のローカル変数にアクセスして変更することができます。"
   ]
  },
  {
   "cell_type": "code",
   "execution_count": null,
   "metadata": {},
   "outputs": [],
   "source": [
    "def fish_counter():\n",
    "    count = 0  # 外側の関数のローカル変数\n",
    "    \n",
    "    def add_fish():\n",
    "        nonlocal count  # 外側の関数のローカル変数を使用することを宣言\n",
    "        count += 1\n",
    "        return count\n",
    "    \n",
    "    def get_count():\n",
    "        return count\n",
    "    \n",
    "    # 内部関数を返す\n",
    "    return add_fish, get_count\n",
    "\n",
    "# 関数の呼び出し\n",
    "add, get = fish_counter()\n",
    "print(f\"現在の数: {get()}\")\n",
    "print(f\"追加後: {add()}\")\n",
    "print(f\"追加後: {add()}\")\n",
    "print(f\"追加後: {add()}\")\n",
    "print(f\"最終的な数: {get()}\")"
   ]
  },
  {
   "cell_type": "markdown",
   "metadata": {},
   "source": [
    "## 関数内関数（ネストした関数）\n",
    "\n",
    "関数の中に関数を定義することができます。これにより、コードの整理やカプセル化が可能になります。"
   ]
  },
  {
   "cell_type": "code",
   "execution_count": null,
   "metadata": {},
   "outputs": [],
   "source": [
    "def fish_processor(fish_list):\n",
    "    \"\"\"魚のリストを処理する関数\"\"\"\n",
    "    \n",
    "    def filter_big_fish(fish):\n",
    "        \"\"\"大きな魚（50cm以上）をフィルタリングする内部関数\"\"\"\n",
    "        return fish[\"length\"] >= 50\n",
    "    \n",
    "    def calculate_price(fish):\n",
    "        \"\"\"魚の価格を計算する内部関数\"\"\"\n",
    "        base_price = fish[\"weight\"] * 1000\n",
    "        if fish[\"length\"] >= 100:\n",
    "            return base_price * 1.5  # 大型魚は1.5倍の価格\n",
    "        return base_price\n",
    "    \n",
    "    # 大きな魚をフィルタリング\n",
    "    big_fish = [fish for fish in fish_list if filter_big_fish(fish)]\n",
    "    \n",
    "    # 価格を計算して追加\n",
    "    for fish in big_fish:\n",
    "        fish[\"price\"] = calculate_price(fish)\n",
    "    \n",
    "    return big_fish\n",
    "\n",
    "# 関数の使用\n",
    "fishes = [\n",
    "    {\"name\": \"マグロ\", \"weight\": 80, \"length\": 150},\n",
    "    {\"name\": \"サケ\", \"weight\": 5, \"length\": 75},\n",
    "    {\"name\": \"タイ\", \"weight\": 3, \"length\": 40},\n",
    "    {\"name\": \"ブリ\", \"weight\": 7, \"length\": 90},\n",
    "    {\"name\": \"フグ\", \"weight\": 2, \"length\": 30}\n",
    "]\n",
    "\n",
    "result = fish_processor(fishes)\n",
    "for fish in result:\n",
    "    print(f\"{fish['name']}: 長さ{fish['length']}cm, 重さ{fish['weight']}kg, 価格{fish['price']}円\")"
   ]
  },
  {
   "cell_type": "markdown",
   "metadata": {},
   "source": [
    "## 再帰関数\n",
    "\n",
    "再帰関数は、自分自身を呼び出す関数です。再帰を使用すると、特定の問題を簡潔に解決できることがあります。"
   ]
  },
  {
   "cell_type": "code",
   "execution_count": null,
   "metadata": {},
   "outputs": [],
   "source": [
    "def countdown(n):\n",
    "    \"\"\"再帰的なカウントダウン関数\"\"\"\n",
    "    if n <= 0:\n",
    "        print(\"発射！\")\n",
    "    else:\n",
    "        print(n)\n",
    "        countdown(n - 1)  # 自分自身を呼び出す\n",
    "\n",
    "# 関数の呼び出し\n",
    "countdown(5)"
   ]
  },
  {
   "cell_type": "code",
   "execution_count": null,
   "metadata": {},
   "outputs": [],
   "source": [
    "def factorial(n):\n",
    "    \"\"\"階乗を計算する再帰関数\"\"\"\n",
    "    if n <= 1:\n",
    "        return 1\n",
    "    else:\n",
    "        return n * factorial(n - 1)\n",
    "\n",
    "# 関数の呼び出し\n",
    "for i in range(1, 11):\n",
    "    print(f\"{i}! = {factorial(i)}\")"
   ]
  },
  {
   "cell_type": "code",
   "execution_count": null,
   "metadata": {},
   "outputs": [],
   "source": [
    "def fibonacci(n):\n",
    "    \"\"\"フィボナッチ数列の第n項を計算する再帰関数\"\"\"\n",
    "    if n <= 0:\n",
    "        return 0\n",
    "    elif n == 1:\n",
    "        return 1\n",
    "    else:\n",
    "        return fibonacci(n - 1) + fibonacci(n - 2)\n",
    "\n",
    "# 関数の呼び出し\n",
    "for i in range(10):\n",
    "    print(f\"フィボナッチ({i}) = {fibonacci(i)}\")"
   ]
  },
  {
   "cell_type": "markdown",
   "metadata": {},
   "source": [
    "### 再帰の最適化\n",
    "\n",
    "単純な再帰は、大きな入力に対して非効率になることがあります。メモ化（計算結果をキャッシュする）などの技術を使用して最適化することができます。"
   ]
  },
  {
   "cell_type": "code",
   "execution_count": null,
   "metadata": {},
   "outputs": [],
   "source": [
    "# メモ化を使用したフィボナッチ関数\n",
    "def fibonacci_memo(n, memo={}):\n",
    "    \"\"\"メモ化を使用したフィボナッチ数列の計算\"\"\"\n",
    "    if n in memo:\n",
    "        return memo[n]\n",
    "    if n <= 0:\n",
    "        return 0\n",
    "    elif n == 1:\n",
    "        return 1\n",
    "    else:\n",
    "        memo[n] = fibonacci_memo(n - 1, memo) + fibonacci_memo(n - 2, memo)\n",
    "        return memo[n]\n",
    "\n",
    "# 関数の呼び出し\n",
    "for i in range(10):\n",
    "    print(f\"フィボナッチ({i}) = {fibonacci_memo(i)}\")\n",
    "\n",
    "# 大きな数でも効率的に計算できる\n",
    "print(f\"フィボナッチ(50) = {fibonacci_memo(50)}\")"
   ]
  },
  {
   "cell_type": "markdown",
   "metadata": {},
   "source": [
    "## ラムダ関数（無名関数）\n",
    "\n",
    "ラムダ関数は、小さな無名関数を作成するための簡潔な方法です。"
   ]
  },
  {
   "cell_type": "code",
   "execution_count": null,
   "metadata": {},
   "outputs": [],
   "source": [
    "# 通常の関数\n",
    "def square(x):\n",
    "    return x ** 2\n",
    "\n",
    "# 同等のラムダ関数\n",
    "square_lambda = lambda x: x ** 2\n",
    "\n",
    "# 両方の関数を使用\n",
    "print(f\"square(5) = {square(5)}\")\n",
    "print(f\"square_lambda(5) = {square_lambda(5)}\")"
   ]
  },
  {
   "cell_type": "code",
   "execution_count": null,
   "metadata": {},
   "outputs": [],
   "source": [
    "# 複数の引数を持つラムダ関数\n",
    "add = lambda x, y: x + y\n",
    "multiply = lambda x, y: x * y\n",
    "\n",
    "print(f\"add(3, 5) = {add(3, 5)}\")\n",
    "print(f\"multiply(3, 5) = {multiply(3, 5)}\")"
   ]
  },
  {
   "cell_type": "code",
   "execution_count": null,
   "metadata": {},
   "outputs": [],
   "source": [
    "# ラムダ関数の使用例（ソート）\n",
    "fish_data = [\n",
    "    {\"name\": \"マグロ\", \"weight\": 80, \"length\": 150},\n",
    "    {\"name\": \"サケ\", \"weight\": 5, \"length\": 75},\n",
    "    {\"name\": \"タイ\", \"weight\": 3, \"length\": 40},\n",
    "    {\"name\": \"ブリ\", \"weight\": 7, \"length\": 90},\n",
    "    {\"name\": \"フグ\", \"weight\": 2, \"length\": 30}\n",
    "]\n",
    "\n",
    "# 重さでソート\n",
    "sorted_by_weight = sorted(fish_data, key=lambda fish: fish[\"weight\"])\n",
    "print(\"重さでソート:\")\n",
    "for fish in sorted_by_weight:\n",
    "    print(f\"{fish['name']}: {fish['weight']}kg\")\n",
    "\n",
    "# 長さでソート\n",
    "sorted_by_length = sorted(fish_data, key=lambda fish: fish[\"length\"], reverse=True)\n",
    "print(\"\\n長さで降順ソート:\")\n",
    "for fish in sorted_by_length:\n",
    "    print(f\"{fish['name']}: {fish['length']}cm\")"
   ]
  },
  {
   "cell_type": "markdown",
   "metadata": {},
   "source": [
    "## モジュールのインポート\n",
    "\n",
    "Python では、標準ライブラリやサードパーティのライブラリからモジュールをインポートして使用することができます。"
   ]
  },
  {
   "cell_type": "markdown",
   "metadata": {},
   "source": [
    "### 基本的なインポート"
   ]
  },
  {
   "cell_type": "code",
   "execution_count": null,
   "metadata": {},
   "outputs": [],
   "source": [
    "# モジュール全体をインポート\n",
    "import math\n",
    "\n",
    "# モジュールの関数を使用\n",
    "radius = 5\n",
    "area = math.pi * math.pow(radius, 2)\n",
<response clipped><NOTE>To save on context only part of this file has been shown to you. You should retry this tool after you have searched inside the file with `grep -n` in order to find the line numbers of what you are looking for.</NOTE>