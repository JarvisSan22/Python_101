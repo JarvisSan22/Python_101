{
 "cells": [
  {
   "cell_type": "markdown",
   "metadata": {},
   "source": [
    "# セクション2: データ構造 - ワークショップノートブック\n",
    "\n",
    "このノートブックでは、Python の主要なデータ構造（リスト、タプル、集合、辞書）について学びます。対話型の例と演習を通じて、これらのデータ構造の使い方を理解していきましょう。"
   ]
  },
  {
   "cell_type": "markdown",
   "metadata": {},
   "source": [
    "## リスト (Lists)\n",
    "\n",
    "リストは Python で最も一般的に使用されるデータ構造の一つです。リストは順序付けられた変更可能なデータのコレクションで、異なる型のデータを格納することができます。"
   ]
  },
  {
   "cell_type": "markdown",
   "metadata": {},
   "source": [
    "### リストの作成と基本操作"
   ]
  },
  {
   "cell_type": "code",
   "execution_count": null,
   "metadata": {},
   "outputs": [],
   "source": [
    "# リストの作成\n",
    "fish_types = [\"マグロ\", \"サケ\", \"タイ\", \"フグ\"]\n",
    "print(\"魚のリスト:\", fish_types)\n",
    "\n",
    "# 異なる型のデータを含むリスト\n",
    "mixed_list = [\"コイ\", 3, 25.5, True]\n",
    "print(\"混合リスト:\", mixed_list)\n",
    "\n",
    "# 空のリスト\n",
    "empty_list = []\n",
    "print(\"空のリスト:\", empty_list)\n",
    "\n",
    "# list() 関数を使用\n",
    "another_list = list(\"マグロ\")\n",
    "print(\"文字列から作成したリスト:\", another_list)  # ['マ', 'グ', 'ロ']"
   ]
  },
  {
   "cell_type": "markdown",
   "metadata": {},
   "source": [
    "### リストへのアクセスと変更"
   ]
  },
  {
   "cell_type": "code",
   "execution_count": null,
   "metadata": {},
   "outputs": [],
   "source": [
    "fish_types = [\"マグロ\", \"サケ\", \"タイ\", \"フグ\", \"サバ\"]\n",
    "\n",
    "# インデックスによるアクセス（0から始まる）\n",
    "print(\"最初の魚:\", fish_types[0])  # マグロ\n",
    "print(\"3番目の魚:\", fish_types[2])  # タイ\n",
    "\n",
    "# 負のインデックス（末尾から数える）\n",
    "print(\"最後の魚:\", fish_types[-1])  # サバ\n",
    "print(\"最後から2番目の魚:\", fish_types[-2])  # フグ\n",
    "\n",
    "# 要素の変更\n",
    "fish_types[1] = \"カツオ\"\n",
    "print(\"変更後のリスト:\", fish_types)  # ['マグロ', 'カツオ', 'タイ', 'フグ', 'サバ']"
   ]
  },
  {
   "cell_type": "markdown",
   "metadata": {},
   "source": [
    "### リストのスライス\n",
    "\n",
    "スライスを使用すると、リストの一部を取得することができます。構文は `list[start:end:step]` です。"
   ]
  },
  {
   "cell_type": "code",
   "execution_count": null,
   "metadata": {},
   "outputs": [],
   "source": [
    "fish_types = [\"マグロ\", \"サケ\", \"タイ\", \"フグ\", \"サバ\", \"イワシ\", \"ブリ\"]\n",
    "\n",
    "# 基本的なスライス\n",
    "print(\"最初の3つの魚:\", fish_types[0:3])  # ['マグロ', 'サケ', 'タイ']\n",
    "print(\"インデックス2から4まで:\", fish_types[2:5])  # ['タイ', 'フグ', 'サバ']\n",
    "\n",
    "# 省略形\n",
    "print(\"最初から3つ:\", fish_types[:3])  # ['マグロ', 'サケ', 'タイ']\n",
    "print(\"インデックス3から最後まで:\", fish_types[3:])  # ['フグ', 'サバ', 'イワシ', 'ブリ']\n",
    "\n",
    "# ステップの指定\n",
    "print(\"1つおきの魚:\", fish_types[::2])  # ['マグロ', 'タイ', 'サバ', 'ブリ']\n",
    "print(\"逆順:\", fish_types[::-1])  # ['ブリ', 'イワシ', 'サバ', 'フグ', 'タイ', 'サケ', 'マグロ']"
   ]
  },
  {
   "cell_type": "markdown",
   "metadata": {},
   "source": [
    "### リストの操作（追加、削除、その他のメソッド）"
   ]
  },
  {
   "cell_type": "code",
   "execution_count": null,
   "metadata": {},
   "outputs": [],
   "source": [
    "fish_types = [\"マグロ\", \"サケ\", \"タイ\"]\n",
    "print(\"元のリスト:\", fish_types)\n",
    "\n",
    "# 要素の追加\n",
    "fish_types.append(\"フグ\")\n",
    "print(\"append 後:\", fish_types)  # ['マグロ', 'サケ', 'タイ', 'フグ']\n",
    "\n",
    "# 特定の位置に挿入\n",
    "fish_types.insert(1, \"カツオ\")\n",
    "print(\"insert 後:\", fish_types)  # ['マグロ', 'カツオ', 'サケ', 'タイ', 'フグ']\n",
    "\n",
    "# リストの結合\n",
    "more_fish = [\"サバ\", \"イワシ\"]\n",
    "fish_types.extend(more_fish)\n",
    "print(\"extend 後:\", fish_types)  # ['マグロ', 'カツオ', 'サケ', 'タイ', 'フグ', 'サバ', 'イワシ']\n",
    "\n",
    "# 要素の削除（値で指定）\n",
    "fish_types.remove(\"サケ\")\n",
    "print(\"remove 後:\", fish_types)  # ['マグロ', 'カツオ', 'タイ', 'フグ', 'サバ', 'イワシ']\n",
    "\n",
    "# 要素の削除（インデックスで指定）\n",
    "del fish_types[2]\n",
    "print(\"del 後:\", fish_types)  # ['マグロ', 'カツオ', 'フグ', 'サバ', 'イワシ']\n",
    "\n",
    "# 最後の要素を取り出して削除\n",
    "last_fish = fish_types.pop()\n",
    "print(\"取り出した魚:\", last_fish)  # イワシ\n",
    "print(\"pop 後:\", fish_types)  # ['マグロ', 'カツオ', 'フグ', 'サバ']\n",
    "\n",
    "# 特定のインデックスの要素を取り出して削除\n",
    "second_fish = fish_types.pop(1)\n",
    "print(\"取り出した2番目の魚:\", second_fish)  # カツオ\n",
    "print(\"pop(1) 後:\", fish_types)  # ['マグロ', 'フグ', 'サバ']"
   ]
  },
  {
   "cell_type": "code",
   "execution_count": null,
   "metadata": {},
   "outputs": [],
   "source": [
    "fish_types = [\"マグロ\", \"サケ\", \"タイ\", \"フグ\", \"サバ\"]\n",
    "print(\"元のリスト:\", fish_types)\n",
    "\n",
    "# リストの長さ\n",
    "print(\"リストの長さ:\", len(fish_types))  # 5\n",
    "\n",
    "# 要素のカウント\n",
    "fish_basket = [\"マグロ\", \"サケ\", \"マグロ\", \"タイ\", \"マグロ\", \"フグ\"]\n",
    "print(\"マグロの数:\", fish_basket.count(\"マグロ\"))  # 3\n",
    "\n",
    "# 要素のインデックスを検索\n",
    "print(\"タイのインデックス:\", fish_types.index(\"タイ\"))  # 2\n",
    "\n",
    "# リストのソート\n",
    "fish_types.sort()\n",
    "print(\"ソート後:\", fish_types)  # ['サケ', 'サバ', 'タイ', 'フグ', 'マグロ']\n",
    "\n",
    "# リストの逆順\n",
    "fish_types.reverse()\n",
    "print(\"逆順後:\", fish_types)  # ['マグロ', 'フグ', 'タイ', 'サバ', 'サケ']\n",
    "\n",
    "# リストのコピー\n",
    "fish_copy = fish_types.copy()\n",
    "print(\"コピーしたリスト:\", fish_copy)  # ['マグロ', 'フグ', 'タイ', 'サバ', 'サケ']\n",
    "\n",
    "# リストのクリア\n",
    "fish_types.clear()\n",
    "print(\"クリア後:\", fish_types)  # []\n",
    "print(\"コピーしたリスト（変更なし）:\", fish_copy)  # ['マグロ', 'フグ', 'タイ', 'サバ', 'サケ']"
   ]
  },
  {
   "cell_type": "markdown",
   "metadata": {},
   "source": [
    "### リストの内包表記\n",
    "\n",
    "リストの内包表記（List Comprehension）は、既存のリストから新しいリストを生成するための簡潔な方法です。"
   ]
  },
  {
   "cell_type": "code",
   "execution_count": null,
   "metadata": {},
   "outputs": [],
   "source": [
    "# 基本的な内包表記\n",
    "squares = [x**2 for x in range(10)]\n",
    "print(\"0から9までの2乗:\", squares)  # [0, 1, 4, 9, 16, 25, 36, 49, 64, 81]\n",
    "\n",
    "# 条件付き内包表記\n",
    "even_squares = [x**2 for x in range(10) if x % 2 == 0]\n",
    "print(\"偶数の2乗:\", even_squares)  # [0, 4, 16, 36, 64]\n",
    "\n",
    "# 魚の例\n",
    "fish_lengths = [15, 25, 10, 30, 20]\n",
    "big_fish = [length for length in fish_lengths if length > 20]\n",
    "print(\"20cmより大きい魚の長さ:\", big_fish)  # [25, 30]\n",
    "\n",
    "# 文字列のリストを操作\n",
    "fish_types = [\"マグロ\", \"サケ\", \"タイ\", \"フグ\", \"サバ\"]\n",
    "fish_upper = [fish.upper() for fish in fish_types]\n",
    "print(\"大文字に変換:\", fish_upper)  # ['マグロ', 'サケ', 'タイ', 'フグ', 'サバ']\n",
    "\n",
    "# 複数の条件\n",
    "fish_data = [(\"マグロ\", 150), (\"サケ\", 80), (\"タイ\", 40), (\"フグ\", 30), (\"サバ\", 60)]\n",
    "selected_fish = [name for name, length in fish_data if length > 50 and name != \"サバ\"]\n",
    "print(\"50cmより大きく、サバではない魚:\", selected_fish)  # ['マグロ', 'サケ']"
   ]
  },
  {
   "cell_type": "markdown",
   "metadata": {},
   "source": [
    "### 演習1: リスト操作\n",
    "\n",
    "以下の演習を行ってください：\n",
    "1. 5種類の日本の魚のリストを作成する\n",
    "2. リストの3番目の要素を別の魚に変更する\n",
    "3. リストの最後に新しい魚を追加する\n",
    "4. リストの最初に新しい魚を挿入する\n",
    "5. リストから特定の魚を削除する\n",
    "6. リストをアルファベット順にソートする\n",
    "7. リストを逆順にする\n",
    "8. リスト内包表記を使用して、4文字以上の名前を持つ魚のみを含む新しいリストを作成する"
   ]
  },
  {
   "cell_type": "code",
   "execution_count": null,
   "metadata": {},
   "outputs": [],
   "source": [
    "# ここにコードを書いてください\n"
   ]
  },
  {
   "cell_type": "markdown",
   "metadata": {},
   "source": [
    "## タプル (Tuples)\n",
    "\n",
    "タプルはリストと似ていますが、作成後に変更することができません（イミュータブル）。タプルは丸括弧 `()` で作成します。"
   ]
  },
  {
   "cell_type": "markdown",
   "metadata": {},
   "source": [
    "### タプルの作成と基本操作"
   ]
  },
  {
   "cell_type": "code",
   "execution_count": null,
   "metadata": {},
   "outputs": [],
   "source": [
    "# タプルの作成\n",
    "fish_data = (\"マグロ\", 25.5, 3)\n",
    "print(\"魚のデータ:\", fish_data)\n",
    "\n",
    "# 単一要素のタプル（カンマが必要）\n",
    "single_fish = (\"コイ\",)\n",
    "print(\"単一要素のタプル:\", single_fish)\n",
    "print(\"これはタプルではなく文字列:\", (\"コイ\"))  # カンマがないと文字列になる\n",
    "\n",
    "# tuple() 関数を使用\n",
    "fish_tuple = tuple([\"マグロ\", \"サケ\", \"タイ\"])\n",
    "print(\"リストから作成したタプル:\", fish_tuple)\n",
    "\n",
    "# タプルの長さ\n",
    "print(\"タプルの長さ:\", len(fish_data))  # 3"
   ]
  },
  {
   "cell_type": "markdown",
   "metadata": {},
   "source": [
    "### タプルへのアクセスとスライス"
   ]
  },
  {
   "cell_type": "code",
   "execution_count": null,
   "metadata": {},
   "outputs": [],
   "source": [
    "fish_tuple = (\"マグロ\", \"サケ\", \"タイ\", \"フグ\", \"サバ\")\n",
    "\n",
    "# インデックスによるアクセス\n",
    "print(\"最初の魚:\", fish_tuple[0])  # マグロ\n",
    "print(\"最後の魚:\", fish_tuple[-1])  # サバ\n",
    "\n",
    "# スライス\n",
    "print(\"最初の3つの魚:\", fish_tuple[:3])  # ('マグロ', 'サケ', 'タイ')\n",
    "print(\"1つおきの魚:\", fish_tuple[::2])  # ('マグロ', 'タイ', 'サバ')\n",
    "\n",
    "# タプルは変更不可能\n",
    "try:\n",
    "    fish_tuple[0] = \"カツオ\"  # これはエラーになる\n",
    "except TypeError as e:\n",
    "    print(\"エラー:\", e)  # 'tuple' object does not support item assignment"
   ]
  },
  {
   "cell_type": "markdown",
   "metadata": {},
   "source": [
    "### タプルの操作"
   ]
  },
  {
   "cell_type": "code",
   "execution_count": null,
   "metadata": {},
   "outputs": [],
   "source": [
    "fish_data = (\"マグロ\", 25.5, 3)\n",
    "more_data = (\"新鮮\", True)\n",
    "\n",
    "# タプルの結合\n",
    "combined = fish_data + more_data\n",
    "print(\"結合したタプル:\", combined)  # ('マグロ', 25.5, 3, '新鮮', True)\n",
    "\n",
    "# タプルの繰り返し\n",
    "repeated = (\"コイ\",) * 3\n",
    "print(\"繰り返したタプル:\", repeated)  # ('コイ', 'コイ', 'コイ')\n",
    "\n",
    "# 要素のカウント\n",
    "fish_basket = (\"マグロ\", \"サケ\", \"マグロ\", \"タイ\", \"マグロ\", \"フグ\")\n",
    "print(\"マグロの数:\", fish_basket.count(\"マグロ\"))  # 3\n",
    "\n",
    "# 要素のインデックスを検索\n",
    "print(\"タイのインデックス:\", fish_basket.index(\"タイ\"))  # 3"
   ]
  },
  {
   "cell_type": "markdown",
   "metadata": {},
   "source": [
    "### タプルのアンパック"
   ]
  },
  {
   "cell_type": "code",
   "execution_count": null,
   "metadata": {},
   "outputs": [],
   "source": [
    "fish_data = (\"マグロ\", 25.5, 3)\n",
    "\n",
    "# タプルのアンパック\n",
    "name, length, age = fish_data\n",
    "print(\"名前:\", name)    # マグロ\n",
    "print(\"長さ:\", length)  # 25.5\n",
    "print(\"年齢:\", age)     # 3\n",
    "\n",
    "# 一部の要素を無視\n",
    "name, _, _ = fish_data\n",
    "print(\"名前のみ:\", name)  # マグロ\n",
    "\n",
    "# 残りの要素をリストとして取得\n",
    "first, *rest = fish_data\n",
    "print(\"最初の要素:\", first)  # マグロ\n",
    "print(\"残りの要素:\", rest)   # [25.5, 3]"
   ]
  },
  {
   "cell_type": "markdown",
   "metadata": {},
   "source": [
    "### タプルの使用例"
   ]
  },
  {
   "cell_type": "code",
   "execution_count": null,
   "metadata": {},
   "outputs": [],
   "source": [
    "# 関数から複数の値を返す\n",
    "def get_fish_stats():\n",
    "    return \"マグロ\", 25.5, 3\n",
    "\n",
    "name, length, age = get_fish_stats()\n",
    "print(f\"{name}は{age}歳で、長さは{length}cmです。\")\n",
    "\n",
    "# 辞書のキーとしてのタプル\n",
    "locations = {\n",
    "    (35.6895, 139.6917): \"東京湾\",\n",
    "    (34.6937, 135.5022): \"大阪湾\",\n",
    "    (43.0618, 141.3545): \"札幌近海\"\n",
    "}\n",
    "print(\"東京湾の座標:\", locations[(35.6895, 139.6917)])"
   ]
  },
  {
   "cell_type": "markdown",
   "metadata": {},
   "source": [
    "### 演習2: タプル操作\n",
    "\n",
    "以下の演習を行ってください：\n",
    "1. 魚の名前、長さ、重さを含むタプルを作成する\n",
    "2. タプルの各要素にアクセスして表示する\n",
    "3. タプルをアンパックして変数に代入する\n",
    "4. 複数の魚のデータを含むタプルのリストを作成する\n",
    "5. タプルのリストをループして、各魚の情報を表示する"
   ]
  },
  {
   "cell_type": "code",
   "execution_count": null,
   "metadata": {},
   "outputs": [],
   "source": [
    "# ここにコードを書いてください\n"
   ]
  },
  {
   "cell_type": "markdown",
   "metadata": {},
   "source": [
    "## 集合 (Sets)\n",
    "\n",
    "集合は順序なしの一意な要素のコレクションです。集合は重複を許さず、数学的な集合演算をサポートしています。"
   ]
  },
  {
   "cell_type": "markdown",
   "metadata": {},
   "source": [
    "### 集合の作成と基本操作"
   ]
  },
  {
   "cell_type": "code",
   "execution_count": null,
   "metadata": {},
   "outputs": [],
   "source": [
    "# 集合の作成\n",
    "fish_types = {\"マグロ\", \"サケ\", \"タイ\", \"フグ\", \"マグロ\"}\n",
    "print(\"魚の集合:\", fish_types)  # 重複は自動的に削除される\n",
    "\n",
    "# 空の集合\n",
    "empty_set = set()  # 注意: {} は空の辞書を作成する\n",
    "print(\"空の集合:\", empty_set)\n",
    "\n",
    "# リストから集合を作成\n",
    "fish_list = [\"マグロ\", \"サケ\", \"タイ\", \"フグ\", \"マグロ\", \"サケ\"]\n",
    "fish_set = set(fish_list)\n",
    "print(\"リストから作成した集合:\", fish_set)  # 重複は削除される\n",
    "\n",
    "# 集合の長さ\n",
    "print(\"集合の長さ:\", len(fish_set))  # 4"
   ]
  },
  {
   "cell_type": "markdown",
   "metadata": {},
   "source": [
    "### 集合の操作（追加、削除）"
   ]
  },
  {
   "cell_type": "code",
   "execution_count": null,
   "metadata": {},
   "outputs": [],
   "source": [
    "fish_set = {\"マグロ\", \"サケ\", \"タイ\"}\n",
    "print(\"元の集合:\", fish_set)\n",
    "\n",
    "# 要素の追加\n",
    "fish_set.add(\"フグ\")\n",
    "print(\"add 後:\", fish_set)\n",
    "\n",
    "# 複数の要素を追加\n",
    "fish_set.update([\"サバ\", \"イワシ\", \"ブリ\"])\n",
    "print(\"update 後:\", fish_set)\n",
    "\n",
    "# 要素の削除\n",
    "fish_set.remove(\"サケ\")  # 要素が存在しない場合はエラー\n",
    "print(\"remove 後:\", fish_set)\n",
    "\n",
    "# 要素の削除（エラーにならない）\n",
    "fish_set.discard(\"カツオ\")  # 要素が存在しない場合もエラーにならない\n",
    "fish_set.discard(\"タイ\")\n",
    "print(\"discard 後:\", fish_set)\n",
    "\n",
    "# 任意の要素を取り出して削除\n",
    "popped = fish_set.pop()\n",
    "print(\"取り出した要素:\", popped)\n",
    "print(\"pop 後:\", fish_set)\n",
    "\n",
    "# 集合のクリア\n",
    "fish_set.clear()\n",
    "print(\"clear 後:\", fish_set)  # set()"
   ]
  },
  {
   "cell_type": "markdown",
   "metadata": {},
   "source": [
    "### 集合の演算"
   ]
  },
  {
   "cell_type": "code",
   "execution_count": null,
   "metadata": {},
   "outputs": [],
   "source": [
    "freshwater_fish = {\"コイ\", \"フナ\", \"ウナギ\", \"アユ\"}\n",
    "saltwater_fish = {\"マグロ\", \"サケ\", \"タイ\", \"フグ\", \"ウナギ\"}\n",
    "\n",
    "print(\"淡水魚:\", freshwater_fish)\n",
    "print(\"海水魚:\", saltwater_fish)\n",
    "\n",
    "# 和集合 (Union)\n",
    "all_fish = freshwater_fish | saltwater_fish\n",
    "print(\"すべての魚 (|):\", all_fish)\n",
    "\n",
    "# union() メソッドを使用\n",
    "all_fish = freshwater_fish.union(saltwater_fish)\n",
    "print(\"すべての魚 (union):\", all_fish)\n",
    "\n",
    "# 積集合 (Intersection)\n",
    "common_fish = freshwater_fish & saltwater_fish\n",
    "print(\"共通の魚 (&):\", common_fish)\n",
    "\n",
    "# intersection() メソッドを使用\n",
    "common_fish = freshwater_fish.intersection(saltwater_fish)\n",
    "print(\"共通の魚 (intersection):\", common_fish)\n",
    "\n",
    "# 差集合 (Difference)\n",
    "only_freshwater = freshwater_fish - saltwater_fish\n",
    "print(\"淡水魚のみ (-):\", only_freshwater)\n",
    "\n",
    "# difference() メソッドを使用\n",
    "only_saltwater = saltwater_fish.difference(freshwater_fish)\n",
    "print(\"海水魚のみ (difference):\", only_saltwater)\n",
    "\n",
    "# 対称差 (Symmetric Difference)\n",
    "exclusive_fish = freshwater_fish ^ saltwater_fish\n",
    "print(\"排他的な魚 (^):\", exclusive_fish)\n",
    "\n",
    "# symmetric_difference() メソッドを使用\n",
    "exclusive_fish = freshwater_fish.symmetric_difference(saltwater_fish)\n",
    "print(\"排他的な魚 (symmetric_difference):\", exclusive_fish)"
   ]
  },
  {
   "cell_type": "markdown",
   "metadata": {},
   "source": [
    "### 集合の包含関係"
   ]
  },
  {
   "cell_type": "code",
   "execution_count": null,
   "metadata": {},
   "outputs": [],
   "source": [
    "fish_types = {\"マグロ\", \"サケ\", \"タイ\", \"フグ\", \"ウナギ\"}\n",
    "tuna_types = {\"クロマグロ\", \"キハダマグロ\", \"ビンナガマグロ\"}\n",
    "sushi_fish = {\"マグロ\", \"サケ\", \"タイ\"}\n",
    "\n",
    "# 部分集合 (Subset)\n",
    "print(\"寿司の魚は魚の種類の部分集合か (issubset):\", sushi_fish.issubset(fish_types))  # True\n",
    "print(\"寿司の魚は魚の種類の部分集合か (<=):\", sushi_fish <= fish_types)  # True\n",
    "\n",
    "# 真部分集合 (Proper Subset)\n",
    "print(\"寿司の魚は魚の種類の真部分集合か (<):\", sushi_fish < fish_types)  # True\n",
    "\n",
    "# 上位集合 (Superset)\n",
    "print(\"魚の種類は寿司の魚の上位集合か (issuperset):\", fish_types.issuperset(sushi_fish))  # True\n",
    "print(\"魚の種類は寿司の魚の上位集合か (>=):\", fish_types >= sushi_fish)  # True\n",
    "\n",
    "# 真上位集合 (Proper Superset)\n",
    "print(<response clipped><NOTE>To save on context only part of this file has been shown to you. You should retry this tool after you have searched inside the file with `grep -n` in order to find the line numbers of what you are looking for.</NOTE>