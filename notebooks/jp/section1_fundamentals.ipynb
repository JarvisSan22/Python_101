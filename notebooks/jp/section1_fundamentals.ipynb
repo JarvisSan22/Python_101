{
 "cells": [
  {
   "cell_type": "markdown",
   "metadata": {},
   "source": [
    "# セクション1: Python の基礎 - ワークショップノートブック\n",
    "\n",
    "このノートブックでは、Python プログラミングの基礎を学びます。対話型の例と演習を通じて、Python の基本的な概念を理解していきましょう。"
   ]
  },
  {
   "cell_type": "markdown",
   "metadata": {},
   "source": [
    "## Python とは？\n",
    "\n",
    "Python は読みやすく書きやすい高水準プログラミング言語です。Web開発、データ分析、人工知能、自動化など、さまざまな用途に使用されています。\n",
    "\n",
    "Python の特徴：\n",
    "- 読みやすい構文\n",
    "- 幅広い用途\n",
    "- 豊富なライブラリとフレームワーク\n",
    "- 活発なコミュニティ\n",
    "- 初心者に優しい"
   ]
  },
  {
   "cell_type": "markdown",
   "metadata": {},
   "source": [
    "## 最初の Python プログラム\n",
    "\n",
    "Python では、`print()` 関数を使って画面に出力することができます。以下のセルを実行して、最初の Python プログラムを動かしてみましょう。"
   ]
  },
  {
   "cell_type": "code",
   "execution_count": null,
   "metadata": {},
   "outputs": [],
   "source": [
    "print(\"こんにちは、世界！\")\n",
    "print(\"Python プログラミングへようこそ！\")"
   ]
  },
  {
   "cell_type": "markdown",
   "metadata": {},
   "source": [
    "## コメント\n",
    "\n",
    "Python では、コードにコメントを追加することができます。コメントはプログラムの実行には影響せず、コードの説明や注釈として使用されます。"
   ]
  },
  {
   "cell_type": "code",
   "execution_count": null,
   "metadata": {},
   "outputs": [],
   "source": [
    "# これは一行コメントです\n",
    "print(\"コメントはプログラムの実行には影響しません\")\n",
    "\n",
    "\"\"\"これは複数行コメントです。\n",
    "ドキュメンテーション文字列（docstring）としても使用されます。\n",
    "複数行にわたって書くことができます。\n",
    "\"\"\"\n",
    "print(\"複数行コメントの後の出力\")"
   ]
  },
  {
   "cell_type": "markdown",
   "metadata": {},
   "source": [
    "## 変数と代入\n",
    "\n",
    "変数はデータを格納するためのコンテナです。Python では、変数を宣言する際に型を指定する必要はありません。"
   ]
  },
  {
   "cell_type": "code",
   "execution_count": null,
   "metadata": {},
   "outputs": [],
   "source": [
    "# 変数の宣言と代入\n",
    "fish_name = \"コイ\"\n",
    "fish_age = 3\n",
    "fish_length = 25.5\n",
    "is_healthy = True\n",
    "\n",
    "# 変数の使用\n",
    "print(\"魚の名前:\", fish_name)\n",
    "print(\"魚の年齢:\", fish_age, \"歳\")\n",
    "print(\"魚の長さ:\", fish_length, \"cm\")\n",
    "print(\"健康状態:\", is_healthy)"
   ]
  },
  {
   "cell_type": "markdown",
   "metadata": {},
   "source": [
    "### 演習 1: 変数の作成と使用\n",
    "\n",
    "以下のセルに、別の魚に関する情報を格納する変数を作成し、それらを出力してみましょう。"
   ]
  },
  {
   "cell_type": "code",
   "execution_count": null,
   "metadata": {},
   "outputs": [],
   "source": [
    "# ここにコードを書いてください\n",
    "# 例: 魚の名前、種類、重さ、色などの情報を変数に格納し、出力する"
   ]
  },
  {
   "cell_type": "markdown",
   "metadata": {},
   "source": [
    "## データ型\n",
    "\n",
    "Python には以下のような基本的なデータ型があります：\n",
    "- 整数 (int): 1, 100, -10\n",
    "- 浮動小数点数 (float): 3.14, -0.001\n",
    "- 文字列 (str): \"こんにちは\", 'Python'\n",
    "- ブール値 (bool): True, False\n",
    "\n",
    "`type()` 関数を使用して、変数のデータ型を確認することができます。"
   ]
  },
  {
   "cell_type": "code",
   "execution_count": null,
   "metadata": {},
   "outputs": [],
   "source": [
    "# 型の確認\n",
    "print(type(fish_name))   # <class 'str'>\n",
    "print(type(fish_age))    # <class 'int'>\n",
    "print(type(fish_length)) # <class 'float'>\n",
    "print(type(is_healthy))  # <class 'bool'>"
   ]
  },
  {
   "cell_type": "markdown",
   "metadata": {},
   "source": [
    "### 型変換\n",
    "\n",
    "Python では、あるデータ型から別のデータ型に変換することができます。"
   ]
  },
  {
   "cell_type": "code",
   "execution_count": null,
   "metadata": {},
   "outputs": [],
   "source": [
    "# 型変換\n",
    "age_str = str(fish_age)  # 整数から文字列へ\n",
    "print(age_str, type(age_str))\n",
    "\n",
    "length_int = int(fish_length)  # 浮動小数点数から整数へ（小数点以下は切り捨て）\n",
    "print(length_int, type(length_int))\n",
    "\n",
    "age_float = float(fish_age)  # 整数から浮動小数点数へ\n",
    "print(age_float, type(age_float))\n",
    "\n",
    "# 文字列から数値への変換\n",
    "number_str = \"42\"\n",
    "number_int = int(number_str)\n",
    "print(number_int, type(number_int))"
   ]
  },
  {
   "cell_type": "markdown",
   "metadata": {},
   "source": [
    "### 演習 2: 型変換\n",
    "\n",
    "以下のセルで、さまざまな型変換を試してみましょう。"
   ]
  },
  {
   "cell_type": "code",
   "execution_count": null,
   "metadata": {},
   "outputs": [],
   "source": [
    "# ここにコードを書いてください\n",
    "# 例: 文字列を数値に変換したり、数値を文字列に変換したりする"
   ]
  },
  {
   "cell_type": "markdown",
   "metadata": {},
   "source": [
    "## 基本的な演算\n",
    "\n",
    "Python では、さまざまな演算子を使用して計算を行うことができます。"
   ]
  },
  {
   "cell_type": "markdown",
   "metadata": {},
   "source": [
    "### 算術演算子"
   ]
  },
  {
   "cell_type": "code",
   "execution_count": null,
   "metadata": {},
   "outputs": [],
   "source": [
    "# 基本的な算術演算\n",
    "a = 10\n",
    "b = 3\n",
    "\n",
    "print(\"a =\", a)\n",
    "print(\"b =\", b)\n",
    "print(\"a + b =\", a + b)  # 加算: 13\n",
    "print(\"a - b =\", a - b)  # 減算: 7\n",
    "print(\"a * b =\", a * b)  # 乗算: 30\n",
    "print(\"a / b =\", a / b)  # 除算: 3.3333...\n",
    "print(\"a // b =\", a // b)  # 整数除算: 3\n",
    "print(\"a % b =\", a % b)  # 剰余: 1\n",
    "print(\"a ** b =\", a ** b)  # べき乗: 1000"
   ]
  },
  {
   "cell_type": "markdown",
   "metadata": {},
   "source": [
    "### 比較演算子"
   ]
  },
  {
   "cell_type": "code",
   "execution_count": null,
   "metadata": {},
   "outputs": [],
   "source": [
    "a = 10\n",
    "b = 3\n",
    "\n",
    "print(\"a =\", a)\n",
    "print(\"b =\", b)\n",
    "print(\"a == b:\", a == b)  # 等しい: False\n",
    "print(\"a != b:\", a != b)  # 等しくない: True\n",
    "print(\"a > b:\", a > b)    # より大きい: True\n",
    "print(\"a < b:\", a < b)    # より小さい: False\n",
    "print(\"a >= b:\", a >= b)  # 以上: True\n",
    "print(\"a <= b:\", a <= b)  # 以下: False"
   ]
  },
  {
   "cell_type": "markdown",
   "metadata": {},
   "source": [
    "### 論理演算子"
   ]
  },
  {
   "cell_type": "code",
   "execution_count": null,
   "metadata": {},
   "outputs": [],
   "source": [
    "x = True\n",
    "y = False\n",
    "\n",
    "print(\"x =\", x)\n",
    "print(\"y =\", y)\n",
    "print(\"x and y:\", x and y)  # 論理積 (AND): False\n",
    "print(\"x or y:\", x or y)    # 論理和 (OR): True\n",
    "print(\"not x:\", not x)      # 否定 (NOT): False\n",
    "\n",
    "# 実際の例\n",
    "is_koi = True\n",
    "is_large = False\n",
    "is_healthy = True\n",
    "\n",
    "is_valuable = is_koi and is_large  # False\n",
    "needs_attention = is_large or not is_healthy  # False\n",
    "\n",
    "print(\"\\n実際の例:\")\n",
    "print(\"コイですか?\", is_koi)\n",
    "print(\"大きいですか?\", is_large)\n",
    "print(\"健康ですか?\", is_healthy)\n",
    "print(\"価値がありますか?\", is_valuable)\n",
    "print(\"注意が必要ですか?\", needs_attention)"
   ]
  },
  {
   "cell_type": "markdown",
   "metadata": {},
   "source": [
    "### 代入演算子"
   ]
  },
  {
   "cell_type": "code",
   "execution_count": null,
   "metadata": {},
   "outputs": [],
   "source": [
    "# 基本的な代入\n",
    "x = 10\n",
    "print(\"初期値 x =\", x)\n",
    "\n",
    "# 複合代入演算子\n",
    "x += 5   # x = x + 5 と同じ\n",
    "print(\"x += 5 後の x =\", x)  # 15\n",
    "\n",
    "x -= 3   # x = x - 3 と同じ\n",
    "print(\"x -= 3 後の x =\", x)  # 12\n",
    "\n",
    "x *= 2   # x = x * 2 と同じ\n",
    "print(\"x *= 2 後の x =\", x)  # 24\n",
    "\n",
    "x /= 4   # x = x / 4 と同じ\n",
    "print(\"x /= 4 後の x =\", x)  # 6.0\n",
    "\n",
    "x //= 2  # x = x // 2 と同じ\n",
    "print(\"x //= 2 後の x =\", x)  # 3.0\n",
    "\n",
    "x %= 2   # x = x % 2 と同じ\n",
    "print(\"x %= 2 後の x =\", x)  # 1.0\n",
    "\n",
    "x **= 3  # x = x ** 3 と同じ\n",
    "print(\"x **= 3 後の x =\", x)  # 1.0"
   ]
  },
  {
   "cell_type": "markdown",
   "metadata": {},
   "source": [
    "### 演習 3: 演算子の使用\n",
    "\n",
    "以下のセルで、さまざまな演算子を使用して計算を行ってみましょう。魚の成長率や給餌量の計算など、実際の例を考えてみてください。"
   ]
  },
  {
   "cell_type": "code",
   "execution_count": null,
   "metadata": {},
   "outputs": [],
   "source": [
    "# ここにコードを書いてください\n",
    "# 例: 魚の成長率や給餌量の計算"
   ]
  },
  {
   "cell_type": "markdown",
   "metadata": {},
   "source": [
    "## 文字列操作\n",
    "\n",
    "Python では、文字列を様々な方法で操作することができます。"
   ]
  },
  {
   "cell_type": "markdown",
   "metadata": {},
   "source": [
    "### 文字列の作成"
   ]
  },
  {
   "cell_type": "code",
   "execution_count": null,
   "metadata": {},
   "outputs": [],
   "source": [
    "# 単一引用符または二重引用符を使用\n",
    "single_quotes = '日本の魚'\n",
    "double_quotes = \"コイとフグ\"\n",
    "\n",
    "# 三重引用符で複数行の文字列を作成\n",
    "multi_line = \"\"\"これは\n",
    "複数行の\n",
    "文字列です。\"\"\"\n",
    "\n",
    "print(single_quotes)\n",
    "print(double_quotes)\n",
    "print(multi_line)"
   ]
  },
  {
   "cell_type": "markdown",
   "metadata": {},
   "source": [
    "### 文字列の連結"
   ]
  },
  {
   "cell_type": "code",
   "execution_count": null,
   "metadata": {},
   "outputs": [],
   "source": [
    "# + 演算子を使用\n",
    "first = \"コイ\"\n",
    "second = \"フグ\"\n",
    "combined = first + \" と \" + second\n",
    "\n",
    "print(combined)  # \"コイ と フグ\"\n",
    "\n",
    "# 文字列の繰り返し\n",
    "repeated = \"魚\" * 3\n",
    "print(repeated)  # \"魚魚魚\""
   ]
  },
  {
   "cell_type": "markdown",
   "metadata": {},
   "source": [
    "### 文字列のインデックスとスライス"
   ]
  },
  {
   "cell_type": "code",
   "execution_count": null,
   "metadata": {},
   "outputs": [],
   "source": [
    "fish = \"マグロ\"\n",
    "\n",
    "# インデックス（0から始まる）\n",
    "print(\"fish =\", fish)\n",
    "print(\"fish[0] =\", fish[0])  # \"マ\"\n",
    "print(\"fish[1] =\", fish[1])  # \"グ\"\n",
    "print(\"fish[-1] =\", fish[-1])  # \"ロ\" (負のインデックスは末尾から)\n",
    "\n",
    "# スライス [開始:終了:ステップ]\n",
    "fish_types = \"マグロ、サバ、タイ、フグ\"\n",
    "print(\"\\nfish_types =\", fish_types)\n",
    "print(\"fish_types[0:6] =\", fish_types[0:6])    # \"マグロ、サ\"\n",
    "print(\"fish_types[4:] =\", fish_types[4:])     # \"サバ、タイ、フグ\"\n",
    "print(\"fish_types[:8] =\", fish_types[:8])     # \"マグロ、サバ\"\n",
    "print(\"fish_types[::2] =\", fish_types[::2])    # \"マロサタフ\""
   ]
  },
  {
   "cell_type": "markdown",
   "metadata": {},
   "source": [
    "### 文字列メソッド"
   ]
  },
  {
   "cell_type": "code",
   "execution_count": null,
   "metadata": {},
   "outputs": [],
   "source": [
    "fish = \"コイ\"\n",
    "fish_types = \"マグロ、サバ、タイ、フグ\"\n",
    "\n",
    "# 一般的なメソッド\n",
    "print(\"fish =\", fish)\n",
    "print(\"fish_types =\", fish_types)\n",
    "print(\"\\n一般的なメソッド:\")\n",
    "print(\"len(fish) =\", len(fish))               # 長さ: 2\n",
    "print(\"fish.upper() =\", fish.upper())            # 大文字に: \"コイ\"\n",
    "print(\"fish.lower() =\", fish.lower())            # 小文字に: \"こい\"\n",
    "print(\"fish_types.split('、') =\", fish_types.split(\"、\"))   # 分割: [\"マグロ\", \"サバ\", \"タイ\", \"フグ\"]\n",
    "print(\"'  魚  '.strip() =\", \"  魚  \".strip())        # 前後の空白を削除: \"魚\"\n",
    "print(\"fish_types.replace('マグロ', 'カツオ') =\", fish_types.replace(\"マグロ\", \"カツオ\"))  # 置換: \"カツオ、サバ、タイ、フグ\"\n",
    "print(\"'タイ' in fish_types =\", \"タイ\" in fish_types)     # 含まれているか: True"
   ]
  },
  {
   "cell_type": "markdown",
   "metadata": {},
   "source": [
    "### 文字列フォーマット"
   ]
  },
  {
   "cell_type": "code",
   "execution_count": null,
   "metadata": {},
   "outputs": [],
   "source": [
    "# 文字列フォーマットの例\n",
    "fish = \"コイ\"\n",
    "age = 3\n",
    "length = 25.5\n",
    "\n",
    "# % 演算子（古い方法）\n",
    "print(\"%sは%d歳で、長さは%.1fcmです。\" % (fish, age, length))\n",
    "\n",
    "# str.format() メソッド\n",
    "print(\"{}は{}歳で、長さは{:.1f}cmです。\".format(fish, age, length))\n",
    "\n",
    "# f-strings (Python 3.6+)\n",
    "print(f\"{fish}は{age}歳で、長さは{length:.1f}cmです。\")"
   ]
  },
  {
   "cell_type": "markdown",
   "metadata": {},
   "source": [
    "### 演習 4: 文字列操作\n",
    "\n",
    "以下のセルで、さまざまな文字列操作を試してみましょう。魚の種類のリストを作成し、それを操作してみてください。"
   ]
  },
  {
   "cell_type": "code",
   "execution_count": null,
   "metadata": {},
   "outputs": [],
   "source": [
    "# ここにコードを書いてください\n",
    "# 例: 魚の種類のリストを作成し、それを操作する"
   ]
  },
  {
   "cell_type": "markdown",
   "metadata": {},
   "source": [
    "## 入力と出力\n",
    "\n",
    "Python では、`print()` 関数を使って出力し、`input()` 関数を使って入力を受け取ることができます。"
   ]
  },
  {
   "cell_type": "markdown",
   "metadata": {},
   "source": [
    "### print() 関数"
   ]
  },
  {
   "cell_type": "code",
   "execution_count": null,
   "metadata": {},
   "outputs": [],
   "source": [
    "# 基本的な使用法\n",
    "print(\"こんにちは\")\n",
    "\n",
    "# 複数の値を出力\n",
    "name = \"コイ\"\n",
    "age = 3\n",
    "print(name, age)  # \"コイ 3\"\n",
    "\n",
    "# sep パラメータで区切り文字を指定\n",
    "print(name, age, sep=\": \")  # \"コイ: 3\"\n",
    "\n",
    "# end パラメータで終端文字を指定\n",
    "print(name, end=\" -> \")\n",
    "print(age)  # \"コイ -> 3\""
   ]
  },
  {
   "cell_type": "markdown",
   "metadata": {},
   "source": [
    "### input() 関数\n",
    "\n",
    "以下のセルを実行して、プロンプトに値を入力してみてください。"
   ]
  },
  {
   "cell_type": "code",
   "execution_count": null,
   "metadata": {},
   "outputs": [],
   "source": [
    "# ユーザーからの入力を取得\n",
    "name = input(\"魚の名前を入力してください: \")\n",
    "print(f\"こんにちは、{name}さん！\")"
   ]
  },
  {
   "cell_type": "code",
   "execution_count": null,
   "metadata": {},
   "outputs": [],
   "source": [
    "# 数値入力（文字列から変換が必要）\n",
    "age_str = input(\"魚の年齢を入力してください: \")\n",
    "age = int(age_str)\n",
    "print(f\"その魚は{age}歳です。\")\n",
    "\n",
    "# 一行で書く場合\n",
    "length = float(input(\"魚の長さ（cm）を入力してください: \"))\n",
    "print(f\"その魚は{length}cmです。\")"
   ]
  },
  {
   "cell_type": "markdown",
   "metadata": {},
   "source": [
    "### 演習 5: 入力と出力\n",
    "\n",
    "以下のセルで、ユーザーから魚の情報（名前、種類、長さなど）を入力として受け取り、それを整形して出力するプログラムを作成してみましょう。"
   ]
  },
  {
   "cell_type": "code",
   "execution_count": null,
   "metadata": {},
   "outputs": [],
   "source": [
    "# ここにコードを書いてください\n",
    "# 例: ユーザーから魚の情報を入力として受け取り、それを整形して出力する"
   ]
  },
  {
   "cell_type": "markdown",
   "metadata": {},
   "source": [
    "## 条件文\n",
    "\n",
    "Python では、条件に基づいてコードの実行を制御することができます。"
   ]
  },
  {
   "cell_type": "markdown",
   "metadata": {},
   "source": [
    "### if 文"
   ]
  },
  {
   "cell_type": "code",
   "execution_count": null,
   "metadata": {},
   "outputs": [],
   "source": [
    "fish_length = 25\n",
    "\n",
    "if fish_length > 20:\n",
    "    print(\"これは大きな魚です。\")"
   ]
  },
  {
   "cell_type": "markdown",
   "metadata": {},
   "source": [
    "### if-else 文"
   ]
  },
  {
   "cell_type": "code",
   "execution_count": null,
   "metadata": {},
   "outputs": [],
   "source": [
    "fish_length = 15\n",
    "\n",
    "if fish_length > 20:\n",
    "    print(\"これは大きな魚です。\")\n",
    "else:\n",
    "    print(\"これは小さな魚です。\")"
   ]
  },
  {
   "cell_type": "markdown",
   "metadata": {},
   "source": [
    "### if-elif-else 文"
   ]
  },
  {
   "cell_type": "code",
   "execution_count": null,
   "metadata": {},
   "outputs": [],
   "source": [
    "fish_length = 15\n",
    "\n",
    "if fish_length > 30:\n",
    "    print(\"これはとても大きな魚です。\")\n",
    "elif fish_length > 20:\n",
    "    print(\"これは大きな魚です。\")\n",
    "elif fish_length > 10:\n",
    "    print(\"これは中くらいの魚です。\")\n",
    "else:\n",
    "    print(\"これは小さな魚です。\")"
   ]
  },
  {
   "cell_type": "markdown",
   "metadata": {},
   "source": [
    "### 条件式（三項演算子）"
   ]
  },
  {
   "cell_type": "code",
   "execution_count": null,
   "metadata": {},
   "outputs": [],
   "source": [
    "fish_length = 25\n",
    "size = \"大きい\" if fish_length > 20 else \"小さい\"\n",
    "print(f\"この魚は{size}です。\")"
   ]
  },
  {
   "cell_type": "markdown",
   "metadata": {},
   "source": [
    "### 論理演算子を使った複合条件"
   ]
  },
  {
   "cell_type": "code",
   "execution_count": null,
   "metadata": {},
   "outputs": [],
   "source": [
    "fish_type = \"コイ\"\n",
    "fish_length = 25\n",
    "fish_weight = 3.5\n",
    "\n",
    "if fish_type == \"コイ\" and fish_length > 20:\n",
    "    print(\"これは大きなコイです。\")\n",
    "\n",
    "if fish_length > 20 or fish_weight > 4:\n",
    "    print(\"これは大きな魚です。\")\n",
    "\n",
    "if not (fish_length < 10):\n",
    "    print(\"これは小さな魚ではありません。\")"
   ]
  },
  {
   "cell_type": "markdown",
   "metadata": {},
   "source": [
    "### 演習 6: 条件文\n",
    "\n",
    "以下のセルで、魚の種類と長さに基づいて価格を決定するプログラムを作成してみましょう。"
   ]
  },
  {
   "cell_type": "code",
   "execution_count": n<response clipped><NOTE>To save on context only part of this file has been shown to you. You should retry this tool after you have searched inside the file with `grep -n` in order to find the line numbers of what you are looking for.</NOTE>